{
 "cells": [
  {
   "cell_type": "markdown",
   "metadata": {},
   "source": [
    "# Vision Transformers\n",
    "\n",
    "[Paper here](https://arxiv.org/pdf/2010.11929)\n"
   ]
  },
  {
   "cell_type": "code",
   "execution_count": null,
   "metadata": {},
   "outputs": [],
   "source": [
    "# %cd \"Deep-Learning-From-Scratch/Generative Models/Pix2Pix\""
   ]
  },
  {
   "cell_type": "code",
   "execution_count": 1,
   "metadata": {},
   "outputs": [],
   "source": [
    "from rich import print\n",
    "from tqdm.notebook import tqdm\n",
    "\n",
    "%load_ext rich"
   ]
  },
  {
   "cell_type": "code",
   "execution_count": 2,
   "metadata": {},
   "outputs": [],
   "source": [
    "import os\n",
    "import random\n",
    "\n",
    "import matplotlib.pyplot as plt\n",
    "import numpy as np\n",
    "import torch\n",
    "import torch.nn.functional as F\n",
    "from PIL import Image\n",
    "from torch import nn\n",
    "from torch.utils.data import DataLoader, Dataset, random_split\n",
    "from torchvision.datasets import CIFAR100\n",
    "from torchvision.transforms import v2\n",
    "from torchvision.utils import make_grid\n",
    "\n",
    "# import wandb\n",
    "\n",
    "device = torch.device(\"cuda\" if torch.cuda.is_available() else \"cpu\")"
   ]
  },
  {
   "cell_type": "code",
   "execution_count": 3,
   "metadata": {},
   "outputs": [],
   "source": [
    "# wandb.require('core')\n",
    "# wandb.login()"
   ]
  },
  {
   "cell_type": "code",
   "execution_count": 78,
   "metadata": {},
   "outputs": [],
   "source": [
    "# Hyperparameters\n",
    "NUM_CLASSES = 100\n",
    "PATCH_SIZE = 4\n",
    "NUM_BLOCKS = 12\n",
    "DIM_EMBEDDING = 768\n",
    "DIM_HIDDEN = DIM_EMBEDDING * 4\n",
    "NUM_HEADS = 12\n",
    "DROPOUT_RATE = 0.3\n",
    "IMAGE_SHAPE = (3, 32, 32)\n",
    "\n",
    "BATCH_SIZE = 64\n",
    "N_EPOCHS = 50\n",
    "LEARNING_RATE = 2e-4"
   ]
  },
  {
   "cell_type": "markdown",
   "metadata": {},
   "source": [
    "## Load the dataset\n"
   ]
  },
  {
   "cell_type": "code",
   "execution_count": 5,
   "metadata": {},
   "outputs": [],
   "source": [
    "true_labels = [\n",
    "    \"apple\",\n",
    "    \"aquarium_fish\",\n",
    "    \"baby\",\n",
    "    \"bear\",\n",
    "    \"beaver\",\n",
    "    \"bed\",\n",
    "    \"bee\",\n",
    "    \"beetle\",\n",
    "    \"bicycle\",\n",
    "    \"bottle\",\n",
    "    \"bowl\",\n",
    "    \"boy\",\n",
    "    \"bridge\",\n",
    "    \"bus\",\n",
    "    \"butterfly\",\n",
    "    \"camel\",\n",
    "    \"can\",\n",
    "    \"castle\",\n",
    "    \"caterpillar\",\n",
    "    \"cattle\",\n",
    "    \"chair\",\n",
    "    \"chimpanzee\",\n",
    "    \"clock\",\n",
    "    \"cloud\",\n",
    "    \"cockroach\",\n",
    "    \"couch\",\n",
    "    \"crab\",\n",
    "    \"crocodile\",\n",
    "    \"cup\",\n",
    "    \"dinosaur\",\n",
    "    \"dolphin\",\n",
    "    \"elephant\",\n",
    "    \"flatfish\",\n",
    "    \"forest\",\n",
    "    \"fox\",\n",
    "    \"girl\",\n",
    "    \"hamster\",\n",
    "    \"house\",\n",
    "    \"kangaroo\",\n",
    "    \"keyboard\",\n",
    "    \"lamp\",\n",
    "    \"lawn_mower\",\n",
    "    \"leopard\",\n",
    "    \"lion\",\n",
    "    \"lizard\",\n",
    "    \"lobster\",\n",
    "    \"man\",\n",
    "    \"maple_tree\",\n",
    "    \"motorcycle\",\n",
    "    \"mountain\",\n",
    "    \"mouse\",\n",
    "    \"mushroom\",\n",
    "    \"oak_tree\",\n",
    "    \"orange\",\n",
    "    \"orchid\",\n",
    "    \"otter\",\n",
    "    \"palm_tree\",\n",
    "    \"pear\",\n",
    "    \"pickup_truck\",\n",
    "    \"pine_tree\",\n",
    "    \"plain\",\n",
    "    \"plate\",\n",
    "    \"poppy\",\n",
    "    \"porcupine\",\n",
    "    \"possum\",\n",
    "    \"rabbit\",\n",
    "    \"raccoon\",\n",
    "    \"ray\",\n",
    "    \"road\",\n",
    "    \"rocket\",\n",
    "    \"rose\",\n",
    "    \"sea\",\n",
    "    \"seal\",\n",
    "    \"shark\",\n",
    "    \"shrew\",\n",
    "    \"skunk\",\n",
    "    \"skyscraper\",\n",
    "    \"snail\",\n",
    "    \"snake\",\n",
    "    \"spider\",\n",
    "    \"squirrel\",\n",
    "    \"streetcar\",\n",
    "    \"sunflower\",\n",
    "    \"sweet_pepper\",\n",
    "    \"table\",\n",
    "    \"tank\",\n",
    "    \"telephone\",\n",
    "    \"television\",\n",
    "    \"tiger\",\n",
    "    \"tractor\",\n",
    "    \"train\",\n",
    "    \"trout\",\n",
    "    \"tulip\",\n",
    "    \"turtle\",\n",
    "    \"wardrobe\",\n",
    "    \"whale\",\n",
    "    \"willow_tree\",\n",
    "    \"wolf\",\n",
    "    \"woman\",\n",
    "    \"worm\",\n",
    "]\n"
   ]
  },
  {
   "cell_type": "code",
   "execution_count": 6,
   "metadata": {},
   "outputs": [
    {
     "name": "stdout",
     "output_type": "stream",
     "text": [
      "Files already downloaded and verified\n",
      "Files already downloaded and verified\n"
     ]
    }
   ],
   "source": [
    "train_dataset = CIFAR100(\n",
    "    root=\"./data/\", download=True, train=True, transform=v2.ToImage()\n",
    ")\n",
    "test_dataset = CIFAR100(\n",
    "    root=\"./data/\", download=True, train=False, transform=v2.ToImage()\n",
    ")\n"
   ]
  },
  {
   "cell_type": "code",
   "execution_count": 7,
   "metadata": {},
   "outputs": [
    {
     "data": {
      "text/html": [
       "<pre style=\"white-space:pre;overflow-x:auto;line-height:normal;font-family:Menlo,'DejaVu Sans Mono',consolas,'Courier New',monospace\"></pre>\n"
      ],
      "text/plain": []
     },
     "metadata": {},
     "output_type": "display_data"
    },
    {
     "data": {
      "text/plain": [
       "\n",
       "\u001b[1m(\u001b[0m\n",
       "    \u001b[1m(\u001b[0m\u001b[1;35marray\u001b[0m\u001b[1m(\u001b[0m\u001b[1m[\u001b[0m\u001b[1;36m0.50707516\u001b[0m, \u001b[1;36m0.48654887\u001b[0m, \u001b[1;36m0.44091784\u001b[0m\u001b[1m]\u001b[0m\u001b[1m)\u001b[0m, \u001b[1;35marray\u001b[0m\u001b[1m(\u001b[0m\u001b[1m[\u001b[0m\u001b[1;36m0.26733429\u001b[0m, \u001b[1;36m0.25643846\u001b[0m, \u001b[1;36m0.27615047\u001b[0m\u001b[1m]\u001b[0m\u001b[1m)\u001b[0m\u001b[1m)\u001b[0m,\n",
       "    \u001b[1m(\u001b[0m\u001b[1;35marray\u001b[0m\u001b[1m(\u001b[0m\u001b[1m[\u001b[0m\u001b[1;36m0.50879641\u001b[0m, \u001b[1;36m0.48739301\u001b[0m, \u001b[1;36m0.44194221\u001b[0m\u001b[1m]\u001b[0m\u001b[1m)\u001b[0m, \u001b[1;35marray\u001b[0m\u001b[1m(\u001b[0m\u001b[1m[\u001b[0m\u001b[1;36m0.26825157\u001b[0m, \u001b[1;36m0.25736374\u001b[0m, \u001b[1;36m0.27709577\u001b[0m\u001b[1m]\u001b[0m\u001b[1m)\u001b[0m\u001b[1m)\u001b[0m\n",
       "\u001b[1m)\u001b[0m"
      ]
     },
     "execution_count": 7,
     "metadata": {},
     "output_type": "execute_result"
    }
   ],
   "source": [
    "mean_pixel_train = train_dataset.data.mean(axis=(0, 1, 2)) / 255\n",
    "std_pixel_train = train_dataset.data.std(axis=(0, 1, 2)) / 255\n",
    "\n",
    "mean_pixel_test = test_dataset.data.mean(axis=(0, 1, 2)) / 255\n",
    "std_pixel_test = test_dataset.data.std(axis=(0, 1, 2)) / 255\n",
    "\n",
    "(mean_pixel_train, std_pixel_train), (mean_pixel_test, std_pixel_test)\n"
   ]
  },
  {
   "cell_type": "code",
   "execution_count": 8,
   "metadata": {},
   "outputs": [],
   "source": [
    "train_transform = v2.Compose(\n",
    "    [\n",
    "        v2.Resize((32)),\n",
    "        v2.RandomHorizontalFlip(),\n",
    "        v2.ToImage(),\n",
    "        v2.ToDtype(dtype=torch.float32, scale=True),\n",
    "        v2.Normalize(mean_pixel_train, std_pixel_train),\n",
    "    ]\n",
    ")\n",
    "\n",
    "test_transform = v2.Compose(\n",
    "    [\n",
    "        v2.Resize((32)),\n",
    "        v2.ToImage(),\n",
    "        v2.ToDtype(dtype=torch.float32, scale=True),\n",
    "        v2.Normalize(mean_pixel_test, std_pixel_test),\n",
    "    ]\n",
    ")\n"
   ]
  },
  {
   "cell_type": "code",
   "execution_count": 37,
   "metadata": {},
   "outputs": [],
   "source": [
    "def reverse_transform(x, train=True):\n",
    "    mean_pixel, std_pixel = (\n",
    "        mean_pixel_train if train else mean_pixel_test,\n",
    "        std_pixel_train if train else std_pixel_test,\n",
    "    )\n",
    "\n",
    "    x = x * torch.tensor(std_pixel, device=x.device).view(3, 1, 1) + torch.tensor(\n",
    "        mean_pixel, device=x.device\n",
    "    ).view(3, 1, 1)\n",
    "    x = v2.ToPILImage()(x)\n",
    "\n",
    "    return x"
   ]
  },
  {
   "cell_type": "code",
   "execution_count": 10,
   "metadata": {},
   "outputs": [
    {
     "name": "stdout",
     "output_type": "stream",
     "text": [
      "Files already downloaded and verified\n",
      "Files already downloaded and verified\n"
     ]
    }
   ],
   "source": [
    "full_train_dataset = CIFAR100(\n",
    "    root=\"./data/\", download=True, train=True, transform=train_transform\n",
    ")\n",
    "\n",
    "test_dataset = CIFAR100(\n",
    "    root=\"./data/\", download=True, train=False, transform=test_transform\n",
    ")"
   ]
  },
  {
   "cell_type": "code",
   "execution_count": 11,
   "metadata": {},
   "outputs": [],
   "source": [
    "# Calculate the sizes for training and validation datasets (70-30 split)\n",
    "train_size = int(0.7 * len(full_train_dataset))\n",
    "val_size = len(full_train_dataset) - train_size\n",
    "\n",
    "# Split the full training dataset into training and validation datasets\n",
    "train_dataset, val_dataset = random_split(full_train_dataset, [train_size, val_size])\n"
   ]
  },
  {
   "cell_type": "code",
   "execution_count": 12,
   "metadata": {},
   "outputs": [],
   "source": [
    "train_loader = DataLoader(train_dataset, batch_size=BATCH_SIZE, shuffle=True)\n",
    "val_loader = DataLoader(val_dataset, batch_size=BATCH_SIZE, shuffle=True)\n",
    "test_loader = DataLoader(test_dataset, batch_size=BATCH_SIZE, shuffle=True)\n"
   ]
  },
  {
   "cell_type": "code",
   "execution_count": 13,
   "metadata": {},
   "outputs": [
    {
     "data": {
      "text/html": [
       "<pre style=\"white-space:pre;overflow-x:auto;line-height:normal;font-family:Menlo,'DejaVu Sans Mono',consolas,'Courier New',monospace\"></pre>\n"
      ],
      "text/plain": []
     },
     "metadata": {},
     "output_type": "display_data"
    },
    {
     "data": {
      "text/plain": [
       "\u001b[1m(\u001b[0m\u001b[1;36m547\u001b[0m, \u001b[1;36m235\u001b[0m, \u001b[1;36m157\u001b[0m\u001b[1m)\u001b[0m"
      ]
     },
     "execution_count": 13,
     "metadata": {},
     "output_type": "execute_result"
    }
   ],
   "source": [
    "len(train_loader), len(val_loader), len(test_loader)"
   ]
  },
  {
   "cell_type": "code",
   "execution_count": 14,
   "metadata": {},
   "outputs": [
    {
     "data": {
      "text/html": [
       "<pre style=\"white-space:pre;overflow-x:auto;line-height:normal;font-family:Menlo,'DejaVu Sans Mono',consolas,'Courier New',monospace\"></pre>\n"
      ],
      "text/plain": []
     },
     "metadata": {},
     "output_type": "display_data"
    },
    {
     "data": {
      "image/png": "[encoded data removed]",
      "text/plain": [
       "\u001b[1m<\u001b[0m\u001b[1;95mFigure\u001b[0m\u001b[39m size 160\u001b[0m\u001b[1;36m0x200\u001b[0m\u001b[39m with \u001b[0m\u001b[1;36m8\u001b[0m\u001b[39m Axes\u001b[0m\u001b[1m>\u001b[0m"
      ]
     },
     "metadata": {},
     "output_type": "display_data"
    }
   ],
   "source": [
    "fig, axs = plt.subplots(1, 8, figsize=(16, 2))\n",
    "indices = torch.randperm(len(train_dataset))[:8]\n",
    "for i, idx in enumerate(indices):\n",
    "    img, label = train_dataset[idx]\n",
    "    img = reverse_transform(img, train=True)\n",
    "    axs[i].imshow(img)\n",
    "    axs[i].set_title(f\"{true_labels[label]}\")\n",
    "    axs[i].axis(\"off\")\n",
    "\n",
    "plt.show()\n"
   ]
  },
  {
   "cell_type": "markdown",
   "metadata": {},
   "source": [
    "## Build the architecture"
   ]
  },
  {
   "cell_type": "code",
   "execution_count": 15,
   "metadata": {},
   "outputs": [
    {
     "data": {
      "text/html": [
       "<pre style=\"white-space:pre;overflow-x:auto;line-height:normal;font-family:Menlo,'DejaVu Sans Mono',consolas,'Courier New',monospace\"></pre>\n"
      ],
      "text/plain": []
     },
     "metadata": {},
     "output_type": "display_data"
    },
    {
     "data": {
      "image/png": "[encoded data removed]",
      "text/plain": [
       "\u001b[1m<\u001b[0m\u001b[1;95mFigure\u001b[0m\u001b[39m size 20\u001b[0m\u001b[1;36m0x500\u001b[0m\u001b[39m with \u001b[0m\u001b[1;36m1\u001b[0m\u001b[39m Axes\u001b[0m\u001b[1m>\u001b[0m"
      ]
     },
     "metadata": {},
     "output_type": "display_data"
    }
   ],
   "source": [
    "sample_image, sample_target = train_dataset[132]\n",
    "plt.figure(figsize=(2, 5))\n",
    "plt.imshow(reverse_transform(sample_image))\n",
    "plt.title(f\"Label: {true_labels[sample_target]}\")\n",
    "plt.axis(\"off\")\n",
    "plt.show()"
   ]
  },
  {
   "cell_type": "code",
   "execution_count": 57,
   "metadata": {},
   "outputs": [],
   "source": [
    "class PatchEmbedding(nn.Module):\n",
    "    def __init__(self, patch_size, d_embd, image_shape, dropout=0.0, debug=False):\n",
    "        super(PatchEmbedding, self).__init__()\n",
    "\n",
    "        self.patch_size = patch_size\n",
    "        self.d_embd = d_embd\n",
    "\n",
    "        self.n_channels, img_height, img_width = image_shape\n",
    "        self.n_patches = (img_height // self.patch_size) * (\n",
    "            img_width // self.patch_size\n",
    "        )\n",
    "\n",
    "        self.input_dim = self.n_channels * self.patch_size * self.patch_size\n",
    "\n",
    "        self.projection = nn.Linear(self.input_dim, self.d_embd)\n",
    "\n",
    "        # [CLASS] token\n",
    "        self.cls_token = nn.Parameter(torch.randn(1, 1, self.d_embd))\n",
    "\n",
    "        # Learnabled positional embedding\n",
    "        self.pos_embedding = nn.Parameter(\n",
    "            torch.randn(1, self.n_patches + 1, self.d_embd)\n",
    "        )\n",
    "\n",
    "        self.dropout = nn.Dropout(dropout)\n",
    "\n",
    "        self.debug = debug\n",
    "\n",
    "    def _debug_print(self, tensor, name):\n",
    "        if self.debug:\n",
    "            print(f\"{name}: {tensor.shape}\")\n",
    "\n",
    "    def forward(self, x):\n",
    "        self._debug_print(x, \"[EMBEDDING] Input\")\n",
    "        b, c, h, w = x.shape\n",
    "\n",
    "        assert (\n",
    "            h % self.patch_size == 0 and w % self.patch_size == 0\n",
    "        ), \"Invalid patch size\"\n",
    "        assert c == self.n_channels, \"Invalid number of channels\"\n",
    "\n",
    "        # (B, C, H, W) -> (B, C, H // patch_size, patch_size, W // patch_size, patch_size)\n",
    "        x = x.reshape(\n",
    "            b,\n",
    "            c,\n",
    "            h // self.patch_size,\n",
    "            self.patch_size,\n",
    "            w // self.patch_size,\n",
    "            self.patch_size,\n",
    "        )\n",
    "        # (B, C, H // patch_size, patch_size, W // patch_size, patch_size) -> (B, H // patch_size, W // patch_size, C, patch_size, patch_size)\n",
    "        x = x.permute(0, 2, 4, 1, 3, 5)\n",
    "        # (B, H // patch_size, W // patch_size, C, patch_size, patch_size) -> (B, H // patch_size * W // patch_size, C * patch_size * patch_size)\n",
    "        x = x.reshape(b, -1, self.input_dim)\n",
    "        self._debug_print(x, \"[EMBEDDING] Flattened\")\n",
    "\n",
    "        x = F.layer_norm(x, (self.input_dim,))\n",
    "        x = self.projection(x)\n",
    "        self._debug_print(x, \"[EMBEDDING] Projected\")\n",
    "        x = F.layer_norm(x, (self.d_embd,))\n",
    "\n",
    "        cls_token = self.cls_token.repeat(b, 1, 1)\n",
    "        x = torch.cat([cls_token, x], dim=1)\n",
    "        self._debug_print(x, \"[EMBEDDING] CLS token\")\n",
    "\n",
    "        x += self.pos_embedding\n",
    "        self._debug_print(x, \"[EMBEDDING] POS embedding\")\n",
    "\n",
    "        x = self.dropout(x)\n",
    "\n",
    "        return x"
   ]
  },
  {
   "cell_type": "code",
   "execution_count": 58,
   "metadata": {},
   "outputs": [
    {
     "data": {
      "text/html": [
       "<pre style=\"white-space:pre;overflow-x:auto;line-height:normal;font-family:Menlo,'DejaVu Sans Mono',consolas,'Courier New',monospace\"><span style=\"font-weight: bold\">[</span>EMBEDDING<span style=\"font-weight: bold\">]</span> Input: <span style=\"color: #800080; text-decoration-color: #800080; font-weight: bold\">torch.Size</span><span style=\"font-weight: bold\">([</span><span style=\"color: #008080; text-decoration-color: #008080; font-weight: bold\">1</span>, <span style=\"color: #008080; text-decoration-color: #008080; font-weight: bold\">3</span>, <span style=\"color: #008080; text-decoration-color: #008080; font-weight: bold\">32</span>, <span style=\"color: #008080; text-decoration-color: #008080; font-weight: bold\">32</span><span style=\"font-weight: bold\">])</span>\n",
       "</pre>\n"
      ],
      "text/plain": [
       "\u001b[1m[\u001b[0mEMBEDDING\u001b[1m]\u001b[0m Input: \u001b[1;35mtorch.Size\u001b[0m\u001b[1m(\u001b[0m\u001b[1m[\u001b[0m\u001b[1;36m1\u001b[0m, \u001b[1;36m3\u001b[0m, \u001b[1;36m32\u001b[0m, \u001b[1;36m32\u001b[0m\u001b[1m]\u001b[0m\u001b[1m)\u001b[0m\n"
      ]
     },
     "metadata": {},
     "output_type": "display_data"
    },
    {
     "data": {
      "text/html": [
       "<pre style=\"white-space:pre;overflow-x:auto;line-height:normal;font-family:Menlo,'DejaVu Sans Mono',consolas,'Courier New',monospace\"><span style=\"font-weight: bold\">[</span>EMBEDDING<span style=\"font-weight: bold\">]</span> Flattened: <span style=\"color: #800080; text-decoration-color: #800080; font-weight: bold\">torch.Size</span><span style=\"font-weight: bold\">([</span><span style=\"color: #008080; text-decoration-color: #008080; font-weight: bold\">1</span>, <span style=\"color: #008080; text-decoration-color: #008080; font-weight: bold\">64</span>, <span style=\"color: #008080; text-decoration-color: #008080; font-weight: bold\">48</span><span style=\"font-weight: bold\">])</span>\n",
       "</pre>\n"
      ],
      "text/plain": [
       "\u001b[1m[\u001b[0mEMBEDDING\u001b[1m]\u001b[0m Flattened: \u001b[1;35mtorch.Size\u001b[0m\u001b[1m(\u001b[0m\u001b[1m[\u001b[0m\u001b[1;36m1\u001b[0m, \u001b[1;36m64\u001b[0m, \u001b[1;36m48\u001b[0m\u001b[1m]\u001b[0m\u001b[1m)\u001b[0m\n"
      ]
     },
     "metadata": {},
     "output_type": "display_data"
    },
    {
     "data": {
      "text/html": [
       "<pre style=\"white-space:pre;overflow-x:auto;line-height:normal;font-family:Menlo,'DejaVu Sans Mono',consolas,'Courier New',monospace\"><span style=\"font-weight: bold\">[</span>EMBEDDING<span style=\"font-weight: bold\">]</span> Projected: <span style=\"color: #800080; text-decoration-color: #800080; font-weight: bold\">torch.Size</span><span style=\"font-weight: bold\">([</span><span style=\"color: #008080; text-decoration-color: #008080; font-weight: bold\">1</span>, <span style=\"color: #008080; text-decoration-color: #008080; font-weight: bold\">64</span>, <span style=\"color: #008080; text-decoration-color: #008080; font-weight: bold\">512</span><span style=\"font-weight: bold\">])</span>\n",
       "</pre>\n"
      ],
      "text/plain": [
       "\u001b[1m[\u001b[0mEMBEDDING\u001b[1m]\u001b[0m Projected: \u001b[1;35mtorch.Size\u001b[0m\u001b[1m(\u001b[0m\u001b[1m[\u001b[0m\u001b[1;36m1\u001b[0m, \u001b[1;36m64\u001b[0m, \u001b[1;36m512\u001b[0m\u001b[1m]\u001b[0m\u001b[1m)\u001b[0m\n"
      ]
     },
     "metadata": {},
     "output_type": "display_data"
    },
    {
     "data": {
      "text/html": [
       "<pre style=\"white-space:pre;overflow-x:auto;line-height:normal;font-family:Menlo,'DejaVu Sans Mono',consolas,'Courier New',monospace\"><span style=\"font-weight: bold\">[</span>EMBEDDING<span style=\"font-weight: bold\">]</span> CLS token: <span style=\"color: #800080; text-decoration-color: #800080; font-weight: bold\">torch.Size</span><span style=\"font-weight: bold\">([</span><span style=\"color: #008080; text-decoration-color: #008080; font-weight: bold\">1</span>, <span style=\"color: #008080; text-decoration-color: #008080; font-weight: bold\">65</span>, <span style=\"color: #008080; text-decoration-color: #008080; font-weight: bold\">512</span><span style=\"font-weight: bold\">])</span>\n",
       "</pre>\n"
      ],
      "text/plain": [
       "\u001b[1m[\u001b[0mEMBEDDING\u001b[1m]\u001b[0m CLS token: \u001b[1;35mtorch.Size\u001b[0m\u001b[1m(\u001b[0m\u001b[1m[\u001b[0m\u001b[1;36m1\u001b[0m, \u001b[1;36m65\u001b[0m, \u001b[1;36m512\u001b[0m\u001b[1m]\u001b[0m\u001b[1m)\u001b[0m\n"
      ]
     },
     "metadata": {},
     "output_type": "display_data"
    },
    {
     "data": {
      "text/html": [
       "<pre style=\"white-space:pre;overflow-x:auto;line-height:normal;font-family:Menlo,'DejaVu Sans Mono',consolas,'Courier New',monospace\"><span style=\"font-weight: bold\">[</span>EMBEDDING<span style=\"font-weight: bold\">]</span> POS embedding: <span style=\"color: #800080; text-decoration-color: #800080; font-weight: bold\">torch.Size</span><span style=\"font-weight: bold\">([</span><span style=\"color: #008080; text-decoration-color: #008080; font-weight: bold\">1</span>, <span style=\"color: #008080; text-decoration-color: #008080; font-weight: bold\">65</span>, <span style=\"color: #008080; text-decoration-color: #008080; font-weight: bold\">512</span><span style=\"font-weight: bold\">])</span>\n",
       "</pre>\n"
      ],
      "text/plain": [
       "\u001b[1m[\u001b[0mEMBEDDING\u001b[1m]\u001b[0m POS embedding: \u001b[1;35mtorch.Size\u001b[0m\u001b[1m(\u001b[0m\u001b[1m[\u001b[0m\u001b[1;36m1\u001b[0m, \u001b[1;36m65\u001b[0m, \u001b[1;36m512\u001b[0m\u001b[1m]\u001b[0m\u001b[1m)\u001b[0m\n"
      ]
     },
     "metadata": {},
     "output_type": "display_data"
    },
    {
     "data": {
      "text/html": [
       "<pre style=\"white-space:pre;overflow-x:auto;line-height:normal;font-family:Menlo,'DejaVu Sans Mono',consolas,'Courier New',monospace\"></pre>\n"
      ],
      "text/plain": []
     },
     "metadata": {},
     "output_type": "display_data"
    },
    {
     "data": {
      "text/plain": [
       "\n",
       "\u001b[1;35mtensor\u001b[0m\u001b[1m(\u001b[0m\u001b[1m[\u001b[0m\u001b[1m[\u001b[0m\u001b[1m[\u001b[0m \u001b[1;36m2.3908\u001b[0m, \u001b[1;36m-1.3431\u001b[0m,  \u001b[1;36m0.9336\u001b[0m,  \u001b[33m...\u001b[0m, \u001b[1;36m-0.9231\u001b[0m,  \u001b[1;36m2.1432\u001b[0m, \u001b[1;36m-0.5504\u001b[0m\u001b[1m]\u001b[0m,\n",
       "         \u001b[1m[\u001b[0m \u001b[1;36m1.3750\u001b[0m,  \u001b[1;36m0.7181\u001b[0m,  \u001b[1;36m0.1633\u001b[0m,  \u001b[33m...\u001b[0m, \u001b[1;36m-1.9722\u001b[0m, \u001b[1;36m-1.4608\u001b[0m,  \u001b[1;36m3.0515\u001b[0m\u001b[1m]\u001b[0m,\n",
       "         \u001b[1m[\u001b[0m\u001b[1;36m-1.4604\u001b[0m, \u001b[1;36m-0.7655\u001b[0m, \u001b[1;36m-0.2815\u001b[0m,  \u001b[33m...\u001b[0m,  \u001b[1;36m2.0272\u001b[0m, \u001b[1;36m-0.2377\u001b[0m, \u001b[1;36m-0.4828\u001b[0m\u001b[1m]\u001b[0m,\n",
       "         \u001b[33m...\u001b[0m,\n",
       "         \u001b[1m[\u001b[0m \u001b[1;36m2.1502\u001b[0m, \u001b[1;36m-4.2859\u001b[0m, \u001b[1;36m-0.8367\u001b[0m,  \u001b[33m...\u001b[0m,  \u001b[1;36m0.2170\u001b[0m,  \u001b[1;36m0.6582\u001b[0m, \u001b[1;36m-0.0271\u001b[0m\u001b[1m]\u001b[0m,\n",
       "         \u001b[1m[\u001b[0m \u001b[1;36m1.4870\u001b[0m,  \u001b[1;36m0.1275\u001b[0m, \u001b[1;36m-1.3038\u001b[0m,  \u001b[33m...\u001b[0m,  \u001b[1;36m0.8767\u001b[0m,  \u001b[1;36m1.7828\u001b[0m, \u001b[1;36m-2.3420\u001b[0m\u001b[1m]\u001b[0m,\n",
       "         \u001b[1m[\u001b[0m\u001b[1;36m-0.0761\u001b[0m, \u001b[1;36m-1.5034\u001b[0m,  \u001b[1;36m1.0148\u001b[0m,  \u001b[33m...\u001b[0m, \u001b[1;36m-1.0533\u001b[0m,  \u001b[1;36m0.2258\u001b[0m,  \u001b[1;36m3.3917\u001b[0m\u001b[1m]\u001b[0m\u001b[1m]\u001b[0m\u001b[1m]\u001b[0m,\n",
       "       \u001b[33mgrad_fn\u001b[0m=\u001b[1m<\u001b[0m\u001b[1;95mAddBackward0\u001b[0m\u001b[1m>\u001b[0m\u001b[1m)\u001b[0m"
      ]
     },
     "execution_count": 58,
     "metadata": {},
     "output_type": "execute_result"
    }
   ],
   "source": [
    "PatchEmbedding(patch_size=4, d_embd=512, image_shape=sample_image.shape, debug=True)(\n",
    "    sample_image.unsqueeze(0)\n",
    ")\n"
   ]
  },
  {
   "cell_type": "code",
   "execution_count": 18,
   "metadata": {},
   "outputs": [],
   "source": [
    "class EncoderMLP(nn.Module):\n",
    "    def __init__(self, d_embd, d_hidden, dropout=0.0, debug=False):\n",
    "        super(EncoderMLP, self).__init__()\n",
    "\n",
    "        self.net = nn.Sequential(\n",
    "            nn.LayerNorm(d_embd),\n",
    "            nn.Linear(d_embd, d_hidden),\n",
    "            nn.GELU(),\n",
    "            nn.Dropout(dropout),\n",
    "            nn.Linear(d_hidden, d_embd),\n",
    "            nn.Dropout(dropout),\n",
    "        )\n",
    "\n",
    "        self.debug = debug\n",
    "\n",
    "    def _debug_print(self, tensor, name):\n",
    "        if self.debug:\n",
    "            print(f\"{name}: {tensor.shape}\")\n",
    "\n",
    "    def forward(self, x):\n",
    "        self._debug_print(x, \"[MLP] Input\")\n",
    "        x = self.net(x)\n",
    "        self._debug_print(x, \"[MLP] Output\")\n",
    "\n",
    "        return x\n"
   ]
  },
  {
   "cell_type": "code",
   "execution_count": 19,
   "metadata": {},
   "outputs": [
    {
     "data": {
      "text/html": [
       "<pre style=\"white-space:pre;overflow-x:auto;line-height:normal;font-family:Menlo,'DejaVu Sans Mono',consolas,'Courier New',monospace\"><span style=\"font-weight: bold\">[</span>MLP<span style=\"font-weight: bold\">]</span> Input: <span style=\"color: #800080; text-decoration-color: #800080; font-weight: bold\">torch.Size</span><span style=\"font-weight: bold\">([</span><span style=\"color: #008080; text-decoration-color: #008080; font-weight: bold\">1</span>, <span style=\"color: #008080; text-decoration-color: #008080; font-weight: bold\">197</span>, <span style=\"color: #008080; text-decoration-color: #008080; font-weight: bold\">512</span><span style=\"font-weight: bold\">])</span>\n",
       "</pre>\n"
      ],
      "text/plain": [
       "\u001b[1m[\u001b[0mMLP\u001b[1m]\u001b[0m Input: \u001b[1;35mtorch.Size\u001b[0m\u001b[1m(\u001b[0m\u001b[1m[\u001b[0m\u001b[1;36m1\u001b[0m, \u001b[1;36m197\u001b[0m, \u001b[1;36m512\u001b[0m\u001b[1m]\u001b[0m\u001b[1m)\u001b[0m\n"
      ]
     },
     "metadata": {},
     "output_type": "display_data"
    },
    {
     "data": {
      "text/html": [
       "<pre style=\"white-space:pre;overflow-x:auto;line-height:normal;font-family:Menlo,'DejaVu Sans Mono',consolas,'Courier New',monospace\"><span style=\"font-weight: bold\">[</span>MLP<span style=\"font-weight: bold\">]</span> Output: <span style=\"color: #800080; text-decoration-color: #800080; font-weight: bold\">torch.Size</span><span style=\"font-weight: bold\">([</span><span style=\"color: #008080; text-decoration-color: #008080; font-weight: bold\">1</span>, <span style=\"color: #008080; text-decoration-color: #008080; font-weight: bold\">197</span>, <span style=\"color: #008080; text-decoration-color: #008080; font-weight: bold\">512</span><span style=\"font-weight: bold\">])</span>\n",
       "</pre>\n"
      ],
      "text/plain": [
       "\u001b[1m[\u001b[0mMLP\u001b[1m]\u001b[0m Output: \u001b[1;35mtorch.Size\u001b[0m\u001b[1m(\u001b[0m\u001b[1m[\u001b[0m\u001b[1;36m1\u001b[0m, \u001b[1;36m197\u001b[0m, \u001b[1;36m512\u001b[0m\u001b[1m]\u001b[0m\u001b[1m)\u001b[0m\n"
      ]
     },
     "metadata": {},
     "output_type": "display_data"
    },
    {
     "data": {
      "text/html": [
       "<pre style=\"white-space:pre;overflow-x:auto;line-height:normal;font-family:Menlo,'DejaVu Sans Mono',consolas,'Courier New',monospace\"></pre>\n"
      ],
      "text/plain": []
     },
     "metadata": {},
     "output_type": "display_data"
    },
    {
     "data": {
      "text/plain": [
       "\n",
       "\u001b[1;35mtensor\u001b[0m\u001b[1m(\u001b[0m\u001b[1m[\u001b[0m\u001b[1m[\u001b[0m\u001b[1m[\u001b[0m \u001b[1;36m0.2776\u001b[0m, \u001b[1;36m-0.0578\u001b[0m, \u001b[1;36m-0.1640\u001b[0m,  \u001b[33m...\u001b[0m,  \u001b[1;36m0.0829\u001b[0m, \u001b[1;36m-0.2461\u001b[0m, \u001b[1;36m-0.1975\u001b[0m\u001b[1m]\u001b[0m,\n",
       "         \u001b[1m[\u001b[0m\u001b[1;36m-0.0660\u001b[0m,  \u001b[1;36m0.2907\u001b[0m, \u001b[1;36m-0.0495\u001b[0m,  \u001b[33m...\u001b[0m,  \u001b[1;36m0.2394\u001b[0m, \u001b[1;36m-0.0315\u001b[0m, \u001b[1;36m-0.4122\u001b[0m\u001b[1m]\u001b[0m,\n",
       "         \u001b[1m[\u001b[0m\u001b[1;36m-0.2062\u001b[0m, \u001b[1;36m-0.1204\u001b[0m,  \u001b[1;36m0.2948\u001b[0m,  \u001b[33m...\u001b[0m,  \u001b[1;36m0.0894\u001b[0m,  \u001b[1;36m0.1667\u001b[0m, \u001b[1;36m-0.0097\u001b[0m\u001b[1m]\u001b[0m,\n",
       "         \u001b[33m...\u001b[0m,\n",
       "         \u001b[1m[\u001b[0m \u001b[1;36m0.1073\u001b[0m, \u001b[1;36m-0.0322\u001b[0m, \u001b[1;36m-0.0377\u001b[0m,  \u001b[33m...\u001b[0m,  \u001b[1;36m0.2992\u001b[0m,  \u001b[1;36m0.1673\u001b[0m,  \u001b[1;36m0.0437\u001b[0m\u001b[1m]\u001b[0m,\n",
       "         \u001b[1m[\u001b[0m \u001b[1;36m0.1429\u001b[0m,  \u001b[1;36m0.2744\u001b[0m, \u001b[1;36m-0.2748\u001b[0m,  \u001b[33m...\u001b[0m, \u001b[1;36m-0.1248\u001b[0m, \u001b[1;36m-0.0106\u001b[0m, \u001b[1;36m-0.1953\u001b[0m\u001b[1m]\u001b[0m,\n",
       "         \u001b[1m[\u001b[0m\u001b[1;36m-0.0739\u001b[0m,  \u001b[1;36m0.1737\u001b[0m, \u001b[1;36m-0.0754\u001b[0m,  \u001b[33m...\u001b[0m, \u001b[1;36m-0.0895\u001b[0m,  \u001b[1;36m0.1171\u001b[0m, \u001b[1;36m-0.3301\u001b[0m\u001b[1m]\u001b[0m\u001b[1m]\u001b[0m\u001b[1m]\u001b[0m,\n",
       "       \u001b[33mgrad_fn\u001b[0m=\u001b[1m<\u001b[0m\u001b[1;95mViewBackward0\u001b[0m\u001b[1m>\u001b[0m\u001b[1m)\u001b[0m"
      ]
     },
     "execution_count": 19,
     "metadata": {},
     "output_type": "execute_result"
    }
   ],
   "source": [
    "EncoderMLP(d_embd=512, d_hidden=2048, debug=True)(torch.randn(1, 197, 512))"
   ]
  },
  {
   "cell_type": "code",
   "execution_count": 20,
   "metadata": {},
   "outputs": [],
   "source": [
    "class EncoderAttention(nn.Module):\n",
    "    def __init__(self, d_embd, n_heads, dropout=0.0, debug=False):\n",
    "        super(EncoderAttention, self).__init__()\n",
    "\n",
    "        self.d_embd = d_embd\n",
    "        self.n_heads = n_heads\n",
    "        self.d_head = d_embd // n_heads\n",
    "\n",
    "        self.norm = nn.LayerNorm(d_embd)\n",
    "        self.dropout = nn.Dropout(dropout)\n",
    "\n",
    "        self.qkv = nn.Linear(d_embd, 3 * d_embd, bias=False)\n",
    "\n",
    "        self.debug = debug\n",
    "\n",
    "    def _debug_print(self, tensor, name):\n",
    "        if self.debug:\n",
    "            print(f\"{name}: {tensor.shape}\")\n",
    "\n",
    "    def forward(self, x):\n",
    "        b, n, _ = x.shape\n",
    "\n",
    "        self._debug_print(x, \"[ATTENTION] Input\")\n",
    "        x = self.norm(x)\n",
    "\n",
    "        q, k, v = self.qkv(x).view(b, self.n_heads, n, -1).chunk(3, dim=-1)\n",
    "        self._debug_print(q, \"[ATTENTION] Q\")\n",
    "        self._debug_print(k, \"[ATTENTION] K\")\n",
    "        self._debug_print(v, \"[ATTENTION] V\")\n",
    "\n",
    "        score = torch.matmul(q, k.transpose(-1, -2)) * (self.d_head**0.5)\n",
    "        self._debug_print(score, \"[ATTENTION] Score\")\n",
    "\n",
    "        attn = F.softmax(score, dim=-1)\n",
    "        attn = self.dropout(attn)\n",
    "\n",
    "        out = torch.matmul(attn, v).reshape(b, n, -1)\n",
    "        self._debug_print(out, \"[ATTENTION] Output\")\n",
    "\n",
    "        return out\n"
   ]
  },
  {
   "cell_type": "code",
   "execution_count": 21,
   "metadata": {},
   "outputs": [
    {
     "data": {
      "text/html": [
       "<pre style=\"white-space:pre;overflow-x:auto;line-height:normal;font-family:Menlo,'DejaVu Sans Mono',consolas,'Courier New',monospace\"><span style=\"font-weight: bold\">[</span>ATTENTION<span style=\"font-weight: bold\">]</span> Input: <span style=\"color: #800080; text-decoration-color: #800080; font-weight: bold\">torch.Size</span><span style=\"font-weight: bold\">([</span><span style=\"color: #008080; text-decoration-color: #008080; font-weight: bold\">1</span>, <span style=\"color: #008080; text-decoration-color: #008080; font-weight: bold\">197</span>, <span style=\"color: #008080; text-decoration-color: #008080; font-weight: bold\">512</span><span style=\"font-weight: bold\">])</span>\n",
       "</pre>\n"
      ],
      "text/plain": [
       "\u001b[1m[\u001b[0mATTENTION\u001b[1m]\u001b[0m Input: \u001b[1;35mtorch.Size\u001b[0m\u001b[1m(\u001b[0m\u001b[1m[\u001b[0m\u001b[1;36m1\u001b[0m, \u001b[1;36m197\u001b[0m, \u001b[1;36m512\u001b[0m\u001b[1m]\u001b[0m\u001b[1m)\u001b[0m\n"
      ]
     },
     "metadata": {},
     "output_type": "display_data"
    },
    {
     "data": {
      "text/html": [
       "<pre style=\"white-space:pre;overflow-x:auto;line-height:normal;font-family:Menlo,'DejaVu Sans Mono',consolas,'Courier New',monospace\"><span style=\"font-weight: bold\">[</span>ATTENTION<span style=\"font-weight: bold\">]</span> Q: <span style=\"color: #800080; text-decoration-color: #800080; font-weight: bold\">torch.Size</span><span style=\"font-weight: bold\">([</span><span style=\"color: #008080; text-decoration-color: #008080; font-weight: bold\">1</span>, <span style=\"color: #008080; text-decoration-color: #008080; font-weight: bold\">8</span>, <span style=\"color: #008080; text-decoration-color: #008080; font-weight: bold\">197</span>, <span style=\"color: #008080; text-decoration-color: #008080; font-weight: bold\">64</span><span style=\"font-weight: bold\">])</span>\n",
       "</pre>\n"
      ],
      "text/plain": [
       "\u001b[1m[\u001b[0mATTENTION\u001b[1m]\u001b[0m Q: \u001b[1;35mtorch.Size\u001b[0m\u001b[1m(\u001b[0m\u001b[1m[\u001b[0m\u001b[1;36m1\u001b[0m, \u001b[1;36m8\u001b[0m, \u001b[1;36m197\u001b[0m, \u001b[1;36m64\u001b[0m\u001b[1m]\u001b[0m\u001b[1m)\u001b[0m\n"
      ]
     },
     "metadata": {},
     "output_type": "display_data"
    },
    {
     "data": {
      "text/html": [
       "<pre style=\"white-space:pre;overflow-x:auto;line-height:normal;font-family:Menlo,'DejaVu Sans Mono',consolas,'Courier New',monospace\"><span style=\"font-weight: bold\">[</span>ATTENTION<span style=\"font-weight: bold\">]</span> K: <span style=\"color: #800080; text-decoration-color: #800080; font-weight: bold\">torch.Size</span><span style=\"font-weight: bold\">([</span><span style=\"color: #008080; text-decoration-color: #008080; font-weight: bold\">1</span>, <span style=\"color: #008080; text-decoration-color: #008080; font-weight: bold\">8</span>, <span style=\"color: #008080; text-decoration-color: #008080; font-weight: bold\">197</span>, <span style=\"color: #008080; text-decoration-color: #008080; font-weight: bold\">64</span><span style=\"font-weight: bold\">])</span>\n",
       "</pre>\n"
      ],
      "text/plain": [
       "\u001b[1m[\u001b[0mATTENTION\u001b[1m]\u001b[0m K: \u001b[1;35mtorch.Size\u001b[0m\u001b[1m(\u001b[0m\u001b[1m[\u001b[0m\u001b[1;36m1\u001b[0m, \u001b[1;36m8\u001b[0m, \u001b[1;36m197\u001b[0m, \u001b[1;36m64\u001b[0m\u001b[1m]\u001b[0m\u001b[1m)\u001b[0m\n"
      ]
     },
     "metadata": {},
     "output_type": "display_data"
    },
    {
     "data": {
      "text/html": [
       "<pre style=\"white-space:pre;overflow-x:auto;line-height:normal;font-family:Menlo,'DejaVu Sans Mono',consolas,'Courier New',monospace\"><span style=\"font-weight: bold\">[</span>ATTENTION<span style=\"font-weight: bold\">]</span> V: <span style=\"color: #800080; text-decoration-color: #800080; font-weight: bold\">torch.Size</span><span style=\"font-weight: bold\">([</span><span style=\"color: #008080; text-decoration-color: #008080; font-weight: bold\">1</span>, <span style=\"color: #008080; text-decoration-color: #008080; font-weight: bold\">8</span>, <span style=\"color: #008080; text-decoration-color: #008080; font-weight: bold\">197</span>, <span style=\"color: #008080; text-decoration-color: #008080; font-weight: bold\">64</span><span style=\"font-weight: bold\">])</span>\n",
       "</pre>\n"
      ],
      "text/plain": [
       "\u001b[1m[\u001b[0mATTENTION\u001b[1m]\u001b[0m V: \u001b[1;35mtorch.Size\u001b[0m\u001b[1m(\u001b[0m\u001b[1m[\u001b[0m\u001b[1;36m1\u001b[0m, \u001b[1;36m8\u001b[0m, \u001b[1;36m197\u001b[0m, \u001b[1;36m64\u001b[0m\u001b[1m]\u001b[0m\u001b[1m)\u001b[0m\n"
      ]
     },
     "metadata": {},
     "output_type": "display_data"
    },
    {
     "data": {
      "text/html": [
       "<pre style=\"white-space:pre;overflow-x:auto;line-height:normal;font-family:Menlo,'DejaVu Sans Mono',consolas,'Courier New',monospace\"><span style=\"font-weight: bold\">[</span>ATTENTION<span style=\"font-weight: bold\">]</span> Score: <span style=\"color: #800080; text-decoration-color: #800080; font-weight: bold\">torch.Size</span><span style=\"font-weight: bold\">([</span><span style=\"color: #008080; text-decoration-color: #008080; font-weight: bold\">1</span>, <span style=\"color: #008080; text-decoration-color: #008080; font-weight: bold\">8</span>, <span style=\"color: #008080; text-decoration-color: #008080; font-weight: bold\">197</span>, <span style=\"color: #008080; text-decoration-color: #008080; font-weight: bold\">197</span><span style=\"font-weight: bold\">])</span>\n",
       "</pre>\n"
      ],
      "text/plain": [
       "\u001b[1m[\u001b[0mATTENTION\u001b[1m]\u001b[0m Score: \u001b[1;35mtorch.Size\u001b[0m\u001b[1m(\u001b[0m\u001b[1m[\u001b[0m\u001b[1;36m1\u001b[0m, \u001b[1;36m8\u001b[0m, \u001b[1;36m197\u001b[0m, \u001b[1;36m197\u001b[0m\u001b[1m]\u001b[0m\u001b[1m)\u001b[0m\n"
      ]
     },
     "metadata": {},
     "output_type": "display_data"
    },
    {
     "data": {
      "text/html": [
       "<pre style=\"white-space:pre;overflow-x:auto;line-height:normal;font-family:Menlo,'DejaVu Sans Mono',consolas,'Courier New',monospace\"><span style=\"font-weight: bold\">[</span>ATTENTION<span style=\"font-weight: bold\">]</span> Output: <span style=\"color: #800080; text-decoration-color: #800080; font-weight: bold\">torch.Size</span><span style=\"font-weight: bold\">([</span><span style=\"color: #008080; text-decoration-color: #008080; font-weight: bold\">1</span>, <span style=\"color: #008080; text-decoration-color: #008080; font-weight: bold\">197</span>, <span style=\"color: #008080; text-decoration-color: #008080; font-weight: bold\">512</span><span style=\"font-weight: bold\">])</span>\n",
       "</pre>\n"
      ],
      "text/plain": [
       "\u001b[1m[\u001b[0mATTENTION\u001b[1m]\u001b[0m Output: \u001b[1;35mtorch.Size\u001b[0m\u001b[1m(\u001b[0m\u001b[1m[\u001b[0m\u001b[1;36m1\u001b[0m, \u001b[1;36m197\u001b[0m, \u001b[1;36m512\u001b[0m\u001b[1m]\u001b[0m\u001b[1m)\u001b[0m\n"
      ]
     },
     "metadata": {},
     "output_type": "display_data"
    },
    {
     "data": {
      "text/html": [
       "<pre style=\"white-space:pre;overflow-x:auto;line-height:normal;font-family:Menlo,'DejaVu Sans Mono',consolas,'Courier New',monospace\"></pre>\n"
      ],
      "text/plain": []
     },
     "metadata": {},
     "output_type": "display_data"
    },
    {
     "data": {
      "text/plain": [
       "\n",
       "\u001b[1;35mtensor\u001b[0m\u001b[1m(\u001b[0m\u001b[1m[\u001b[0m\u001b[1m[\u001b[0m\u001b[1m[\u001b[0m\u001b[1;36m-0.3030\u001b[0m, \u001b[1;36m-0.7736\u001b[0m, \u001b[1;36m-0.1801\u001b[0m,  \u001b[33m...\u001b[0m,  \u001b[1;36m0.2845\u001b[0m,  \u001b[1;36m0.8593\u001b[0m,  \u001b[1;36m1.4183\u001b[0m\u001b[1m]\u001b[0m,\n",
       "         \u001b[1m[\u001b[0m \u001b[1;36m1.0703\u001b[0m, \u001b[1;36m-0.7066\u001b[0m,  \u001b[1;36m0.8060\u001b[0m,  \u001b[33m...\u001b[0m, \u001b[1;36m-0.2109\u001b[0m,  \u001b[1;36m0.4178\u001b[0m, \u001b[1;36m-0.2034\u001b[0m\u001b[1m]\u001b[0m,\n",
       "         \u001b[1m[\u001b[0m\u001b[1;36m-0.1628\u001b[0m,  \u001b[1;36m1.1129\u001b[0m,  \u001b[1;36m0.5072\u001b[0m,  \u001b[33m...\u001b[0m,  \u001b[1;36m0.5754\u001b[0m, \u001b[1;36m-0.4823\u001b[0m, \u001b[1;36m-0.9400\u001b[0m\u001b[1m]\u001b[0m,\n",
       "         \u001b[33m...\u001b[0m,\n",
       "         \u001b[1m[\u001b[0m\u001b[1;36m-0.4767\u001b[0m, \u001b[1;36m-0.2881\u001b[0m,  \u001b[1;36m0.1993\u001b[0m,  \u001b[33m...\u001b[0m, \u001b[1;36m-0.7219\u001b[0m, \u001b[1;36m-0.5326\u001b[0m,  \u001b[1;36m1.1022\u001b[0m\u001b[1m]\u001b[0m,\n",
       "         \u001b[1m[\u001b[0m \u001b[1;36m0.7803\u001b[0m, \u001b[1;36m-0.1905\u001b[0m, \u001b[1;36m-0.1333\u001b[0m,  \u001b[33m...\u001b[0m,  \u001b[1;36m1.3219\u001b[0m,  \u001b[1;36m0.3286\u001b[0m,  \u001b[1;36m0.1102\u001b[0m\u001b[1m]\u001b[0m,\n",
       "         \u001b[1m[\u001b[0m\u001b[1;36m-0.2949\u001b[0m, \u001b[1;36m-0.2092\u001b[0m,  \u001b[1;36m0.2878\u001b[0m,  \u001b[33m...\u001b[0m,  \u001b[1;36m0.0892\u001b[0m, \u001b[1;36m-0.7295\u001b[0m,  \u001b[1;36m0.0107\u001b[0m\u001b[1m]\u001b[0m\u001b[1m]\u001b[0m\u001b[1m]\u001b[0m,\n",
       "       \u001b[33mgrad_fn\u001b[0m=\u001b[1m<\u001b[0m\u001b[1;95mViewBackward0\u001b[0m\u001b[1m>\u001b[0m\u001b[1m)\u001b[0m"
      ]
     },
     "execution_count": 21,
     "metadata": {},
     "output_type": "execute_result"
    }
   ],
   "source": [
    "EncoderAttention(d_embd=512, n_heads=8, debug=True)(torch.randn(1, 197, 512))"
   ]
  },
  {
   "cell_type": "code",
   "execution_count": 22,
   "metadata": {},
   "outputs": [],
   "source": [
    "class Transformer(nn.Module):\n",
    "    def __init__(self, d_embd, d_hidden, n_heads, dropout=0.0, debug=False):\n",
    "        super(Transformer, self).__init__()\n",
    "\n",
    "        self.d_embd = d_embd\n",
    "        self.d_hidden = d_hidden\n",
    "        self.n_heads = n_heads\n",
    "\n",
    "        self.attention = EncoderAttention(d_embd, n_heads, dropout, debug)\n",
    "        self.mlp = EncoderMLP(d_embd, d_hidden, dropout, debug)\n",
    "\n",
    "        self.debug = debug\n",
    "\n",
    "    def _debug_print(self, tensor, name):\n",
    "        if self.debug:\n",
    "            print(f\"{name}: {tensor.shape}\")\n",
    "\n",
    "    def forward(self, x):\n",
    "        self._debug_print(x, \"[TRANSFORMER] Input\")\n",
    "\n",
    "        x = x + self.attention(x)\n",
    "        self._debug_print(x, \"[TRANSFORMER] Attention\")\n",
    "\n",
    "        x = x + self.mlp(x)\n",
    "        self._debug_print(x, \"[TRANSFORMER] MLP\")\n",
    "\n",
    "        return x"
   ]
  },
  {
   "cell_type": "code",
   "execution_count": 23,
   "metadata": {},
   "outputs": [
    {
     "data": {
      "text/html": [
       "<pre style=\"white-space:pre;overflow-x:auto;line-height:normal;font-family:Menlo,'DejaVu Sans Mono',consolas,'Courier New',monospace\"><span style=\"font-weight: bold\">[</span>TRANSFORMER<span style=\"font-weight: bold\">]</span> Input: <span style=\"color: #800080; text-decoration-color: #800080; font-weight: bold\">torch.Size</span><span style=\"font-weight: bold\">([</span><span style=\"color: #008080; text-decoration-color: #008080; font-weight: bold\">1</span>, <span style=\"color: #008080; text-decoration-color: #008080; font-weight: bold\">65</span>, <span style=\"color: #008080; text-decoration-color: #008080; font-weight: bold\">512</span><span style=\"font-weight: bold\">])</span>\n",
       "</pre>\n"
      ],
      "text/plain": [
       "\u001b[1m[\u001b[0mTRANSFORMER\u001b[1m]\u001b[0m Input: \u001b[1;35mtorch.Size\u001b[0m\u001b[1m(\u001b[0m\u001b[1m[\u001b[0m\u001b[1;36m1\u001b[0m, \u001b[1;36m65\u001b[0m, \u001b[1;36m512\u001b[0m\u001b[1m]\u001b[0m\u001b[1m)\u001b[0m\n"
      ]
     },
     "metadata": {},
     "output_type": "display_data"
    },
    {
     "data": {
      "text/html": [
       "<pre style=\"white-space:pre;overflow-x:auto;line-height:normal;font-family:Menlo,'DejaVu Sans Mono',consolas,'Courier New',monospace\"><span style=\"font-weight: bold\">[</span>ATTENTION<span style=\"font-weight: bold\">]</span> Input: <span style=\"color: #800080; text-decoration-color: #800080; font-weight: bold\">torch.Size</span><span style=\"font-weight: bold\">([</span><span style=\"color: #008080; text-decoration-color: #008080; font-weight: bold\">1</span>, <span style=\"color: #008080; text-decoration-color: #008080; font-weight: bold\">65</span>, <span style=\"color: #008080; text-decoration-color: #008080; font-weight: bold\">512</span><span style=\"font-weight: bold\">])</span>\n",
       "</pre>\n"
      ],
      "text/plain": [
       "\u001b[1m[\u001b[0mATTENTION\u001b[1m]\u001b[0m Input: \u001b[1;35mtorch.Size\u001b[0m\u001b[1m(\u001b[0m\u001b[1m[\u001b[0m\u001b[1;36m1\u001b[0m, \u001b[1;36m65\u001b[0m, \u001b[1;36m512\u001b[0m\u001b[1m]\u001b[0m\u001b[1m)\u001b[0m\n"
      ]
     },
     "metadata": {},
     "output_type": "display_data"
    },
    {
     "data": {
      "text/html": [
       "<pre style=\"white-space:pre;overflow-x:auto;line-height:normal;font-family:Menlo,'DejaVu Sans Mono',consolas,'Courier New',monospace\"><span style=\"font-weight: bold\">[</span>ATTENTION<span style=\"font-weight: bold\">]</span> Q: <span style=\"color: #800080; text-decoration-color: #800080; font-weight: bold\">torch.Size</span><span style=\"font-weight: bold\">([</span><span style=\"color: #008080; text-decoration-color: #008080; font-weight: bold\">1</span>, <span style=\"color: #008080; text-decoration-color: #008080; font-weight: bold\">8</span>, <span style=\"color: #008080; text-decoration-color: #008080; font-weight: bold\">65</span>, <span style=\"color: #008080; text-decoration-color: #008080; font-weight: bold\">64</span><span style=\"font-weight: bold\">])</span>\n",
       "</pre>\n"
      ],
      "text/plain": [
       "\u001b[1m[\u001b[0mATTENTION\u001b[1m]\u001b[0m Q: \u001b[1;35mtorch.Size\u001b[0m\u001b[1m(\u001b[0m\u001b[1m[\u001b[0m\u001b[1;36m1\u001b[0m, \u001b[1;36m8\u001b[0m, \u001b[1;36m65\u001b[0m, \u001b[1;36m64\u001b[0m\u001b[1m]\u001b[0m\u001b[1m)\u001b[0m\n"
      ]
     },
     "metadata": {},
     "output_type": "display_data"
    },
    {
     "data": {
      "text/html": [
       "<pre style=\"white-space:pre;overflow-x:auto;line-height:normal;font-family:Menlo,'DejaVu Sans Mono',consolas,'Courier New',monospace\"><span style=\"font-weight: bold\">[</span>ATTENTION<span style=\"font-weight: bold\">]</span> K: <span style=\"color: #800080; text-decoration-color: #800080; font-weight: bold\">torch.Size</span><span style=\"font-weight: bold\">([</span><span style=\"color: #008080; text-decoration-color: #008080; font-weight: bold\">1</span>, <span style=\"color: #008080; text-decoration-color: #008080; font-weight: bold\">8</span>, <span style=\"color: #008080; text-decoration-color: #008080; font-weight: bold\">65</span>, <span style=\"color: #008080; text-decoration-color: #008080; font-weight: bold\">64</span><span style=\"font-weight: bold\">])</span>\n",
       "</pre>\n"
      ],
      "text/plain": [
       "\u001b[1m[\u001b[0mATTENTION\u001b[1m]\u001b[0m K: \u001b[1;35mtorch.Size\u001b[0m\u001b[1m(\u001b[0m\u001b[1m[\u001b[0m\u001b[1;36m1\u001b[0m, \u001b[1;36m8\u001b[0m, \u001b[1;36m65\u001b[0m, \u001b[1;36m64\u001b[0m\u001b[1m]\u001b[0m\u001b[1m)\u001b[0m\n"
      ]
     },
     "metadata": {},
     "output_type": "display_data"
    },
    {
     "data": {
      "text/html": [
       "<pre style=\"white-space:pre;overflow-x:auto;line-height:normal;font-family:Menlo,'DejaVu Sans Mono',consolas,'Courier New',monospace\"><span style=\"font-weight: bold\">[</span>ATTENTION<span style=\"font-weight: bold\">]</span> V: <span style=\"color: #800080; text-decoration-color: #800080; font-weight: bold\">torch.Size</span><span style=\"font-weight: bold\">([</span><span style=\"color: #008080; text-decoration-color: #008080; font-weight: bold\">1</span>, <span style=\"color: #008080; text-decoration-color: #008080; font-weight: bold\">8</span>, <span style=\"color: #008080; text-decoration-color: #008080; font-weight: bold\">65</span>, <span style=\"color: #008080; text-decoration-color: #008080; font-weight: bold\">64</span><span style=\"font-weight: bold\">])</span>\n",
       "</pre>\n"
      ],
      "text/plain": [
       "\u001b[1m[\u001b[0mATTENTION\u001b[1m]\u001b[0m V: \u001b[1;35mtorch.Size\u001b[0m\u001b[1m(\u001b[0m\u001b[1m[\u001b[0m\u001b[1;36m1\u001b[0m, \u001b[1;36m8\u001b[0m, \u001b[1;36m65\u001b[0m, \u001b[1;36m64\u001b[0m\u001b[1m]\u001b[0m\u001b[1m)\u001b[0m\n"
      ]
     },
     "metadata": {},
     "output_type": "display_data"
    },
    {
     "data": {
      "text/html": [
       "<pre style=\"white-space:pre;overflow-x:auto;line-height:normal;font-family:Menlo,'DejaVu Sans Mono',consolas,'Courier New',monospace\"><span style=\"font-weight: bold\">[</span>ATTENTION<span style=\"font-weight: bold\">]</span> Score: <span style=\"color: #800080; text-decoration-color: #800080; font-weight: bold\">torch.Size</span><span style=\"font-weight: bold\">([</span><span style=\"color: #008080; text-decoration-color: #008080; font-weight: bold\">1</span>, <span style=\"color: #008080; text-decoration-color: #008080; font-weight: bold\">8</span>, <span style=\"color: #008080; text-decoration-color: #008080; font-weight: bold\">65</span>, <span style=\"color: #008080; text-decoration-color: #008080; font-weight: bold\">65</span><span style=\"font-weight: bold\">])</span>\n",
       "</pre>\n"
      ],
      "text/plain": [
       "\u001b[1m[\u001b[0mATTENTION\u001b[1m]\u001b[0m Score: \u001b[1;35mtorch.Size\u001b[0m\u001b[1m(\u001b[0m\u001b[1m[\u001b[0m\u001b[1;36m1\u001b[0m, \u001b[1;36m8\u001b[0m, \u001b[1;36m65\u001b[0m, \u001b[1;36m65\u001b[0m\u001b[1m]\u001b[0m\u001b[1m)\u001b[0m\n"
      ]
     },
     "metadata": {},
     "output_type": "display_data"
    },
    {
     "data": {
      "text/html": [
       "<pre style=\"white-space:pre;overflow-x:auto;line-height:normal;font-family:Menlo,'DejaVu Sans Mono',consolas,'Courier New',monospace\"><span style=\"font-weight: bold\">[</span>ATTENTION<span style=\"font-weight: bold\">]</span> Output: <span style=\"color: #800080; text-decoration-color: #800080; font-weight: bold\">torch.Size</span><span style=\"font-weight: bold\">([</span><span style=\"color: #008080; text-decoration-color: #008080; font-weight: bold\">1</span>, <span style=\"color: #008080; text-decoration-color: #008080; font-weight: bold\">65</span>, <span style=\"color: #008080; text-decoration-color: #008080; font-weight: bold\">512</span><span style=\"font-weight: bold\">])</span>\n",
       "</pre>\n"
      ],
      "text/plain": [
       "\u001b[1m[\u001b[0mATTENTION\u001b[1m]\u001b[0m Output: \u001b[1;35mtorch.Size\u001b[0m\u001b[1m(\u001b[0m\u001b[1m[\u001b[0m\u001b[1;36m1\u001b[0m, \u001b[1;36m65\u001b[0m, \u001b[1;36m512\u001b[0m\u001b[1m]\u001b[0m\u001b[1m)\u001b[0m\n"
      ]
     },
     "metadata": {},
     "output_type": "display_data"
    },
    {
     "data": {
      "text/html": [
       "<pre style=\"white-space:pre;overflow-x:auto;line-height:normal;font-family:Menlo,'DejaVu Sans Mono',consolas,'Courier New',monospace\"><span style=\"font-weight: bold\">[</span>TRANSFORMER<span style=\"font-weight: bold\">]</span> Attention: <span style=\"color: #800080; text-decoration-color: #800080; font-weight: bold\">torch.Size</span><span style=\"font-weight: bold\">([</span><span style=\"color: #008080; text-decoration-color: #008080; font-weight: bold\">1</span>, <span style=\"color: #008080; text-decoration-color: #008080; font-weight: bold\">65</span>, <span style=\"color: #008080; text-decoration-color: #008080; font-weight: bold\">512</span><span style=\"font-weight: bold\">])</span>\n",
       "</pre>\n"
      ],
      "text/plain": [
       "\u001b[1m[\u001b[0mTRANSFORMER\u001b[1m]\u001b[0m Attention: \u001b[1;35mtorch.Size\u001b[0m\u001b[1m(\u001b[0m\u001b[1m[\u001b[0m\u001b[1;36m1\u001b[0m, \u001b[1;36m65\u001b[0m, \u001b[1;36m512\u001b[0m\u001b[1m]\u001b[0m\u001b[1m)\u001b[0m\n"
      ]
     },
     "metadata": {},
     "output_type": "display_data"
    },
    {
     "data": {
      "text/html": [
       "<pre style=\"white-space:pre;overflow-x:auto;line-height:normal;font-family:Menlo,'DejaVu Sans Mono',consolas,'Courier New',monospace\"><span style=\"font-weight: bold\">[</span>MLP<span style=\"font-weight: bold\">]</span> Input: <span style=\"color: #800080; text-decoration-color: #800080; font-weight: bold\">torch.Size</span><span style=\"font-weight: bold\">([</span><span style=\"color: #008080; text-decoration-color: #008080; font-weight: bold\">1</span>, <span style=\"color: #008080; text-decoration-color: #008080; font-weight: bold\">65</span>, <span style=\"color: #008080; text-decoration-color: #008080; font-weight: bold\">512</span><span style=\"font-weight: bold\">])</span>\n",
       "</pre>\n"
      ],
      "text/plain": [
       "\u001b[1m[\u001b[0mMLP\u001b[1m]\u001b[0m Input: \u001b[1;35mtorch.Size\u001b[0m\u001b[1m(\u001b[0m\u001b[1m[\u001b[0m\u001b[1;36m1\u001b[0m, \u001b[1;36m65\u001b[0m, \u001b[1;36m512\u001b[0m\u001b[1m]\u001b[0m\u001b[1m)\u001b[0m\n"
      ]
     },
     "metadata": {},
     "output_type": "display_data"
    },
    {
     "data": {
      "text/html": [
       "<pre style=\"white-space:pre;overflow-x:auto;line-height:normal;font-family:Menlo,'DejaVu Sans Mono',consolas,'Courier New',monospace\"><span style=\"font-weight: bold\">[</span>MLP<span style=\"font-weight: bold\">]</span> Output: <span style=\"color: #800080; text-decoration-color: #800080; font-weight: bold\">torch.Size</span><span style=\"font-weight: bold\">([</span><span style=\"color: #008080; text-decoration-color: #008080; font-weight: bold\">1</span>, <span style=\"color: #008080; text-decoration-color: #008080; font-weight: bold\">65</span>, <span style=\"color: #008080; text-decoration-color: #008080; font-weight: bold\">512</span><span style=\"font-weight: bold\">])</span>\n",
       "</pre>\n"
      ],
      "text/plain": [
       "\u001b[1m[\u001b[0mMLP\u001b[1m]\u001b[0m Output: \u001b[1;35mtorch.Size\u001b[0m\u001b[1m(\u001b[0m\u001b[1m[\u001b[0m\u001b[1;36m1\u001b[0m, \u001b[1;36m65\u001b[0m, \u001b[1;36m512\u001b[0m\u001b[1m]\u001b[0m\u001b[1m)\u001b[0m\n"
      ]
     },
     "metadata": {},
     "output_type": "display_data"
    },
    {
     "data": {
      "text/html": [
       "<pre style=\"white-space:pre;overflow-x:auto;line-height:normal;font-family:Menlo,'DejaVu Sans Mono',consolas,'Courier New',monospace\"><span style=\"font-weight: bold\">[</span>TRANSFORMER<span style=\"font-weight: bold\">]</span> MLP: <span style=\"color: #800080; text-decoration-color: #800080; font-weight: bold\">torch.Size</span><span style=\"font-weight: bold\">([</span><span style=\"color: #008080; text-decoration-color: #008080; font-weight: bold\">1</span>, <span style=\"color: #008080; text-decoration-color: #008080; font-weight: bold\">65</span>, <span style=\"color: #008080; text-decoration-color: #008080; font-weight: bold\">512</span><span style=\"font-weight: bold\">])</span>\n",
       "</pre>\n"
      ],
      "text/plain": [
       "\u001b[1m[\u001b[0mTRANSFORMER\u001b[1m]\u001b[0m MLP: \u001b[1;35mtorch.Size\u001b[0m\u001b[1m(\u001b[0m\u001b[1m[\u001b[0m\u001b[1;36m1\u001b[0m, \u001b[1;36m65\u001b[0m, \u001b[1;36m512\u001b[0m\u001b[1m]\u001b[0m\u001b[1m)\u001b[0m\n"
      ]
     },
     "metadata": {},
     "output_type": "display_data"
    },
    {
     "data": {
      "text/html": [
       "<pre style=\"white-space:pre;overflow-x:auto;line-height:normal;font-family:Menlo,'DejaVu Sans Mono',consolas,'Courier New',monospace\"></pre>\n"
      ],
      "text/plain": []
     },
     "metadata": {},
     "output_type": "display_data"
    },
    {
     "data": {
      "text/plain": [
       "\n",
       "\u001b[1;35mtensor\u001b[0m\u001b[1m(\u001b[0m\u001b[1m[\u001b[0m\u001b[1m[\u001b[0m\u001b[1m[\u001b[0m \u001b[1;36m0.1878\u001b[0m, \u001b[1;36m-0.3415\u001b[0m,  \u001b[1;36m0.5032\u001b[0m,  \u001b[33m...\u001b[0m,  \u001b[1;36m0.1444\u001b[0m,  \u001b[1;36m1.0651\u001b[0m, \u001b[1;36m-1.2634\u001b[0m\u001b[1m]\u001b[0m,\n",
       "         \u001b[1m[\u001b[0m\u001b[1;36m-0.1436\u001b[0m, \u001b[1;36m-1.5271\u001b[0m, \u001b[1;36m-1.5705\u001b[0m,  \u001b[33m...\u001b[0m,  \u001b[1;36m2.1429\u001b[0m,  \u001b[1;36m1.4221\u001b[0m,  \u001b[1;36m0.4807\u001b[0m\u001b[1m]\u001b[0m,\n",
       "         \u001b[1m[\u001b[0m\u001b[1;36m-1.2087\u001b[0m, \u001b[1;36m-1.8699\u001b[0m, \u001b[1;36m-1.8260\u001b[0m,  \u001b[33m...\u001b[0m, \u001b[1;36m-0.3000\u001b[0m,  \u001b[1;36m2.6146\u001b[0m,  \u001b[1;36m2.7233\u001b[0m\u001b[1m]\u001b[0m,\n",
       "         \u001b[33m...\u001b[0m,\n",
       "         \u001b[1m[\u001b[0m\u001b[1;36m-0.3471\u001b[0m,  \u001b[1;36m3.0720\u001b[0m,  \u001b[1;36m1.2989\u001b[0m,  \u001b[33m...\u001b[0m,  \u001b[1;36m3.4940\u001b[0m,  \u001b[1;36m0.8687\u001b[0m,  \u001b[1;36m1.1326\u001b[0m\u001b[1m]\u001b[0m,\n",
       "         \u001b[1m[\u001b[0m\u001b[1;36m-1.1875\u001b[0m,  \u001b[1;36m0.8142\u001b[0m, \u001b[1;36m-2.4327\u001b[0m,  \u001b[33m...\u001b[0m, \u001b[1;36m-2.6108\u001b[0m,  \u001b[1;36m0.3494\u001b[0m, \u001b[1;36m-0.4397\u001b[0m\u001b[1m]\u001b[0m,\n",
       "         \u001b[1m[\u001b[0m \u001b[1;36m1.9610\u001b[0m, \u001b[1;36m-0.9668\u001b[0m,  \u001b[1;36m0.2378\u001b[0m,  \u001b[33m...\u001b[0m, \u001b[1;36m-1.3154\u001b[0m,  \u001b[1;36m2.8154\u001b[0m,  \u001b[1;36m1.4100\u001b[0m\u001b[1m]\u001b[0m\u001b[1m]\u001b[0m\u001b[1m]\u001b[0m,\n",
       "       \u001b[33mgrad_fn\u001b[0m=\u001b[1m<\u001b[0m\u001b[1;95mAddBackward0\u001b[0m\u001b[1m>\u001b[0m\u001b[1m)\u001b[0m"
      ]
     },
     "execution_count": 23,
     "metadata": {},
     "output_type": "execute_result"
    }
   ],
   "source": [
    "Transformer(d_embd=512, d_hidden=2048, n_heads=8, debug=True)(\n",
    "    PatchEmbedding(patch_size=4, d_embd=512, image_shape=sample_image.shape)(\n",
    "        sample_image.unsqueeze(0)\n",
    "    )\n",
    ")"
   ]
  },
  {
   "cell_type": "code",
   "execution_count": 24,
   "metadata": {},
   "outputs": [],
   "source": [
    "class VisionTransformer(nn.Module):\n",
    "    def __init__(\n",
    "        self,\n",
    "        n_classes,\n",
    "        patch_size,\n",
    "        n_blocks,\n",
    "        d_embd,\n",
    "        d_hidden,\n",
    "        n_heads,\n",
    "        image_shape,\n",
    "        dropout=0.0,\n",
    "        debug=False,\n",
    "    ):\n",
    "        super(VisionTransformer, self).__init__()\n",
    "\n",
    "        self.patch_size = patch_size\n",
    "        self.d_embd = d_embd\n",
    "        self.d_hidden = d_hidden\n",
    "        self.n_heads = n_heads\n",
    "\n",
    "        self.patch_embedding = PatchEmbedding(\n",
    "            patch_size, d_embd, image_shape, dropout, debug\n",
    "        )\n",
    "\n",
    "        self.encoder = nn.ModuleList(\n",
    "            [\n",
    "                Transformer(d_embd, d_hidden, n_heads, dropout, debug)\n",
    "                for _ in range(n_blocks)\n",
    "            ]\n",
    "        )\n",
    "\n",
    "        self.mlp_head = nn.Linear(d_embd, n_classes)\n",
    "\n",
    "        self.debug = debug\n",
    "\n",
    "    def _debug_print(self, tensor, name):\n",
    "        if self.debug:\n",
    "            print(f\"{name}: {tensor.shape}\")\n",
    "\n",
    "    def forward(self, x):\n",
    "        self._debug_print(x, \"[VISION TRANSFORMER] Input\")\n",
    "\n",
    "        x = self.patch_embedding(x)\n",
    "        self._debug_print(x, \"[VISION TRANSFORMER] Patch Embedding\")\n",
    "\n",
    "        for i, block in enumerate(self.encoder):\n",
    "            x = block(x)\n",
    "            self._debug_print(x, f\"[VISION TRANSFORMER] Encoder Block {i}\")\n",
    "\n",
    "        # Extract the [CLS] token\n",
    "        x = x[:, 0]\n",
    "        self._debug_print(x, \"[VISION TRANSFORMER] CLS Token\")\n",
    "\n",
    "        x = self.mlp_head(x)\n",
    "        self._debug_print(x, \"[VISION TRANSFORMER] Output\")\n",
    "\n",
    "        return x\n"
   ]
  },
  {
   "cell_type": "code",
   "execution_count": 25,
   "metadata": {},
   "outputs": [
    {
     "data": {
      "text/html": [
       "<pre style=\"white-space:pre;overflow-x:auto;line-height:normal;font-family:Menlo,'DejaVu Sans Mono',consolas,'Courier New',monospace\"></pre>\n"
      ],
      "text/plain": []
     },
     "metadata": {},
     "output_type": "display_data"
    },
    {
     "data": {
      "text/plain": [
       "\n",
       "\u001b[1;35mtensor\u001b[0m\u001b[1m(\u001b[0m\u001b[1m[\u001b[0m\u001b[1m[\u001b[0m \u001b[1;36m1.2878\u001b[0m, \u001b[1;36m-0.2880\u001b[0m,  \u001b[1;36m1.7259\u001b[0m, \u001b[1;36m-0.6441\u001b[0m, \u001b[1;36m-0.9203\u001b[0m,  \u001b[1;36m0.8984\u001b[0m, \u001b[1;36m-0.0109\u001b[0m,  \u001b[1;36m0.5628\u001b[0m,\n",
       "          \u001b[1;36m1.0260\u001b[0m,  \u001b[1;36m0.5308\u001b[0m,  \u001b[1;36m1.9838\u001b[0m, \u001b[1;36m-1.1883\u001b[0m,  \u001b[1;36m0.7288\u001b[0m, \u001b[1;36m-0.7759\u001b[0m,  \u001b[1;36m0.7813\u001b[0m,  \u001b[1;36m0.8570\u001b[0m,\n",
       "         \u001b[1;36m-0.7164\u001b[0m,  \u001b[1;36m0.1963\u001b[0m, \u001b[1;36m-1.1297\u001b[0m,  \u001b[1;36m1.3059\u001b[0m,  \u001b[1;36m0.3834\u001b[0m,  \u001b[1;36m1.2271\u001b[0m, \u001b[1;36m-0.0409\u001b[0m,  \u001b[1;36m1.0722\u001b[0m,\n",
       "         \u001b[1;36m-1.2071\u001b[0m,  \u001b[1;36m1.5152\u001b[0m, \u001b[1;36m-2.2601\u001b[0m, \u001b[1;36m-1.0845\u001b[0m,  \u001b[1;36m1.3872\u001b[0m,  \u001b[1;36m0.2128\u001b[0m,  \u001b[1;36m1.0593\u001b[0m,  \u001b[1;36m0.5519\u001b[0m,\n",
       "         \u001b[1;36m-0.2809\u001b[0m,  \u001b[1;36m0.2848\u001b[0m, \u001b[1;36m-0.6278\u001b[0m,  \u001b[1;36m0.9237\u001b[0m, \u001b[1;36m-1.5856\u001b[0m,  \u001b[1;36m1.7010\u001b[0m, \u001b[1;36m-0.0491\u001b[0m,  \u001b[1;36m0.5822\u001b[0m,\n",
       "          \u001b[1;36m1.0833\u001b[0m, \u001b[1;36m-0.2984\u001b[0m,  \u001b[1;36m1.6154\u001b[0m,  \u001b[1;36m0.7083\u001b[0m,  \u001b[1;36m1.2049\u001b[0m, \u001b[1;36m-0.1737\u001b[0m, \u001b[1;36m-1.7891\u001b[0m,  \u001b[1;36m0.2965\u001b[0m,\n",
       "          \u001b[1;36m2.2163\u001b[0m,  \u001b[1;36m2.0599\u001b[0m,  \u001b[1;36m0.7315\u001b[0m,  \u001b[1;36m0.5785\u001b[0m, \u001b[1;36m-0.9624\u001b[0m, \u001b[1;36m-0.1965\u001b[0m, \u001b[1;36m-0.0807\u001b[0m, \u001b[1;36m-0.0524\u001b[0m,\n",
       "         \u001b[1;36m-0.2362\u001b[0m,  \u001b[1;36m0.0420\u001b[0m,  \u001b[1;36m1.1394\u001b[0m, \u001b[1;36m-2.2819\u001b[0m, \u001b[1;36m-1.7623\u001b[0m, \u001b[1;36m-0.2466\u001b[0m,  \u001b[1;36m0.3610\u001b[0m, \u001b[1;36m-0.0735\u001b[0m,\n",
       "         \u001b[1;36m-0.2567\u001b[0m,  \u001b[1;36m2.2237\u001b[0m,  \u001b[1;36m1.1761\u001b[0m, \u001b[1;36m-0.0217\u001b[0m, \u001b[1;36m-0.1671\u001b[0m, \u001b[1;36m-1.1691\u001b[0m, \u001b[1;36m-1.9201\u001b[0m, \u001b[1;36m-1.3331\u001b[0m,\n",
       "         \u001b[1;36m-0.5595\u001b[0m, \u001b[1;36m-0.9884\u001b[0m, \u001b[1;36m-0.7799\u001b[0m, \u001b[1;36m-3.2154\u001b[0m,  \u001b[1;36m2.2052\u001b[0m,  \u001b[1;36m0.1115\u001b[0m, \u001b[1;36m-0.4696\u001b[0m, \u001b[1;36m-0.1274\u001b[0m,\n",
       "          \u001b[1;36m1.1624\u001b[0m, \u001b[1;36m-0.1456\u001b[0m,  \u001b[1;36m1.0389\u001b[0m,  \u001b[1;36m0.6449\u001b[0m, \u001b[1;36m-0.2107\u001b[0m,  \u001b[1;36m2.0555\u001b[0m,  \u001b[1;36m0.2081\u001b[0m, \u001b[1;36m-0.2549\u001b[0m,\n",
       "         \u001b[1;36m-0.9626\u001b[0m,  \u001b[1;36m0.4408\u001b[0m, \u001b[1;36m-0.4824\u001b[0m,  \u001b[1;36m1.6277\u001b[0m,  \u001b[1;36m0.4987\u001b[0m,  \u001b[1;36m0.9945\u001b[0m,  \u001b[1;36m0.0576\u001b[0m, \u001b[1;36m-0.2806\u001b[0m,\n",
       "         \u001b[1;36m-1.7375\u001b[0m,  \u001b[1;36m1.7582\u001b[0m, \u001b[1;36m-0.8563\u001b[0m, \u001b[1;36m-0.1947\u001b[0m\u001b[1m]\u001b[0m\u001b[1m]\u001b[0m, \u001b[33mgrad_fn\u001b[0m=\u001b[1m<\u001b[0m\u001b[1;95mAddmmBackward0\u001b[0m\u001b[1m>\u001b[0m\u001b[1m)\u001b[0m"
      ]
     },
     "execution_count": 25,
     "metadata": {},
     "output_type": "execute_result"
    }
   ],
   "source": [
    "VisionTransformer(\n",
    "    n_classes=100,\n",
    "    patch_size=4,\n",
    "    n_blocks=6,\n",
    "    d_embd=512,\n",
    "    d_hidden=2048,\n",
    "    n_heads=8,\n",
    "    image_shape=sample_image.shape,\n",
    "    debug=False,\n",
    ")(sample_image.unsqueeze(0))"
   ]
  },
  {
   "cell_type": "code",
   "execution_count": 26,
   "metadata": {},
   "outputs": [],
   "source": [
    "# wandb.init(\n",
    "#     project=\"pix2pix\",\n",
    "#     config={\n",
    "#         \"Generator Optimizer\": g_optimizer.__class__.__name__,\n",
    "#         \"Discriminator Optimizer\": d_optimizer.__class__.__name__,\n",
    "#         \"Loss Function\": loss_fn.__class__.__name__,\n",
    "#         \"L1 Loss Function\": l1_loss.__class__.__name__,\n",
    "#         \"Batch Size\": BATCH_SIZE,\n",
    "#         \"Epochs\": N_EPOCHS,\n",
    "#         \"Learning Rate\": LEARNING_RATE,\n",
    "#         \"L1 Lambda\": L1_LAMBDA,\n",
    "#         \"Generator Feature Map Size\": GEN_FEATURE_MAP,\n",
    "#         \"Discriminator Feature Map Size\": DISC_FEATURE_MAPS,\n",
    "#         \"Total Parameters\": total_param_count,\n",
    "#     },\n",
    "# )"
   ]
  },
  {
   "cell_type": "code",
   "execution_count": 76,
   "metadata": {},
   "outputs": [
    {
     "data": {
      "text/html": [
       "<pre style=\"white-space:pre;overflow-x:auto;line-height:normal;font-family:Menlo,'DejaVu Sans Mono',consolas,'Courier New',monospace\">Total Parameters: <span style=\"color: #008080; text-decoration-color: #008080; font-weight: bold\">78.</span>00M\n",
       "</pre>\n"
      ],
      "text/plain": [
       "Total Parameters: \u001b[1;36m78.\u001b[0m00M\n"
      ]
     },
     "metadata": {},
     "output_type": "display_data"
    }
   ],
   "source": [
    "model = VisionTransformer(\n",
    "    n_classes=NUM_CLASSES,\n",
    "    patch_size=PATCH_SIZE,\n",
    "    n_blocks=NUM_BLOCKS,\n",
    "    d_embd=DIM_EMBEDDING,\n",
    "    d_hidden=DIM_HIDDEN,\n",
    "    n_heads=NUM_HEADS,\n",
    "    dropout=DROPOUT_RATE,\n",
    "    image_shape=IMAGE_SHAPE,\n",
    "    debug=False,\n",
    ").to(device)\n",
    "\n",
    "loss_fn = nn.CrossEntropyLoss()\n",
    "optimizer = torch.optim.Adam(model.parameters(), lr=LEARNING_RATE)\n",
    "\n",
    "total_param_count = sum(p.numel() for p in model.parameters() if p.requires_grad)\n",
    "\n",
    "print(f\"Total Parameters: {total_param_count // 1e6:.2f}M\")\n"
   ]
  },
  {
   "cell_type": "code",
   "execution_count": 77,
   "metadata": {},
   "outputs": [
    {
     "data": {
      "text/html": [
       "<pre style=\"white-space:pre;overflow-x:auto;line-height:normal;font-family:Menlo,'DejaVu Sans Mono',consolas,'Courier New',monospace\"></pre>\n"
      ],
      "text/plain": []
     },
     "metadata": {},
     "output_type": "display_data"
    },
    {
     "data": {
      "text/plain": [
       "\n",
       "\u001b[1;35mtensor\u001b[0m\u001b[1m(\u001b[0m\u001b[1m[\u001b[0m\u001b[1m[\u001b[0m\u001b[1;36m-3.3495e+00\u001b[0m,  \u001b[1;36m4.0769e-01\u001b[0m, \u001b[1;36m-7.8863e-01\u001b[0m, \u001b[1;36m-1.2023e+00\u001b[0m,  \u001b[1;36m1.8038e+00\u001b[0m,\n",
       "          \u001b[1;36m2.9593e+00\u001b[0m, \u001b[1;36m-2.0148e+00\u001b[0m,  \u001b[1;36m2.4836e+00\u001b[0m, \u001b[1;36m-2.6898e+00\u001b[0m, \u001b[1;36m-2.2263e+00\u001b[0m,\n",
       "         \u001b[1;36m-5.9755e-01\u001b[0m,  \u001b[1;36m4.4202e-01\u001b[0m, \u001b[1;36m-5.4665e-01\u001b[0m,  \u001b[1;36m1.0273e+00\u001b[0m,  \u001b[1;36m1.4158e+00\u001b[0m,\n",
       "          \u001b[1;36m4.0609e+00\u001b[0m,  \u001b[1;36m1.8038e+00\u001b[0m, \u001b[1;36m-6.1288e-01\u001b[0m,  \u001b[1;36m9.7700e-01\u001b[0m,  \u001b[1;36m3.1191e-01\u001b[0m,\n",
       "          \u001b[1;36m3.2840e+00\u001b[0m,  \u001b[1;36m1.2564e+00\u001b[0m,  \u001b[1;36m5.3996e-01\u001b[0m, \u001b[1;36m-8.0335e-01\u001b[0m,  \u001b[1;36m1.2578e-01\u001b[0m,\n",
       "          \u001b[1;36m7.3471e-01\u001b[0m, \u001b[1;36m-1.0692e+00\u001b[0m, \u001b[1;36m-3.3722e-01\u001b[0m, \u001b[1;36m-6.1822e-01\u001b[0m,  \u001b[1;36m3.2782e-03\u001b[0m,\n",
       "          \u001b[1;36m1.1411e+00\u001b[0m,  \u001b[1;36m1.6427e+00\u001b[0m,  \u001b[1;36m1.7058e+00\u001b[0m, \u001b[1;36m-6.8257e-01\u001b[0m, \u001b[1;36m-1.4931e+00\u001b[0m,\n",
       "          \u001b[1;36m7.9584e-01\u001b[0m, \u001b[1;36m-5.0550e-01\u001b[0m, \u001b[1;36m-1.9545e+00\u001b[0m, \u001b[1;36m-3.0474e+00\u001b[0m,  \u001b[1;36m1.7754e+00\u001b[0m,\n",
       "          \u001b[1;36m1.4298e+00\u001b[0m,  \u001b[1;36m3.7278e-01\u001b[0m, \u001b[1;36m-2.0146e+00\u001b[0m, \u001b[1;36m-1.3935e+00\u001b[0m, \u001b[1;36m-1.0737e+00\u001b[0m,\n",
       "          \u001b[1;36m2.5362e+00\u001b[0m,  \u001b[1;36m7.9206e-01\u001b[0m,  \u001b[1;36m1.4509e+00\u001b[0m, \u001b[1;36m-6.5338e-01\u001b[0m,  \u001b[1;36m3.3173e-01\u001b[0m,\n",
       "         \u001b[1;36m-5.0637e-01\u001b[0m,  \u001b[1;36m1.2618e+00\u001b[0m, \u001b[1;36m-5.8952e-01\u001b[0m,  \u001b[1;36m9.3230e-01\u001b[0m, \u001b[1;36m-6.3689e-01\u001b[0m,\n",
       "          \u001b[1;36m1.6637e+00\u001b[0m,  \u001b[1;36m9.9753e-01\u001b[0m,  \u001b[1;36m1.1499e+00\u001b[0m,  \u001b[1;36m5.9844e-01\u001b[0m, \u001b[1;36m-4.7778e-01\u001b[0m,\n",
       "          \u001b[1;36m1.0282e+00\u001b[0m,  \u001b[1;36m1.1029e+00\u001b[0m,  \u001b[1;36m2.5151e+00\u001b[0m, \u001b[1;36m-4.8295e-01\u001b[0m,  \u001b[1;36m5.7867e-01\u001b[0m,\n",
       "         \u001b[1;36m-3.9887e+00\u001b[0m, \u001b[1;36m-2.7647e+00\u001b[0m, \u001b[1;36m-2.3395e+00\u001b[0m,  \u001b[1;36m1.7726e+00\u001b[0m,  \u001b[1;36m3.3993e+00\u001b[0m,\n",
       "          \u001b[1;36m1.5130e-01\u001b[0m,  \u001b[1;36m1.1182e+00\u001b[0m, \u001b[1;36m-6.0370e-01\u001b[0m,  \u001b[1;36m1.7522e+00\u001b[0m,  \u001b[1;36m1.9644e+00\u001b[0m,\n",
       "         \u001b[1;36m-4.3333e+00\u001b[0m,  \u001b[1;36m1.4369e+00\u001b[0m,  \u001b[1;36m1.8638e-02\u001b[0m, \u001b[1;36m-1.5803e-01\u001b[0m, \u001b[1;36m-4.7269e-01\u001b[0m,\n",
       "         \u001b[1;36m-5.1343e-02\u001b[0m,  \u001b[1;36m8.9145e-01\u001b[0m,  \u001b[1;36m2.2546e+00\u001b[0m,  \u001b[1;36m1.1577e+00\u001b[0m,  \u001b[1;36m1.1975e-01\u001b[0m,\n",
       "         \u001b[1;36m-9.4384e-01\u001b[0m, \u001b[1;36m-2.8709e+00\u001b[0m,  \u001b[1;36m1.3091e+00\u001b[0m,  \u001b[1;36m1.9353e+00\u001b[0m,  \u001b[1;36m7.4295e-01\u001b[0m,\n",
       "          \u001b[1;36m1.3696e-01\u001b[0m,  \u001b[1;36m1.4470e+00\u001b[0m, \u001b[1;36m-2.3669e+00\u001b[0m,  \u001b[1;36m2.0772e+00\u001b[0m,  \u001b[1;36m9.8994e-01\u001b[0m,\n",
       "         \u001b[1;36m-3.2215e+00\u001b[0m, \u001b[1;36m-3.1861e-02\u001b[0m,  \u001b[1;36m8.9579e-01\u001b[0m,  \u001b[1;36m1.1048e+00\u001b[0m,  \u001b[1;36m3.0601e-01\u001b[0m\u001b[1m]\u001b[0m\u001b[1m]\u001b[0m,\n",
       "       \u001b[33mdevice\u001b[0m=\u001b[32m'cuda:0'\u001b[0m, \u001b[33mgrad_fn\u001b[0m=\u001b[1m<\u001b[0m\u001b[1;95mAddmmBackward0\u001b[0m\u001b[1m>\u001b[0m\u001b[1m)\u001b[0m"
      ]
     },
     "execution_count": 77,
     "metadata": {},
     "output_type": "execute_result"
    }
   ],
   "source": [
    "model(sample_image.unsqueeze(0).to(device))"
   ]
  },
  {
   "cell_type": "code",
   "execution_count": 28,
   "metadata": {},
   "outputs": [
    {
     "data": {
      "application/vnd.jupyter.widget-view+json": {
       "model_id": "a6cfe8eca3494e5fb103ae86fa4ac06e",
       "version_major": 2,
       "version_minor": 0
      },
      "text/plain": [
       "Epochs:   0%|          | 0/50 [00:00<?, ?it/s]"
      ]
     },
     "metadata": {},
     "output_type": "display_data"
    },
    {
     "data": {
      "application/vnd.jupyter.widget-view+json": {
       "model_id": "b20ef18cabdc4ad4b8e53c2a1beef767",
       "version_major": 2,
       "version_minor": 0
      },
      "text/plain": [
       "Training Epoch 0:   0%|          | 0/547 [00:00<?, ?it/s]"
      ]
     },
     "metadata": {},
     "output_type": "display_data"
    },
    {
     "data": {
      "text/html": [
       "<pre style=\"white-space:pre;overflow-x:auto;line-height:normal;font-family:Menlo,'DejaVu Sans Mono',consolas,'Courier New',monospace\">Epoch <span style=\"color: #008080; text-decoration-color: #008080; font-weight: bold\">0</span> | Train Loss: <span style=\"color: #008080; text-decoration-color: #008080; font-weight: bold\">4.6049</span>\n",
       "</pre>\n"
      ],
      "text/plain": [
       "Epoch \u001b[1;36m0\u001b[0m | Train Loss: \u001b[1;36m4.6049\u001b[0m\n"
      ]
     },
     "metadata": {},
     "output_type": "display_data"
    },
    {
     "data": {
      "application/vnd.jupyter.widget-view+json": {
       "model_id": "1d73fc0bf98341c5a562c1f233cd8101",
       "version_major": 2,
       "version_minor": 0
      },
      "text/plain": [
       "Validation Epoch 0:   0%|          | 0/235 [00:00<?, ?it/s]"
      ]
     },
     "metadata": {},
     "output_type": "display_data"
    },
    {
     "data": {
      "text/html": [
       "<pre style=\"white-space:pre;overflow-x:auto;line-height:normal;font-family:Menlo,'DejaVu Sans Mono',consolas,'Courier New',monospace\">Epoch <span style=\"color: #008080; text-decoration-color: #008080; font-weight: bold\">0</span> | Validation Loss: <span style=\"color: #008080; text-decoration-color: #008080; font-weight: bold\">4.6021</span>\n",
       "</pre>\n"
      ],
      "text/plain": [
       "Epoch \u001b[1;36m0\u001b[0m | Validation Loss: \u001b[1;36m4.6021\u001b[0m\n"
      ]
     },
     "metadata": {},
     "output_type": "display_data"
    }
   ],
   "source": [
    "for epoch in tqdm(range(N_EPOCHS), desc=\"Epochs\"):\n",
    "    # -------------------\n",
    "    # Training loop\n",
    "    # -------------------\n",
    "    train_loss = 0.0\n",
    "    for idx, (imgs, targets) in enumerate(\n",
    "        tqdm(train_loader, desc=f\"Training Epoch {epoch}\")\n",
    "    ):\n",
    "        batch_size = imgs.size(0)\n",
    "        imgs, targets = imgs.to(device), targets.to(device)\n",
    "\n",
    "        optimizer.zero_grad()\n",
    "\n",
    "        predictions = model(imgs)\n",
    "        predictions = F.softmax(predictions, dim=1)\n",
    "\n",
    "        loss = loss_fn(predictions, targets)\n",
    "\n",
    "        train_loss += loss.item()\n",
    "\n",
    "        loss.backward()\n",
    "        optimizer.step()\n",
    "\n",
    "    train_loss /= len(train_loader)\n",
    "    print(f\"Epoch {epoch} | Train Loss: {train_loss:.4f}\")\n",
    "\n",
    "    # -------------------\n",
    "    # Validation loop\n",
    "    # -------------------\n",
    "\n",
    "    if epoch % 10 == 0:\n",
    "        val_loss = 0.0\n",
    "        with torch.no_grad():\n",
    "            for idx, (imgs, targets) in enumerate(\n",
    "                tqdm(val_loader, desc=f\"Validation Epoch {epoch}\")\n",
    "            ):\n",
    "                batch_size = imgs.size(0)\n",
    "                imgs, targets = imgs.to(device), targets.to(device)\n",
    "\n",
    "                predictions = model(imgs)\n",
    "                predictions = F.softmax(predictions, dim=1)\n",
    "\n",
    "                loss = loss_fn(predictions, targets)\n",
    "\n",
    "                val_loss += loss.item()\n",
    "\n",
    "        val_loss /= len(val_loader)\n",
    "        print(f\"Epoch {epoch} | Validation Loss: {val_loss:.4f}\")\n",
    "\n",
    "        # Save checkpoint\n",
    "        torch.save(model.state_dict(), f\"./data/models/vit_epoch_{epoch}.pth\")\n",
    "\n",
    "# Save final model\n",
    "torch.save(model.state_dict(), \"./data/models/vit_final.pth\")\n"
   ]
  },
  {
   "cell_type": "code",
   "execution_count": 44,
   "metadata": {},
   "outputs": [
    {
     "data": {
      "text/html": [
       "<pre style=\"white-space:pre;overflow-x:auto;line-height:normal;font-family:Menlo,'DejaVu Sans Mono',consolas,'Courier New',monospace\">Predicted Label: wardrobe\n",
       "</pre>\n"
      ],
      "text/plain": [
       "Predicted Label: wardrobe\n"
      ]
     },
     "metadata": {},
     "output_type": "display_data"
    },
    {
     "data": {
      "text/html": [
       "<pre style=\"white-space:pre;overflow-x:auto;line-height:normal;font-family:Menlo,'DejaVu Sans Mono',consolas,'Courier New',monospace\"><span style=\"color: #00ff00; text-decoration-color: #00ff00; font-style: italic\">True</span> Label: sweet_pepper\n",
       "</pre>\n"
      ],
      "text/plain": [
       "\u001b[3;92mTrue\u001b[0m Label: sweet_pepper\n"
      ]
     },
     "metadata": {},
     "output_type": "display_data"
    },
    {
     "data": {
      "text/html": [
       "<pre style=\"white-space:pre;overflow-x:auto;line-height:normal;font-family:Menlo,'DejaVu Sans Mono',consolas,'Courier New',monospace\"></pre>\n"
      ],
      "text/plain": []
     },
     "metadata": {},
     "output_type": "display_data"
    },
    {
     "data": {
      "image/png": "[encoded data removed]",
      "text/plain": [
       "\u001b[1m<\u001b[0m\u001b[1;95mFigure\u001b[0m\u001b[39m size 64\u001b[0m\u001b[1;36m0x480\u001b[0m\u001b[39m with \u001b[0m\u001b[1;36m1\u001b[0m\u001b[39m Axes\u001b[0m\u001b[1m>\u001b[0m"
      ]
     },
     "metadata": {},
     "output_type": "display_data"
    }
   ],
   "source": [
    "test_img, test_target = test_dataset[563]\n",
    "\n",
    "model.eval()\n",
    "with torch.no_grad():\n",
    "    test_img = test_img.unsqueeze(0).to(device)\n",
    "    test_pred = model(test_img)\n",
    "    test_pred = F.softmax(test_pred, dim=1)\n",
    "\n",
    "    test_pred = test_pred.cpu().numpy().squeeze()\n",
    "    test_pred_label = np.argmax(test_pred)\n",
    "\n",
    "    print(f\"Predicted Label: {true_labels[test_pred_label]}\")\n",
    "    print(f\"True Label: {true_labels[test_target]}\")\n",
    "\n",
    "    test_img = reverse_transform(test_img.squeeze(), train=False)\n",
    "    plt.imshow(test_img)\n",
    "    plt.title(\n",
    "        f\"Predicted: {true_labels[test_pred_label]} | True: {true_labels[test_target]}\"\n",
    "    )\n",
    "    plt.axis(\"off\")\n",
    "\n",
    "    plt.show()\n"
   ]
  }
 ],
 "metadata": {
  "kernelspec": {
   "display_name": ".venv",
   "language": "python",
   "name": "python3"
  },
  "language_info": {
   "codemirror_mode": {
    "name": "ipython",
    "version": 3
   },
   "file_extension": ".py",
   "mimetype": "text/x-python",
   "name": "python",
   "nbconvert_exporter": "python",
   "pygments_lexer": "ipython3",
   "version": "3.11.0"
  }
 },
 "nbformat": 4,
 "nbformat_minor": 2
}
