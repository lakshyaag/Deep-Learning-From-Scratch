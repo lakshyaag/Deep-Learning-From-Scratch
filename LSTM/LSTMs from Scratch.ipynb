{
 "cells": [
  {
   "cell_type": "markdown",
   "metadata": {},
   "source": [
    "## Introduction\n",
    "\n",
    "This notebook will be about implementing a character-level long short-term memory (LSTM) recurrent neural network (RNN) to generate text using PyTorch. The model will be trained on the text of Shakespeare's plays and will be able to generate text in the style of Shakespeare.\n",
    "\n",
    "I will only be using PyTorch to define the tensor operations and the neural network architecture. I will not be using any pre-built RNN modules from PyTorch. This is to understand the inner workings of an RNN better.\n"
   ]
  },
  {
   "cell_type": "markdown",
   "metadata": {},
   "source": [
    "## Imports\n"
   ]
  },
  {
   "cell_type": "code",
   "execution_count": 1,
   "metadata": {},
   "outputs": [
    {
     "data": {
      "text/html": [
       "<pre style=\"white-space:pre;overflow-x:auto;line-height:normal;font-family:Menlo,'DejaVu Sans Mono',consolas,'Courier New',monospace\">Device: cuda\n",
       "</pre>\n"
      ],
      "text/plain": [
       "Device: cuda\n"
      ]
     },
     "metadata": {},
     "output_type": "display_data"
    }
   ],
   "source": [
    "import os\n",
    "import sys\n",
    "from typing import Any, Dict, List, Tuple, Union\n",
    "\n",
    "import matplotlib.pyplot as plt\n",
    "import numpy as np\n",
    "import seaborn as sns\n",
    "import torch\n",
    "from rich import print\n",
    "from torch import nn\n",
    "from torch.nn import functional as F\n",
    "from torch.utils.data import Dataset\n",
    "from tqdm import tqdm\n",
    "\n",
    "%load_ext autoreload\n",
    "%autoreload 2\n",
    "%load_ext rich\n",
    "\n",
    "# Set random seed for reproducibility\n",
    "seed = 42\n",
    "\n",
    "# Set device\n",
    "device = torch.device(\"cuda\" if torch.cuda.is_available() else \"cpu\")\n",
    "print(f\"Device: {device}\")\n",
    "\n",
    "# Set data directory\n",
    "DATA_DIR = os.path.join(os.getcwd(), \"data\")"
   ]
  },
  {
   "cell_type": "markdown",
   "metadata": {},
   "source": [
    "## Load the dataset\n",
    "\n",
    "The dataset is a text file containing the text of Shakespeare's plays in `input.txt`. We will load the text file, and see the first few characters of the text.\n"
   ]
  },
  {
   "cell_type": "code",
   "execution_count": 2,
   "metadata": {},
   "outputs": [
    {
     "data": {
      "text/html": [
       "<pre style=\"white-space:pre;overflow-x:auto;line-height:normal;font-family:Menlo,'DejaVu Sans Mono',consolas,'Courier New',monospace\">First Citizen:\n",
       "Before we proceed any further, hear me speak.\n",
       "\n",
       "All:\n",
       "Speak, speak.\n",
       "\n",
       "First Citizen:\n",
       "You\n",
       "</pre>\n"
      ],
      "text/plain": [
       "First Citizen:\n",
       "Before we proceed any further, hear me speak.\n",
       "\n",
       "All:\n",
       "Speak, speak.\n",
       "\n",
       "First Citizen:\n",
       "You\n"
      ]
     },
     "metadata": {},
     "output_type": "display_data"
    }
   ],
   "source": [
    "with open(\"./input.txt\") as f:\n",
    "    text = f.read()\n",
    "\n",
    "print(text[:100])"
   ]
  },
  {
   "cell_type": "markdown",
   "metadata": {},
   "source": [
    "Now, let's turn this into a dataset that we can use to train the model. To do this, we will need to do preprocessing so the model can understand the text.\n"
   ]
  },
  {
   "cell_type": "code",
   "execution_count": 3,
   "metadata": {},
   "outputs": [],
   "source": [
    "class ShakespeareDataset(Dataset):\n",
    "    \"\"\"\n",
    "    A custom Dataset class for Shakespeare text data.\n",
    "\n",
    "    Attributes:\n",
    "        text (str): The entire text from the file.\n",
    "        chars (List[str]): A sorted list of unique characters in the text.\n",
    "        vocab_size (int): The size of the vocabulary.\n",
    "        s_to_i (Dict[str, int]): A dictionary mapping characters to indices.\n",
    "        i_to_s (Dict[int, str]): A dictionary mapping indices to characters.\n",
    "        seq_len (int): The length of the sequences.\n",
    "    \"\"\"\n",
    "\n",
    "    def __init__(self, file_path: str, seq_len: int):\n",
    "        \"\"\"\n",
    "        Initializes the ShakespeareDataset with the given file path and sequence length.\n",
    "\n",
    "        Args:\n",
    "            file_path (str): Path to the text file.\n",
    "            seq_len (int): Length of the sequences.\n",
    "        \"\"\"\n",
    "        with open(file_path, encoding=\"utf-8\") as f:\n",
    "            text = f.read()\n",
    "\n",
    "        self.text = text\n",
    "        self.chars = sorted(list(set(text)))\n",
    "        self.vocab_size = len(self.chars)\n",
    "        self.s_to_i = {s: i for i, s in enumerate(self.chars)}\n",
    "        self.i_to_s = {i: s for i, s in enumerate(self.chars)}\n",
    "        self.seq_len = seq_len\n",
    "\n",
    "    def __len__(self) -> int:\n",
    "        \"\"\"\n",
    "        Returns the length of the dataset.\n",
    "\n",
    "        Returns:\n",
    "            int: The number of sequences in the dataset.\n",
    "        \"\"\"\n",
    "        return len(self.text) - self.seq_len\n",
    "\n",
    "    def __getitem__(self, idx: int) -> Tuple[torch.Tensor, torch.Tensor]:\n",
    "        \"\"\"\n",
    "        Returns a tuple of input and target sequences for the given index.\n",
    "\n",
    "        Args:\n",
    "            idx (int): Index of the sequence.\n",
    "\n",
    "        Returns:\n",
    "            Tuple[torch.Tensor, torch.Tensor]: Input and target sequences as tensors.\n",
    "        \"\"\"\n",
    "        return (\n",
    "            torch.tensor(\n",
    "                [self.s_to_i[c] for c in self.text[idx : idx + self.seq_len]],\n",
    "                dtype=torch.long,\n",
    "            ),\n",
    "            torch.tensor(\n",
    "                [self.s_to_i[c] for c in self.text[idx + 1 : idx + self.seq_len + 1]],\n",
    "                dtype=torch.long,\n",
    "            ),\n",
    "        )\n",
    "\n",
    "    def decode(self, x: Union[torch.Tensor, List[int]]) -> str:\n",
    "        \"\"\"\n",
    "        Decodes a tensor or list of indices back to a string.\n",
    "\n",
    "        Args:\n",
    "            x (Union[torch.Tensor, List[int]]): Tensor or list of indices.\n",
    "\n",
    "        Returns:\n",
    "            str: Decoded string.\n",
    "        \"\"\"\n",
    "        if isinstance(x, torch.Tensor):\n",
    "            x = x.tolist()\n",
    "\n",
    "        return \"\".join([self.i_to_s[i] for i in x])\n",
    "\n",
    "    def encode(self, s: str) -> torch.Tensor:\n",
    "        \"\"\"\n",
    "        Encodes a string into a tensor of indices.\n",
    "\n",
    "        Args:\n",
    "            s (str): Input string.\n",
    "\n",
    "        Returns:\n",
    "            torch.Tensor: Encoded tensor of indices.\n",
    "        \"\"\"\n",
    "        encoded = [self.s_to_i[c] for c in s]\n",
    "        return torch.tensor(encoded, dtype=torch.long).to(device)\n",
    "\n",
    "    def collate_fn(\n",
    "        self, batch: List[Tuple[torch.Tensor, torch.Tensor]]\n",
    "    ) -> Tuple[torch.Tensor, torch.Tensor]:\n",
    "        \"\"\"\n",
    "        Collates a batch of sequences into padded tensors.\n",
    "\n",
    "        Args:\n",
    "            batch (List[Tuple[torch.Tensor, torch.Tensor]]): Batch of input and target sequences.\n",
    "\n",
    "        Returns:\n",
    "            Tuple[torch.Tensor, torch.Tensor]: Padded input and target sequences.\n",
    "        \"\"\"\n",
    "        x, y = zip(*batch)\n",
    "        x = torch.nn.utils.rnn.pad_sequence(\n",
    "            x, batch_first=True, padding_value=self.s_to_i[\" \"]\n",
    "        )\n",
    "        y = torch.nn.utils.rnn.pad_sequence(\n",
    "            y, batch_first=True, padding_value=self.s_to_i[\" \"]\n",
    "        )\n",
    "        return x, y\n",
    "\n",
    "    def get_vocab_size(self) -> int:\n",
    "        \"\"\"\n",
    "        Returns the size of the vocabulary.\n",
    "\n",
    "        Returns:\n",
    "            int: Vocabulary size.\n",
    "        \"\"\"\n",
    "        return self.vocab_size"
   ]
  },
  {
   "cell_type": "markdown",
   "metadata": {},
   "source": [
    "##### What's important above?\n",
    "\n",
    "- `s_to_i` and `i_to_s` are dictionaries that map characters to integers and integers to characters, respectively. This is important because the model can only understand numbers, so we need to convert the text to numbers. This is a form of tokenization. In a more realistic scenario, we would use a [Byte Pair Encoding (BPE) tokenizer](https://huggingface.co/learn/nlp-course/en/chapter6/5). Karpathy has a great tutorial on how to build this from scratch in one of his amazing videos, [link here.](https://www.youtube.com/watch?v=zduSFxRajkE)\n",
    "- X and y are the input and output sequences, respectively. The input sequence is a sequence of characters, and the output sequence is the next character in the text. The model will learn to predict the next character in the text given the input sequence.\n",
    "- `decode` and `encode` are utility functions that convert between representations, mostly for debugging and visualization purposes.\n",
    "- `collate_fn` creates batches of data to use. See this [StackOverflow answer](https://stackoverflow.com/questions/65279115/how-to-use-collate-fn-with-dataloaders) for more information on what `collate_fn` does.\n"
   ]
  },
  {
   "cell_type": "code",
   "execution_count": 4,
   "metadata": {},
   "outputs": [],
   "source": [
    "s = ShakespeareDataset(\"./input.txt\", 8)"
   ]
  },
  {
   "cell_type": "markdown",
   "metadata": {},
   "source": [
    "However, just to make it fun, I'll re-implement everything without the `DataLoader` class.\n"
   ]
  },
  {
   "cell_type": "code",
   "execution_count": 5,
   "metadata": {},
   "outputs": [
    {
     "data": {
      "text/html": [
       "<pre style=\"white-space:pre;overflow-x:auto;line-height:normal;font-family:Menlo,'DejaVu Sans Mono',consolas,'Courier New',monospace\">Train data: <span style=\"color: #008080; text-decoration-color: #008080; font-weight: bold\">1003847</span>\n",
       "</pre>\n"
      ],
      "text/plain": [
       "Train data: \u001b[1;36m1003847\u001b[0m\n"
      ]
     },
     "metadata": {},
     "output_type": "display_data"
    },
    {
     "data": {
      "text/html": [
       "<pre style=\"white-space:pre;overflow-x:auto;line-height:normal;font-family:Menlo,'DejaVu Sans Mono',consolas,'Courier New',monospace\">Validation data: <span style=\"color: #008080; text-decoration-color: #008080; font-weight: bold\">111547</span>\n",
       "</pre>\n"
      ],
      "text/plain": [
       "Validation data: \u001b[1;36m111547\u001b[0m\n"
      ]
     },
     "metadata": {},
     "output_type": "display_data"
    }
   ],
   "source": [
    "n = int(len(s) * 0.9)\n",
    "train_data = s.text[:n]\n",
    "val_data = s.text[n:]\n",
    "\n",
    "print(f\"Train data: {len(train_data)}\")\n",
    "print(f\"Validation data: {len(val_data)}\")"
   ]
  },
  {
   "cell_type": "code",
   "execution_count": 6,
   "metadata": {},
   "outputs": [],
   "source": [
    "# Model parameters\n",
    "BATCH_SIZE = 4\n",
    "SEQ_LEN = 8\n",
    "VOCAB_SIZE = s.get_vocab_size()\n",
    "EMBEDDING_DIM = 128\n",
    "HIDDEN_DIM = 256\n",
    "NUM_LAYERS = 3"
   ]
  },
  {
   "cell_type": "code",
   "execution_count": 7,
   "metadata": {},
   "outputs": [
    {
     "data": {
      "text/html": [
       "<pre style=\"white-space:pre;overflow-x:auto;line-height:normal;font-family:Menlo,'DejaVu Sans Mono',consolas,'Courier New',monospace\"><span style=\"color: #800080; text-decoration-color: #800080; font-weight: bold\">tensor</span><span style=\"font-weight: bold\">([[</span><span style=\"color: #008080; text-decoration-color: #008080; font-weight: bold\">43</span>, <span style=\"color: #008080; text-decoration-color: #008080; font-weight: bold\">56</span>,  <span style=\"color: #008080; text-decoration-color: #008080; font-weight: bold\">8</span>,  <span style=\"color: #008080; text-decoration-color: #008080; font-weight: bold\">0</span>,  <span style=\"color: #008080; text-decoration-color: #008080; font-weight: bold\">0</span>, <span style=\"color: #008080; text-decoration-color: #008080; font-weight: bold\">32</span>, <span style=\"color: #008080; text-decoration-color: #008080; font-weight: bold\">30</span>, <span style=\"color: #008080; text-decoration-color: #008080; font-weight: bold\">13</span><span style=\"font-weight: bold\">]</span>,\n",
       "        <span style=\"font-weight: bold\">[</span> <span style=\"color: #008080; text-decoration-color: #008080; font-weight: bold\">8</span>,  <span style=\"color: #008080; text-decoration-color: #008080; font-weight: bold\">0</span>, <span style=\"color: #008080; text-decoration-color: #008080; font-weight: bold\">21</span>,  <span style=\"color: #008080; text-decoration-color: #008080; font-weight: bold\">1</span>, <span style=\"color: #008080; text-decoration-color: #008080; font-weight: bold\">57</span>, <span style=\"color: #008080; text-decoration-color: #008080; font-weight: bold\">39</span>, <span style=\"color: #008080; text-decoration-color: #008080; font-weight: bold\">61</span>,  <span style=\"color: #008080; text-decoration-color: #008080; font-weight: bold\">1</span><span style=\"font-weight: bold\">]</span>,\n",
       "        <span style=\"font-weight: bold\">[</span><span style=\"color: #008080; text-decoration-color: #008080; font-weight: bold\">43</span>,  <span style=\"color: #008080; text-decoration-color: #008080; font-weight: bold\">1</span>, <span style=\"color: #008080; text-decoration-color: #008080; font-weight: bold\">40</span>, <span style=\"color: #008080; text-decoration-color: #008080; font-weight: bold\">39</span>, <span style=\"color: #008080; text-decoration-color: #008080; font-weight: bold\">52</span>, <span style=\"color: #008080; text-decoration-color: #008080; font-weight: bold\">47</span>, <span style=\"color: #008080; text-decoration-color: #008080; font-weight: bold\">57</span>, <span style=\"color: #008080; text-decoration-color: #008080; font-weight: bold\">46</span><span style=\"font-weight: bold\">]</span>,\n",
       "        <span style=\"font-weight: bold\">[</span><span style=\"color: #008080; text-decoration-color: #008080; font-weight: bold\">39</span>, <span style=\"color: #008080; text-decoration-color: #008080; font-weight: bold\">41</span>, <span style=\"color: #008080; text-decoration-color: #008080; font-weight: bold\">43</span>,  <span style=\"color: #008080; text-decoration-color: #008080; font-weight: bold\">1</span>, <span style=\"color: #008080; text-decoration-color: #008080; font-weight: bold\">57</span>, <span style=\"color: #008080; text-decoration-color: #008080; font-weight: bold\">46</span>, <span style=\"color: #008080; text-decoration-color: #008080; font-weight: bold\">53</span>, <span style=\"color: #008080; text-decoration-color: #008080; font-weight: bold\">59</span><span style=\"font-weight: bold\">]])</span>\n",
       "</pre>\n"
      ],
      "text/plain": [
       "\u001b[1;35mtensor\u001b[0m\u001b[1m(\u001b[0m\u001b[1m[\u001b[0m\u001b[1m[\u001b[0m\u001b[1;36m43\u001b[0m, \u001b[1;36m56\u001b[0m,  \u001b[1;36m8\u001b[0m,  \u001b[1;36m0\u001b[0m,  \u001b[1;36m0\u001b[0m, \u001b[1;36m32\u001b[0m, \u001b[1;36m30\u001b[0m, \u001b[1;36m13\u001b[0m\u001b[1m]\u001b[0m,\n",
       "        \u001b[1m[\u001b[0m \u001b[1;36m8\u001b[0m,  \u001b[1;36m0\u001b[0m, \u001b[1;36m21\u001b[0m,  \u001b[1;36m1\u001b[0m, \u001b[1;36m57\u001b[0m, \u001b[1;36m39\u001b[0m, \u001b[1;36m61\u001b[0m,  \u001b[1;36m1\u001b[0m\u001b[1m]\u001b[0m,\n",
       "        \u001b[1m[\u001b[0m\u001b[1;36m43\u001b[0m,  \u001b[1;36m1\u001b[0m, \u001b[1;36m40\u001b[0m, \u001b[1;36m39\u001b[0m, \u001b[1;36m52\u001b[0m, \u001b[1;36m47\u001b[0m, \u001b[1;36m57\u001b[0m, \u001b[1;36m46\u001b[0m\u001b[1m]\u001b[0m,\n",
       "        \u001b[1m[\u001b[0m\u001b[1;36m39\u001b[0m, \u001b[1;36m41\u001b[0m, \u001b[1;36m43\u001b[0m,  \u001b[1;36m1\u001b[0m, \u001b[1;36m57\u001b[0m, \u001b[1;36m46\u001b[0m, \u001b[1;36m53\u001b[0m, \u001b[1;36m59\u001b[0m\u001b[1m]\u001b[0m\u001b[1m]\u001b[0m\u001b[1m)\u001b[0m\n"
      ]
     },
     "metadata": {},
     "output_type": "display_data"
    },
    {
     "data": {
      "text/html": [
       "<pre style=\"white-space:pre;overflow-x:auto;line-height:normal;font-family:Menlo,'DejaVu Sans Mono',consolas,'Courier New',monospace\"><span style=\"color: #800080; text-decoration-color: #800080; font-weight: bold\">tensor</span><span style=\"font-weight: bold\">([[</span><span style=\"color: #008080; text-decoration-color: #008080; font-weight: bold\">56</span>,  <span style=\"color: #008080; text-decoration-color: #008080; font-weight: bold\">8</span>,  <span style=\"color: #008080; text-decoration-color: #008080; font-weight: bold\">0</span>,  <span style=\"color: #008080; text-decoration-color: #008080; font-weight: bold\">0</span>, <span style=\"color: #008080; text-decoration-color: #008080; font-weight: bold\">32</span>, <span style=\"color: #008080; text-decoration-color: #008080; font-weight: bold\">30</span>, <span style=\"color: #008080; text-decoration-color: #008080; font-weight: bold\">13</span>, <span style=\"color: #008080; text-decoration-color: #008080; font-weight: bold\">26</span><span style=\"font-weight: bold\">]</span>,\n",
       "        <span style=\"font-weight: bold\">[</span> <span style=\"color: #008080; text-decoration-color: #008080; font-weight: bold\">0</span>, <span style=\"color: #008080; text-decoration-color: #008080; font-weight: bold\">21</span>,  <span style=\"color: #008080; text-decoration-color: #008080; font-weight: bold\">1</span>, <span style=\"color: #008080; text-decoration-color: #008080; font-weight: bold\">57</span>, <span style=\"color: #008080; text-decoration-color: #008080; font-weight: bold\">39</span>, <span style=\"color: #008080; text-decoration-color: #008080; font-weight: bold\">61</span>,  <span style=\"color: #008080; text-decoration-color: #008080; font-weight: bold\">1</span>, <span style=\"color: #008080; text-decoration-color: #008080; font-weight: bold\">46</span><span style=\"font-weight: bold\">]</span>,\n",
       "        <span style=\"font-weight: bold\">[</span> <span style=\"color: #008080; text-decoration-color: #008080; font-weight: bold\">1</span>, <span style=\"color: #008080; text-decoration-color: #008080; font-weight: bold\">40</span>, <span style=\"color: #008080; text-decoration-color: #008080; font-weight: bold\">39</span>, <span style=\"color: #008080; text-decoration-color: #008080; font-weight: bold\">52</span>, <span style=\"color: #008080; text-decoration-color: #008080; font-weight: bold\">47</span>, <span style=\"color: #008080; text-decoration-color: #008080; font-weight: bold\">57</span>, <span style=\"color: #008080; text-decoration-color: #008080; font-weight: bold\">46</span>,  <span style=\"color: #008080; text-decoration-color: #008080; font-weight: bold\">5</span><span style=\"font-weight: bold\">]</span>,\n",
       "        <span style=\"font-weight: bold\">[</span><span style=\"color: #008080; text-decoration-color: #008080; font-weight: bold\">41</span>, <span style=\"color: #008080; text-decoration-color: #008080; font-weight: bold\">43</span>,  <span style=\"color: #008080; text-decoration-color: #008080; font-weight: bold\">1</span>, <span style=\"color: #008080; text-decoration-color: #008080; font-weight: bold\">57</span>, <span style=\"color: #008080; text-decoration-color: #008080; font-weight: bold\">46</span>, <span style=\"color: #008080; text-decoration-color: #008080; font-weight: bold\">53</span>, <span style=\"color: #008080; text-decoration-color: #008080; font-weight: bold\">59</span>, <span style=\"color: #008080; text-decoration-color: #008080; font-weight: bold\">50</span><span style=\"font-weight: bold\">]])</span>\n",
       "</pre>\n"
      ],
      "text/plain": [
       "\u001b[1;35mtensor\u001b[0m\u001b[1m(\u001b[0m\u001b[1m[\u001b[0m\u001b[1m[\u001b[0m\u001b[1;36m56\u001b[0m,  \u001b[1;36m8\u001b[0m,  \u001b[1;36m0\u001b[0m,  \u001b[1;36m0\u001b[0m, \u001b[1;36m32\u001b[0m, \u001b[1;36m30\u001b[0m, \u001b[1;36m13\u001b[0m, \u001b[1;36m26\u001b[0m\u001b[1m]\u001b[0m,\n",
       "        \u001b[1m[\u001b[0m \u001b[1;36m0\u001b[0m, \u001b[1;36m21\u001b[0m,  \u001b[1;36m1\u001b[0m, \u001b[1;36m57\u001b[0m, \u001b[1;36m39\u001b[0m, \u001b[1;36m61\u001b[0m,  \u001b[1;36m1\u001b[0m, \u001b[1;36m46\u001b[0m\u001b[1m]\u001b[0m,\n",
       "        \u001b[1m[\u001b[0m \u001b[1;36m1\u001b[0m, \u001b[1;36m40\u001b[0m, \u001b[1;36m39\u001b[0m, \u001b[1;36m52\u001b[0m, \u001b[1;36m47\u001b[0m, \u001b[1;36m57\u001b[0m, \u001b[1;36m46\u001b[0m,  \u001b[1;36m5\u001b[0m\u001b[1m]\u001b[0m,\n",
       "        \u001b[1m[\u001b[0m\u001b[1;36m41\u001b[0m, \u001b[1;36m43\u001b[0m,  \u001b[1;36m1\u001b[0m, \u001b[1;36m57\u001b[0m, \u001b[1;36m46\u001b[0m, \u001b[1;36m53\u001b[0m, \u001b[1;36m59\u001b[0m, \u001b[1;36m50\u001b[0m\u001b[1m]\u001b[0m\u001b[1m]\u001b[0m\u001b[1m)\u001b[0m\n"
      ]
     },
     "metadata": {},
     "output_type": "display_data"
    }
   ],
   "source": [
    "def get_batch(split, BATCH_SIZE, SEQ_LEN):\n",
    "    data = train_data if split == \"train\" else val_data\n",
    "\n",
    "    if split == \"train\":\n",
    "        indices = torch.randperm(len(data) - SEQ_LEN)\n",
    "    else:\n",
    "        indices = torch.arange(0, len(data) - SEQ_LEN)\n",
    "\n",
    "    num_batches = (len(data) - SEQ_LEN) // SEQ_LEN\n",
    "\n",
    "    for i in range(0, num_batches * SEQ_LEN, BATCH_SIZE * SEQ_LEN):\n",
    "        X = []\n",
    "        y = []\n",
    "\n",
    "        for j in indices[i : i + BATCH_SIZE * SEQ_LEN : SEQ_LEN]:\n",
    "            X.append([s.s_to_i[c] for c in data[j : j + SEQ_LEN]])\n",
    "            y.append([s.s_to_i[c] for c in data[j + 1 : j + SEQ_LEN + 1]])\n",
    "\n",
    "        # Convert lists to tensors\n",
    "        X_tensor = torch.tensor(X, dtype=torch.long)\n",
    "        y_tensor = torch.tensor(y, dtype=torch.long)\n",
    "\n",
    "        # Padding sequences if necessary (optional here since all sequences are of the same length)\n",
    "        X_padded = torch.nn.utils.rnn.pad_sequence(\n",
    "            X_tensor, batch_first=True, padding_value=s.s_to_i[\" \"]\n",
    "        )\n",
    "        y_padded = torch.nn.utils.rnn.pad_sequence(\n",
    "            y_tensor, batch_first=True, padding_value=s.s_to_i[\" \"]\n",
    "        )\n",
    "\n",
    "        yield X_padded, y_padded\n",
    "\n",
    "\n",
    "xb, yb = next(get_batch(\"train\", BATCH_SIZE, SEQ_LEN))\n",
    "\n",
    "print(xb)\n",
    "print(yb)"
   ]
  },
  {
   "cell_type": "code",
   "execution_count": 8,
   "metadata": {},
   "outputs": [
    {
     "data": {
      "text/html": [
       "<pre style=\"white-space:pre;overflow-x:auto;line-height:normal;font-family:Menlo,'DejaVu Sans Mono',consolas,'Courier New',monospace\">Context: <span style=\"color: #800080; text-decoration-color: #800080; font-weight: bold\">tensor</span><span style=\"font-weight: bold\">([</span><span style=\"color: #008080; text-decoration-color: #008080; font-weight: bold\">43</span><span style=\"font-weight: bold\">])</span> , Target: <span style=\"color: #008080; text-decoration-color: #008080; font-weight: bold\">56</span>\n",
       "</pre>\n"
      ],
      "text/plain": [
       "Context: \u001b[1;35mtensor\u001b[0m\u001b[1m(\u001b[0m\u001b[1m[\u001b[0m\u001b[1;36m43\u001b[0m\u001b[1m]\u001b[0m\u001b[1m)\u001b[0m , Target: \u001b[1;36m56\u001b[0m\n"
      ]
     },
     "metadata": {},
     "output_type": "display_data"
    },
    {
     "data": {
      "text/html": [
       "<pre style=\"white-space:pre;overflow-x:auto;line-height:normal;font-family:Menlo,'DejaVu Sans Mono',consolas,'Courier New',monospace\">Context: e , Target: r\n",
       "</pre>\n"
      ],
      "text/plain": [
       "Context: e , Target: r\n"
      ]
     },
     "metadata": {},
     "output_type": "display_data"
    },
    {
     "data": {
      "text/html": [
       "<pre style=\"white-space:pre;overflow-x:auto;line-height:normal;font-family:Menlo,'DejaVu Sans Mono',consolas,'Courier New',monospace\">Context: <span style=\"color: #800080; text-decoration-color: #800080; font-weight: bold\">tensor</span><span style=\"font-weight: bold\">([</span><span style=\"color: #008080; text-decoration-color: #008080; font-weight: bold\">43</span>, <span style=\"color: #008080; text-decoration-color: #008080; font-weight: bold\">56</span><span style=\"font-weight: bold\">])</span> , Target: <span style=\"color: #008080; text-decoration-color: #008080; font-weight: bold\">8</span>\n",
       "</pre>\n"
      ],
      "text/plain": [
       "Context: \u001b[1;35mtensor\u001b[0m\u001b[1m(\u001b[0m\u001b[1m[\u001b[0m\u001b[1;36m43\u001b[0m, \u001b[1;36m56\u001b[0m\u001b[1m]\u001b[0m\u001b[1m)\u001b[0m , Target: \u001b[1;36m8\u001b[0m\n"
      ]
     },
     "metadata": {},
     "output_type": "display_data"
    },
    {
     "data": {
      "text/html": [
       "<pre style=\"white-space:pre;overflow-x:auto;line-height:normal;font-family:Menlo,'DejaVu Sans Mono',consolas,'Courier New',monospace\">Context: er , Target: .\n",
       "</pre>\n"
      ],
      "text/plain": [
       "Context: er , Target: .\n"
      ]
     },
     "metadata": {},
     "output_type": "display_data"
    },
    {
     "data": {
      "text/html": [
       "<pre style=\"white-space:pre;overflow-x:auto;line-height:normal;font-family:Menlo,'DejaVu Sans Mono',consolas,'Courier New',monospace\">Context: <span style=\"color: #800080; text-decoration-color: #800080; font-weight: bold\">tensor</span><span style=\"font-weight: bold\">([</span><span style=\"color: #008080; text-decoration-color: #008080; font-weight: bold\">43</span>, <span style=\"color: #008080; text-decoration-color: #008080; font-weight: bold\">56</span>,  <span style=\"color: #008080; text-decoration-color: #008080; font-weight: bold\">8</span><span style=\"font-weight: bold\">])</span> , Target: <span style=\"color: #008080; text-decoration-color: #008080; font-weight: bold\">0</span>\n",
       "</pre>\n"
      ],
      "text/plain": [
       "Context: \u001b[1;35mtensor\u001b[0m\u001b[1m(\u001b[0m\u001b[1m[\u001b[0m\u001b[1;36m43\u001b[0m, \u001b[1;36m56\u001b[0m,  \u001b[1;36m8\u001b[0m\u001b[1m]\u001b[0m\u001b[1m)\u001b[0m , Target: \u001b[1;36m0\u001b[0m\n"
      ]
     },
     "metadata": {},
     "output_type": "display_data"
    },
    {
     "data": {
      "text/html": [
       "<pre style=\"white-space:pre;overflow-x:auto;line-height:normal;font-family:Menlo,'DejaVu Sans Mono',consolas,'Courier New',monospace\">Context: er. , Target: \n",
       "\n",
       "</pre>\n"
      ],
      "text/plain": [
       "Context: er. , Target: \n",
       "\n"
      ]
     },
     "metadata": {},
     "output_type": "display_data"
    },
    {
     "data": {
      "text/html": [
       "<pre style=\"white-space:pre;overflow-x:auto;line-height:normal;font-family:Menlo,'DejaVu Sans Mono',consolas,'Courier New',monospace\">Context: <span style=\"color: #800080; text-decoration-color: #800080; font-weight: bold\">tensor</span><span style=\"font-weight: bold\">([</span><span style=\"color: #008080; text-decoration-color: #008080; font-weight: bold\">43</span>, <span style=\"color: #008080; text-decoration-color: #008080; font-weight: bold\">56</span>,  <span style=\"color: #008080; text-decoration-color: #008080; font-weight: bold\">8</span>,  <span style=\"color: #008080; text-decoration-color: #008080; font-weight: bold\">0</span><span style=\"font-weight: bold\">])</span> , Target: <span style=\"color: #008080; text-decoration-color: #008080; font-weight: bold\">0</span>\n",
       "</pre>\n"
      ],
      "text/plain": [
       "Context: \u001b[1;35mtensor\u001b[0m\u001b[1m(\u001b[0m\u001b[1m[\u001b[0m\u001b[1;36m43\u001b[0m, \u001b[1;36m56\u001b[0m,  \u001b[1;36m8\u001b[0m,  \u001b[1;36m0\u001b[0m\u001b[1m]\u001b[0m\u001b[1m)\u001b[0m , Target: \u001b[1;36m0\u001b[0m\n"
      ]
     },
     "metadata": {},
     "output_type": "display_data"
    },
    {
     "data": {
      "text/html": [
       "<pre style=\"white-space:pre;overflow-x:auto;line-height:normal;font-family:Menlo,'DejaVu Sans Mono',consolas,'Courier New',monospace\">Context: er.\n",
       " , Target: \n",
       "\n",
       "</pre>\n"
      ],
      "text/plain": [
       "Context: er.\n",
       " , Target: \n",
       "\n"
      ]
     },
     "metadata": {},
     "output_type": "display_data"
    },
    {
     "data": {
      "text/html": [
       "<pre style=\"white-space:pre;overflow-x:auto;line-height:normal;font-family:Menlo,'DejaVu Sans Mono',consolas,'Courier New',monospace\">Context: <span style=\"color: #800080; text-decoration-color: #800080; font-weight: bold\">tensor</span><span style=\"font-weight: bold\">([</span><span style=\"color: #008080; text-decoration-color: #008080; font-weight: bold\">43</span>, <span style=\"color: #008080; text-decoration-color: #008080; font-weight: bold\">56</span>,  <span style=\"color: #008080; text-decoration-color: #008080; font-weight: bold\">8</span>,  <span style=\"color: #008080; text-decoration-color: #008080; font-weight: bold\">0</span>,  <span style=\"color: #008080; text-decoration-color: #008080; font-weight: bold\">0</span><span style=\"font-weight: bold\">])</span> , Target: <span style=\"color: #008080; text-decoration-color: #008080; font-weight: bold\">32</span>\n",
       "</pre>\n"
      ],
      "text/plain": [
       "Context: \u001b[1;35mtensor\u001b[0m\u001b[1m(\u001b[0m\u001b[1m[\u001b[0m\u001b[1;36m43\u001b[0m, \u001b[1;36m56\u001b[0m,  \u001b[1;36m8\u001b[0m,  \u001b[1;36m0\u001b[0m,  \u001b[1;36m0\u001b[0m\u001b[1m]\u001b[0m\u001b[1m)\u001b[0m , Target: \u001b[1;36m32\u001b[0m\n"
      ]
     },
     "metadata": {},
     "output_type": "display_data"
    },
    {
     "data": {
      "text/html": [
       "<pre style=\"white-space:pre;overflow-x:auto;line-height:normal;font-family:Menlo,'DejaVu Sans Mono',consolas,'Courier New',monospace\">Context: er.\n",
       "\n",
       " , Target: T\n",
       "</pre>\n"
      ],
      "text/plain": [
       "Context: er.\n",
       "\n",
       " , Target: T\n"
      ]
     },
     "metadata": {},
     "output_type": "display_data"
    },
    {
     "data": {
      "text/html": [
       "<pre style=\"white-space:pre;overflow-x:auto;line-height:normal;font-family:Menlo,'DejaVu Sans Mono',consolas,'Courier New',monospace\">Context: <span style=\"color: #800080; text-decoration-color: #800080; font-weight: bold\">tensor</span><span style=\"font-weight: bold\">([</span><span style=\"color: #008080; text-decoration-color: #008080; font-weight: bold\">43</span>, <span style=\"color: #008080; text-decoration-color: #008080; font-weight: bold\">56</span>,  <span style=\"color: #008080; text-decoration-color: #008080; font-weight: bold\">8</span>,  <span style=\"color: #008080; text-decoration-color: #008080; font-weight: bold\">0</span>,  <span style=\"color: #008080; text-decoration-color: #008080; font-weight: bold\">0</span>, <span style=\"color: #008080; text-decoration-color: #008080; font-weight: bold\">32</span><span style=\"font-weight: bold\">])</span> , Target: <span style=\"color: #008080; text-decoration-color: #008080; font-weight: bold\">30</span>\n",
       "</pre>\n"
      ],
      "text/plain": [
       "Context: \u001b[1;35mtensor\u001b[0m\u001b[1m(\u001b[0m\u001b[1m[\u001b[0m\u001b[1;36m43\u001b[0m, \u001b[1;36m56\u001b[0m,  \u001b[1;36m8\u001b[0m,  \u001b[1;36m0\u001b[0m,  \u001b[1;36m0\u001b[0m, \u001b[1;36m32\u001b[0m\u001b[1m]\u001b[0m\u001b[1m)\u001b[0m , Target: \u001b[1;36m30\u001b[0m\n"
      ]
     },
     "metadata": {},
     "output_type": "display_data"
    },
    {
     "data": {
      "text/html": [
       "<pre style=\"white-space:pre;overflow-x:auto;line-height:normal;font-family:Menlo,'DejaVu Sans Mono',consolas,'Courier New',monospace\">Context: er.\n",
       "\n",
       "T , Target: R\n",
       "</pre>\n"
      ],
      "text/plain": [
       "Context: er.\n",
       "\n",
       "T , Target: R\n"
      ]
     },
     "metadata": {},
     "output_type": "display_data"
    },
    {
     "data": {
      "text/html": [
       "<pre style=\"white-space:pre;overflow-x:auto;line-height:normal;font-family:Menlo,'DejaVu Sans Mono',consolas,'Courier New',monospace\">Context: <span style=\"color: #800080; text-decoration-color: #800080; font-weight: bold\">tensor</span><span style=\"font-weight: bold\">([</span><span style=\"color: #008080; text-decoration-color: #008080; font-weight: bold\">43</span>, <span style=\"color: #008080; text-decoration-color: #008080; font-weight: bold\">56</span>,  <span style=\"color: #008080; text-decoration-color: #008080; font-weight: bold\">8</span>,  <span style=\"color: #008080; text-decoration-color: #008080; font-weight: bold\">0</span>,  <span style=\"color: #008080; text-decoration-color: #008080; font-weight: bold\">0</span>, <span style=\"color: #008080; text-decoration-color: #008080; font-weight: bold\">32</span>, <span style=\"color: #008080; text-decoration-color: #008080; font-weight: bold\">30</span><span style=\"font-weight: bold\">])</span> , Target: <span style=\"color: #008080; text-decoration-color: #008080; font-weight: bold\">13</span>\n",
       "</pre>\n"
      ],
      "text/plain": [
       "Context: \u001b[1;35mtensor\u001b[0m\u001b[1m(\u001b[0m\u001b[1m[\u001b[0m\u001b[1;36m43\u001b[0m, \u001b[1;36m56\u001b[0m,  \u001b[1;36m8\u001b[0m,  \u001b[1;36m0\u001b[0m,  \u001b[1;36m0\u001b[0m, \u001b[1;36m32\u001b[0m, \u001b[1;36m30\u001b[0m\u001b[1m]\u001b[0m\u001b[1m)\u001b[0m , Target: \u001b[1;36m13\u001b[0m\n"
      ]
     },
     "metadata": {},
     "output_type": "display_data"
    },
    {
     "data": {
      "text/html": [
       "<pre style=\"white-space:pre;overflow-x:auto;line-height:normal;font-family:Menlo,'DejaVu Sans Mono',consolas,'Courier New',monospace\">Context: er.\n",
       "\n",
       "TR , Target: A\n",
       "</pre>\n"
      ],
      "text/plain": [
       "Context: er.\n",
       "\n",
       "TR , Target: A\n"
      ]
     },
     "metadata": {},
     "output_type": "display_data"
    },
    {
     "data": {
      "text/html": [
       "<pre style=\"white-space:pre;overflow-x:auto;line-height:normal;font-family:Menlo,'DejaVu Sans Mono',consolas,'Courier New',monospace\">Context: <span style=\"color: #800080; text-decoration-color: #800080; font-weight: bold\">tensor</span><span style=\"font-weight: bold\">([</span><span style=\"color: #008080; text-decoration-color: #008080; font-weight: bold\">43</span>, <span style=\"color: #008080; text-decoration-color: #008080; font-weight: bold\">56</span>,  <span style=\"color: #008080; text-decoration-color: #008080; font-weight: bold\">8</span>,  <span style=\"color: #008080; text-decoration-color: #008080; font-weight: bold\">0</span>,  <span style=\"color: #008080; text-decoration-color: #008080; font-weight: bold\">0</span>, <span style=\"color: #008080; text-decoration-color: #008080; font-weight: bold\">32</span>, <span style=\"color: #008080; text-decoration-color: #008080; font-weight: bold\">30</span>, <span style=\"color: #008080; text-decoration-color: #008080; font-weight: bold\">13</span><span style=\"font-weight: bold\">])</span> , Target: <span style=\"color: #008080; text-decoration-color: #008080; font-weight: bold\">26</span>\n",
       "</pre>\n"
      ],
      "text/plain": [
       "Context: \u001b[1;35mtensor\u001b[0m\u001b[1m(\u001b[0m\u001b[1m[\u001b[0m\u001b[1;36m43\u001b[0m, \u001b[1;36m56\u001b[0m,  \u001b[1;36m8\u001b[0m,  \u001b[1;36m0\u001b[0m,  \u001b[1;36m0\u001b[0m, \u001b[1;36m32\u001b[0m, \u001b[1;36m30\u001b[0m, \u001b[1;36m13\u001b[0m\u001b[1m]\u001b[0m\u001b[1m)\u001b[0m , Target: \u001b[1;36m26\u001b[0m\n"
      ]
     },
     "metadata": {},
     "output_type": "display_data"
    },
    {
     "data": {
      "text/html": [
       "<pre style=\"white-space:pre;overflow-x:auto;line-height:normal;font-family:Menlo,'DejaVu Sans Mono',consolas,'Courier New',monospace\">Context: er.\n",
       "\n",
       "TRA , Target: N\n",
       "</pre>\n"
      ],
      "text/plain": [
       "Context: er.\n",
       "\n",
       "TRA , Target: N\n"
      ]
     },
     "metadata": {},
     "output_type": "display_data"
    }
   ],
   "source": [
    "for b in range(BATCH_SIZE):\n",
    "    for t in range(SEQ_LEN):\n",
    "        context = xb[b, : t + 1]\n",
    "        target = yb[b, t]\n",
    "        print(f\"Context: {context} , Target: {target}\")\n",
    "        print(\n",
    "            f\"Context: {s.decode(context.tolist())} , Target: {s.decode([int(target)])}\"\n",
    "        )\n",
    "\n",
    "    break"
   ]
  },
  {
   "cell_type": "markdown",
   "metadata": {},
   "source": [
    "## But first, embeddings\n",
    "\n",
    "Before we train the LSTM model, we first need to create embeddings for the characters. This just means that instead of having a single number represent each character, we will have a vector of numbers represent each character, which will allow the model to learn more complex relationships between characters. To learn more about embeddings, see [this post](https://jalammar.github.io/illustrated-word2vec/) by Jay Alammar.\n",
    "\n",
    "The math behind embeddings is simple: For each token in the batch, we use an embedding layer to map the token index to a dense vector of size `embedding_dim`.\n",
    "\n",
    "The input tensor of shape `(batch_size, seq_len)` is transformed into an output tensor of shape `(batch_size, seq_len, embedding_dim)` by looking up the embedding vector for each token index in the input tensor.\n"
   ]
  },
  {
   "cell_type": "code",
   "execution_count": 168,
   "metadata": {},
   "outputs": [],
   "source": [
    "class Embedding(nn.Module):\n",
    "    def __init__(self, vocab_size: int, embedding_dim: int):\n",
    "        \"\"\"\n",
    "        Initializes the Embedding layer.\n",
    "\n",
    "        Inputs:\n",
    "        - vocab_size: The size of the vocabulary.\n",
    "        - embedding_dim: The dimension of the embedding.\n",
    "\n",
    "        \"\"\"\n",
    "\n",
    "        super().__init__()\n",
    "        self.W_E = nn.Parameter(torch.empty(vocab_size, embedding_dim))\n",
    "\n",
    "        # Initialize weights using the Xavier uniform method\n",
    "        nn.init.xavier_uniform_(self.W_E)\n",
    "\n",
    "    def forward(self, tokens: torch.Tensor) -> torch.Tensor:\n",
    "        \"\"\"\n",
    "        Inputs:\n",
    "        - tokens: (B, T)\n",
    "\n",
    "        Outputs:\n",
    "        - out: (B, T, EMBEDDING_DIM)\n",
    "        \"\"\"\n",
    "\n",
    "        return self.W_E[tokens]"
   ]
  },
  {
   "cell_type": "code",
   "execution_count": 10,
   "metadata": {},
   "outputs": [
    {
     "data": {
      "text/html": [
       "<pre style=\"white-space:pre;overflow-x:auto;line-height:normal;font-family:Menlo,'DejaVu Sans Mono',consolas,'Courier New',monospace\"><span style=\"color: #800080; text-decoration-color: #800080; font-weight: bold\">torch.Size</span><span style=\"font-weight: bold\">([</span><span style=\"color: #008080; text-decoration-color: #008080; font-weight: bold\">4</span>, <span style=\"color: #008080; text-decoration-color: #008080; font-weight: bold\">8</span><span style=\"font-weight: bold\">])</span>\n",
       "<span style=\"color: #800080; text-decoration-color: #800080; font-weight: bold\">torch.Size</span><span style=\"font-weight: bold\">([</span><span style=\"color: #008080; text-decoration-color: #008080; font-weight: bold\">4</span>, <span style=\"color: #008080; text-decoration-color: #008080; font-weight: bold\">8</span>, <span style=\"color: #008080; text-decoration-color: #008080; font-weight: bold\">128</span><span style=\"font-weight: bold\">])</span>\n",
       "</pre>\n"
      ],
      "text/plain": [
       "\u001b[1;35mtorch.Size\u001b[0m\u001b[1m(\u001b[0m\u001b[1m[\u001b[0m\u001b[1;36m4\u001b[0m, \u001b[1;36m8\u001b[0m\u001b[1m]\u001b[0m\u001b[1m)\u001b[0m\n",
       "\u001b[1;35mtorch.Size\u001b[0m\u001b[1m(\u001b[0m\u001b[1m[\u001b[0m\u001b[1;36m4\u001b[0m, \u001b[1;36m8\u001b[0m, \u001b[1;36m128\u001b[0m\u001b[1m]\u001b[0m\u001b[1m)\u001b[0m\n"
      ]
     },
     "metadata": {},
     "output_type": "display_data"
    },
    {
     "data": {
      "text/html": [
       "<pre style=\"white-space:pre;overflow-x:auto;line-height:normal;font-family:Menlo,'DejaVu Sans Mono',consolas,'Courier New',monospace\"><span style=\"color: #800080; text-decoration-color: #800080; font-weight: bold\">tensor</span><span style=\"font-weight: bold\">(</span><span style=\"color: #008080; text-decoration-color: #008080; font-weight: bold\">43</span><span style=\"font-weight: bold\">)</span> <span style=\"color: #800080; text-decoration-color: #800080; font-weight: bold\">tensor</span><span style=\"font-weight: bold\">([</span><span style=\"color: #008080; text-decoration-color: #008080; font-weight: bold\">-6.0070e-02</span>,  <span style=\"color: #008080; text-decoration-color: #008080; font-weight: bold\">7.7341e-02</span>, <span style=\"color: #008080; text-decoration-color: #008080; font-weight: bold\">-8.5825e-02</span>,  <span style=\"color: #008080; text-decoration-color: #008080; font-weight: bold\">3.5511e-02</span>, <span style=\"color: #008080; text-decoration-color: #008080; font-weight: bold\">-5.4409e-02</span>,\n",
       "         <span style=\"color: #008080; text-decoration-color: #008080; font-weight: bold\">1.4489e-01</span>,  <span style=\"color: #008080; text-decoration-color: #008080; font-weight: bold\">9.2045e-02</span>,  <span style=\"color: #008080; text-decoration-color: #008080; font-weight: bold\">1.2463e-01</span>, <span style=\"color: #008080; text-decoration-color: #008080; font-weight: bold\">-4.9428e-03</span>, <span style=\"color: #008080; text-decoration-color: #008080; font-weight: bold\">-1.1026e-01</span>,\n",
       "         <span style=\"color: #008080; text-decoration-color: #008080; font-weight: bold\">1.0171e-01</span>, <span style=\"color: #008080; text-decoration-color: #008080; font-weight: bold\">-5.6917e-02</span>, <span style=\"color: #008080; text-decoration-color: #008080; font-weight: bold\">-8.8456e-02</span>, <span style=\"color: #008080; text-decoration-color: #008080; font-weight: bold\">-5.5210e-02</span>,  <span style=\"color: #008080; text-decoration-color: #008080; font-weight: bold\">1.4667e-01</span>,\n",
       "         <span style=\"color: #008080; text-decoration-color: #008080; font-weight: bold\">3.0358e-02</span>, <span style=\"color: #008080; text-decoration-color: #008080; font-weight: bold\">-8.7270e-03</span>, <span style=\"color: #008080; text-decoration-color: #008080; font-weight: bold\">-5.8606e-02</span>,  <span style=\"color: #008080; text-decoration-color: #008080; font-weight: bold\">6.1084e-02</span>,  <span style=\"color: #008080; text-decoration-color: #008080; font-weight: bold\">1.7107e-01</span>,\n",
       "        <span style=\"color: #008080; text-decoration-color: #008080; font-weight: bold\">-9.6466e-02</span>, <span style=\"color: #008080; text-decoration-color: #008080; font-weight: bold\">-1.6071e-01</span>,  <span style=\"color: #008080; text-decoration-color: #008080; font-weight: bold\">6.0969e-02</span>, <span style=\"color: #008080; text-decoration-color: #008080; font-weight: bold\">-9.8324e-02</span>, <span style=\"color: #008080; text-decoration-color: #008080; font-weight: bold\">-1.2026e-01</span>,\n",
       "         <span style=\"color: #008080; text-decoration-color: #008080; font-weight: bold\">1.4316e-01</span>,  <span style=\"color: #008080; text-decoration-color: #008080; font-weight: bold\">1.6416e-01</span>,  <span style=\"color: #008080; text-decoration-color: #008080; font-weight: bold\">2.4593e-02</span>, <span style=\"color: #008080; text-decoration-color: #008080; font-weight: bold\">-1.6501e-01</span>, <span style=\"color: #008080; text-decoration-color: #008080; font-weight: bold\">-1.4086e-01</span>,\n",
       "         <span style=\"color: #008080; text-decoration-color: #008080; font-weight: bold\">5.5250e-02</span>, <span style=\"color: #008080; text-decoration-color: #008080; font-weight: bold\">-4.8509e-02</span>, <span style=\"color: #008080; text-decoration-color: #008080; font-weight: bold\">-5.2345e-02</span>,  <span style=\"color: #008080; text-decoration-color: #008080; font-weight: bold\">3.1409e-02</span>, <span style=\"color: #008080; text-decoration-color: #008080; font-weight: bold\">-1.7332e-01</span>,\n",
       "        <span style=\"color: #008080; text-decoration-color: #008080; font-weight: bold\">-8.5196e-02</span>,  <span style=\"color: #008080; text-decoration-color: #008080; font-weight: bold\">6.0085e-02</span>, <span style=\"color: #008080; text-decoration-color: #008080; font-weight: bold\">-1.0865e-01</span>,  <span style=\"color: #008080; text-decoration-color: #008080; font-weight: bold\">1.0858e-01</span>, <span style=\"color: #008080; text-decoration-color: #008080; font-weight: bold\">-1.0556e-02</span>,\n",
       "         <span style=\"color: #008080; text-decoration-color: #008080; font-weight: bold\">1.4045e-01</span>,  <span style=\"color: #008080; text-decoration-color: #008080; font-weight: bold\">6.6926e-02</span>, <span style=\"color: #008080; text-decoration-color: #008080; font-weight: bold\">-1.1349e-01</span>,  <span style=\"color: #008080; text-decoration-color: #008080; font-weight: bold\">4.4449e-02</span>,  <span style=\"color: #008080; text-decoration-color: #008080; font-weight: bold\">1.5260e-01</span>,\n",
       "        <span style=\"color: #008080; text-decoration-color: #008080; font-weight: bold\">-1.3297e-01</span>, <span style=\"color: #008080; text-decoration-color: #008080; font-weight: bold\">-4.5423e-02</span>,  <span style=\"color: #008080; text-decoration-color: #008080; font-weight: bold\">1.5769e-01</span>, <span style=\"color: #008080; text-decoration-color: #008080; font-weight: bold\">-1.1576e-01</span>, <span style=\"color: #008080; text-decoration-color: #008080; font-weight: bold\">-9.8897e-02</span>,\n",
       "         <span style=\"color: #008080; text-decoration-color: #008080; font-weight: bold\">9.1716e-02</span>,  <span style=\"color: #008080; text-decoration-color: #008080; font-weight: bold\">1.3094e-01</span>,  <span style=\"color: #008080; text-decoration-color: #008080; font-weight: bold\">1.2820e-01</span>,  <span style=\"color: #008080; text-decoration-color: #008080; font-weight: bold\">1.4484e-05</span>,  <span style=\"color: #008080; text-decoration-color: #008080; font-weight: bold\">6.1756e-02</span>,\n",
       "        <span style=\"color: #008080; text-decoration-color: #008080; font-weight: bold\">-4.1275e-02</span>, <span style=\"color: #008080; text-decoration-color: #008080; font-weight: bold\">-1.4464e-01</span>, <span style=\"color: #008080; text-decoration-color: #008080; font-weight: bold\">-1.6395e-01</span>,  <span style=\"color: #008080; text-decoration-color: #008080; font-weight: bold\">1.3485e-01</span>,  <span style=\"color: #008080; text-decoration-color: #008080; font-weight: bold\">1.0355e-01</span>,\n",
       "         <span style=\"color: #008080; text-decoration-color: #008080; font-weight: bold\">7.0035e-06</span>,  <span style=\"color: #008080; text-decoration-color: #008080; font-weight: bold\">4.2146e-02</span>,  <span style=\"color: #008080; text-decoration-color: #008080; font-weight: bold\">1.1843e-01</span>, <span style=\"color: #008080; text-decoration-color: #008080; font-weight: bold\">-5.3023e-02</span>, <span style=\"color: #008080; text-decoration-color: #008080; font-weight: bold\">-1.0603e-01</span>,\n",
       "        <span style=\"color: #008080; text-decoration-color: #008080; font-weight: bold\">-5.0536e-02</span>,  <span style=\"color: #008080; text-decoration-color: #008080; font-weight: bold\">1.7559e-01</span>,  <span style=\"color: #008080; text-decoration-color: #008080; font-weight: bold\">1.3874e-01</span>,  <span style=\"color: #008080; text-decoration-color: #008080; font-weight: bold\">1.2007e-01</span>,  <span style=\"color: #008080; text-decoration-color: #008080; font-weight: bold\">1.0386e-01</span>,\n",
       "         <span style=\"color: #008080; text-decoration-color: #008080; font-weight: bold\">3.8286e-02</span>,  <span style=\"color: #008080; text-decoration-color: #008080; font-weight: bold\">1.7563e-02</span>,  <span style=\"color: #008080; text-decoration-color: #008080; font-weight: bold\">1.3911e-02</span>, <span style=\"color: #008080; text-decoration-color: #008080; font-weight: bold\">-2.8195e-02</span>, <span style=\"color: #008080; text-decoration-color: #008080; font-weight: bold\">-7.3605e-02</span>,\n",
       "         <span style=\"color: #008080; text-decoration-color: #008080; font-weight: bold\">1.6994e-01</span>,  <span style=\"color: #008080; text-decoration-color: #008080; font-weight: bold\">3.9247e-02</span>, <span style=\"color: #008080; text-decoration-color: #008080; font-weight: bold\">-1.5918e-02</span>, <span style=\"color: #008080; text-decoration-color: #008080; font-weight: bold\">-5.9804e-02</span>, <span style=\"color: #008080; text-decoration-color: #008080; font-weight: bold\">-1.1807e-02</span>,\n",
       "        <span style=\"color: #008080; text-decoration-color: #008080; font-weight: bold\">-6.8609e-02</span>, <span style=\"color: #008080; text-decoration-color: #008080; font-weight: bold\">-4.8084e-02</span>, <span style=\"color: #008080; text-decoration-color: #008080; font-weight: bold\">-1.6483e-01</span>, <span style=\"color: #008080; text-decoration-color: #008080; font-weight: bold\">-1.5936e-01</span>,  <span style=\"color: #008080; text-decoration-color: #008080; font-weight: bold\">4.8241e-02</span>,\n",
       "        <span style=\"color: #008080; text-decoration-color: #008080; font-weight: bold\">-1.5638e-01</span>,  <span style=\"color: #008080; text-decoration-color: #008080; font-weight: bold\">4.8716e-02</span>, <span style=\"color: #008080; text-decoration-color: #008080; font-weight: bold\">-1.1908e-01</span>,  <span style=\"color: #008080; text-decoration-color: #008080; font-weight: bold\">1.7065e-01</span>, <span style=\"color: #008080; text-decoration-color: #008080; font-weight: bold\">-9.0028e-02</span>,\n",
       "        <span style=\"color: #008080; text-decoration-color: #008080; font-weight: bold\">-1.5567e-01</span>,  <span style=\"color: #008080; text-decoration-color: #008080; font-weight: bold\">2.5819e-02</span>,  <span style=\"color: #008080; text-decoration-color: #008080; font-weight: bold\">1.4630e-01</span>,  <span style=\"color: #008080; text-decoration-color: #008080; font-weight: bold\">1.1804e-01</span>,  <span style=\"color: #008080; text-decoration-color: #008080; font-weight: bold\">3.8598e-02</span>,\n",
       "        <span style=\"color: #008080; text-decoration-color: #008080; font-weight: bold\">-1.6170e-02</span>,  <span style=\"color: #008080; text-decoration-color: #008080; font-weight: bold\">5.1999e-02</span>,  <span style=\"color: #008080; text-decoration-color: #008080; font-weight: bold\">1.2239e-01</span>,  <span style=\"color: #008080; text-decoration-color: #008080; font-weight: bold\">5.0401e-02</span>, <span style=\"color: #008080; text-decoration-color: #008080; font-weight: bold\">-9.5374e-02</span>,\n",
       "         <span style=\"color: #008080; text-decoration-color: #008080; font-weight: bold\">9.7857e-02</span>, <span style=\"color: #008080; text-decoration-color: #008080; font-weight: bold\">-5.3430e-02</span>, <span style=\"color: #008080; text-decoration-color: #008080; font-weight: bold\">-1.7223e-02</span>, <span style=\"color: #008080; text-decoration-color: #008080; font-weight: bold\">-5.0546e-03</span>, <span style=\"color: #008080; text-decoration-color: #008080; font-weight: bold\">-3.5515e-02</span>,\n",
       "         <span style=\"color: #008080; text-decoration-color: #008080; font-weight: bold\">1.2804e-01</span>, <span style=\"color: #008080; text-decoration-color: #008080; font-weight: bold\">-1.0463e-01</span>, <span style=\"color: #008080; text-decoration-color: #008080; font-weight: bold\">-9.9744e-02</span>, <span style=\"color: #008080; text-decoration-color: #008080; font-weight: bold\">-1.5149e-02</span>, <span style=\"color: #008080; text-decoration-color: #008080; font-weight: bold\">-1.1789e-01</span>,\n",
       "         <span style=\"color: #008080; text-decoration-color: #008080; font-weight: bold\">3.4420e-02</span>, <span style=\"color: #008080; text-decoration-color: #008080; font-weight: bold\">-5.6857e-02</span>,  <span style=\"color: #008080; text-decoration-color: #008080; font-weight: bold\">9.0908e-02</span>,  <span style=\"color: #008080; text-decoration-color: #008080; font-weight: bold\">7.0825e-02</span>,  <span style=\"color: #008080; text-decoration-color: #008080; font-weight: bold\">2.2304e-02</span>,\n",
       "         <span style=\"color: #008080; text-decoration-color: #008080; font-weight: bold\">1.0786e-02</span>,  <span style=\"color: #008080; text-decoration-color: #008080; font-weight: bold\">1.7464e-01</span>,  <span style=\"color: #008080; text-decoration-color: #008080; font-weight: bold\">1.6210e-02</span>,  <span style=\"color: #008080; text-decoration-color: #008080; font-weight: bold\">4.5844e-02</span>,  <span style=\"color: #008080; text-decoration-color: #008080; font-weight: bold\">1.2014e-01</span>,\n",
       "        <span style=\"color: #008080; text-decoration-color: #008080; font-weight: bold\">-1.7494e-01</span>, <span style=\"color: #008080; text-decoration-color: #008080; font-weight: bold\">-5.0291e-02</span>, <span style=\"color: #008080; text-decoration-color: #008080; font-weight: bold\">-1.3917e-02</span>,  <span style=\"color: #008080; text-decoration-color: #008080; font-weight: bold\">1.1200e-01</span>,  <span style=\"color: #008080; text-decoration-color: #008080; font-weight: bold\">1.1653e-01</span>,\n",
       "         <span style=\"color: #008080; text-decoration-color: #008080; font-weight: bold\">1.3829e-01</span>,  <span style=\"color: #008080; text-decoration-color: #008080; font-weight: bold\">6.8509e-03</span>, <span style=\"color: #008080; text-decoration-color: #008080; font-weight: bold\">-1.0432e-01</span><span style=\"font-weight: bold\">]</span>, <span style=\"color: #808000; text-decoration-color: #808000\">grad_fn</span>=<span style=\"font-weight: bold\">&lt;</span><span style=\"color: #ff00ff; text-decoration-color: #ff00ff; font-weight: bold\">SelectBackward0</span><span style=\"font-weight: bold\">&gt;)</span>\n",
       "</pre>\n"
      ],
      "text/plain": [
       "\u001b[1;35mtensor\u001b[0m\u001b[1m(\u001b[0m\u001b[1;36m43\u001b[0m\u001b[1m)\u001b[0m \u001b[1;35mtensor\u001b[0m\u001b[1m(\u001b[0m\u001b[1m[\u001b[0m\u001b[1;36m-6.0070e-02\u001b[0m,  \u001b[1;36m7.7341e-02\u001b[0m, \u001b[1;36m-8.5825e-02\u001b[0m,  \u001b[1;36m3.5511e-02\u001b[0m, \u001b[1;36m-5.4409e-02\u001b[0m,\n",
       "         \u001b[1;36m1.4489e-01\u001b[0m,  \u001b[1;36m9.2045e-02\u001b[0m,  \u001b[1;36m1.2463e-01\u001b[0m, \u001b[1;36m-4.9428e-03\u001b[0m, \u001b[1;36m-1.1026e-01\u001b[0m,\n",
       "         \u001b[1;36m1.0171e-01\u001b[0m, \u001b[1;36m-5.6917e-02\u001b[0m, \u001b[1;36m-8.8456e-02\u001b[0m, \u001b[1;36m-5.5210e-02\u001b[0m,  \u001b[1;36m1.4667e-01\u001b[0m,\n",
       "         \u001b[1;36m3.0358e-02\u001b[0m, \u001b[1;36m-8.7270e-03\u001b[0m, \u001b[1;36m-5.8606e-02\u001b[0m,  \u001b[1;36m6.1084e-02\u001b[0m,  \u001b[1;36m1.7107e-01\u001b[0m,\n",
       "        \u001b[1;36m-9.6466e-02\u001b[0m, \u001b[1;36m-1.6071e-01\u001b[0m,  \u001b[1;36m6.0969e-02\u001b[0m, \u001b[1;36m-9.8324e-02\u001b[0m, \u001b[1;36m-1.2026e-01\u001b[0m,\n",
       "         \u001b[1;36m1.4316e-01\u001b[0m,  \u001b[1;36m1.6416e-01\u001b[0m,  \u001b[1;36m2.4593e-02\u001b[0m, \u001b[1;36m-1.6501e-01\u001b[0m, \u001b[1;36m-1.4086e-01\u001b[0m,\n",
       "         \u001b[1;36m5.5250e-02\u001b[0m, \u001b[1;36m-4.8509e-02\u001b[0m, \u001b[1;36m-5.2345e-02\u001b[0m,  \u001b[1;36m3.1409e-02\u001b[0m, \u001b[1;36m-1.7332e-01\u001b[0m,\n",
       "        \u001b[1;36m-8.5196e-02\u001b[0m,  \u001b[1;36m6.0085e-02\u001b[0m, \u001b[1;36m-1.0865e-01\u001b[0m,  \u001b[1;36m1.0858e-01\u001b[0m, \u001b[1;36m-1.0556e-02\u001b[0m,\n",
       "         \u001b[1;36m1.4045e-01\u001b[0m,  \u001b[1;36m6.6926e-02\u001b[0m, \u001b[1;36m-1.1349e-01\u001b[0m,  \u001b[1;36m4.4449e-02\u001b[0m,  \u001b[1;36m1.5260e-01\u001b[0m,\n",
       "        \u001b[1;36m-1.3297e-01\u001b[0m, \u001b[1;36m-4.5423e-02\u001b[0m,  \u001b[1;36m1.5769e-01\u001b[0m, \u001b[1;36m-1.1576e-01\u001b[0m, \u001b[1;36m-9.8897e-02\u001b[0m,\n",
       "         \u001b[1;36m9.1716e-02\u001b[0m,  \u001b[1;36m1.3094e-01\u001b[0m,  \u001b[1;36m1.2820e-01\u001b[0m,  \u001b[1;36m1.4484e-05\u001b[0m,  \u001b[1;36m6.1756e-02\u001b[0m,\n",
       "        \u001b[1;36m-4.1275e-02\u001b[0m, \u001b[1;36m-1.4464e-01\u001b[0m, \u001b[1;36m-1.6395e-01\u001b[0m,  \u001b[1;36m1.3485e-01\u001b[0m,  \u001b[1;36m1.0355e-01\u001b[0m,\n",
       "         \u001b[1;36m7.0035e-06\u001b[0m,  \u001b[1;36m4.2146e-02\u001b[0m,  \u001b[1;36m1.1843e-01\u001b[0m, \u001b[1;36m-5.3023e-02\u001b[0m, \u001b[1;36m-1.0603e-01\u001b[0m,\n",
       "        \u001b[1;36m-5.0536e-02\u001b[0m,  \u001b[1;36m1.7559e-01\u001b[0m,  \u001b[1;36m1.3874e-01\u001b[0m,  \u001b[1;36m1.2007e-01\u001b[0m,  \u001b[1;36m1.0386e-01\u001b[0m,\n",
       "         \u001b[1;36m3.8286e-02\u001b[0m,  \u001b[1;36m1.7563e-02\u001b[0m,  \u001b[1;36m1.3911e-02\u001b[0m, \u001b[1;36m-2.8195e-02\u001b[0m, \u001b[1;36m-7.3605e-02\u001b[0m,\n",
       "         \u001b[1;36m1.6994e-01\u001b[0m,  \u001b[1;36m3.9247e-02\u001b[0m, \u001b[1;36m-1.5918e-02\u001b[0m, \u001b[1;36m-5.9804e-02\u001b[0m, \u001b[1;36m-1.1807e-02\u001b[0m,\n",
       "        \u001b[1;36m-6.8609e-02\u001b[0m, \u001b[1;36m-4.8084e-02\u001b[0m, \u001b[1;36m-1.6483e-01\u001b[0m, \u001b[1;36m-1.5936e-01\u001b[0m,  \u001b[1;36m4.8241e-02\u001b[0m,\n",
       "        \u001b[1;36m-1.5638e-01\u001b[0m,  \u001b[1;36m4.8716e-02\u001b[0m, \u001b[1;36m-1.1908e-01\u001b[0m,  \u001b[1;36m1.7065e-01\u001b[0m, \u001b[1;36m-9.0028e-02\u001b[0m,\n",
       "        \u001b[1;36m-1.5567e-01\u001b[0m,  \u001b[1;36m2.5819e-02\u001b[0m,  \u001b[1;36m1.4630e-01\u001b[0m,  \u001b[1;36m1.1804e-01\u001b[0m,  \u001b[1;36m3.8598e-02\u001b[0m,\n",
       "        \u001b[1;36m-1.6170e-02\u001b[0m,  \u001b[1;36m5.1999e-02\u001b[0m,  \u001b[1;36m1.2239e-01\u001b[0m,  \u001b[1;36m5.0401e-02\u001b[0m, \u001b[1;36m-9.5374e-02\u001b[0m,\n",
       "         \u001b[1;36m9.7857e-02\u001b[0m, \u001b[1;36m-5.3430e-02\u001b[0m, \u001b[1;36m-1.7223e-02\u001b[0m, \u001b[1;36m-5.0546e-03\u001b[0m, \u001b[1;36m-3.5515e-02\u001b[0m,\n",
       "         \u001b[1;36m1.2804e-01\u001b[0m, \u001b[1;36m-1.0463e-01\u001b[0m, \u001b[1;36m-9.9744e-02\u001b[0m, \u001b[1;36m-1.5149e-02\u001b[0m, \u001b[1;36m-1.1789e-01\u001b[0m,\n",
       "         \u001b[1;36m3.4420e-02\u001b[0m, \u001b[1;36m-5.6857e-02\u001b[0m,  \u001b[1;36m9.0908e-02\u001b[0m,  \u001b[1;36m7.0825e-02\u001b[0m,  \u001b[1;36m2.2304e-02\u001b[0m,\n",
       "         \u001b[1;36m1.0786e-02\u001b[0m,  \u001b[1;36m1.7464e-01\u001b[0m,  \u001b[1;36m1.6210e-02\u001b[0m,  \u001b[1;36m4.5844e-02\u001b[0m,  \u001b[1;36m1.2014e-01\u001b[0m,\n",
       "        \u001b[1;36m-1.7494e-01\u001b[0m, \u001b[1;36m-5.0291e-02\u001b[0m, \u001b[1;36m-1.3917e-02\u001b[0m,  \u001b[1;36m1.1200e-01\u001b[0m,  \u001b[1;36m1.1653e-01\u001b[0m,\n",
       "         \u001b[1;36m1.3829e-01\u001b[0m,  \u001b[1;36m6.8509e-03\u001b[0m, \u001b[1;36m-1.0432e-01\u001b[0m\u001b[1m]\u001b[0m, \u001b[33mgrad_fn\u001b[0m=\u001b[1m<\u001b[0m\u001b[1;95mSelectBackward0\u001b[0m\u001b[1m>\u001b[0m\u001b[1m)\u001b[0m\n"
      ]
     },
     "metadata": {},
     "output_type": "display_data"
    }
   ],
   "source": [
    "print(xb.shape, Embedding(VOCAB_SIZE, EMBEDDING_DIM)(xb.to(\"cpu\")).shape)\n",
    "print(xb[0][0], Embedding(VOCAB_SIZE, EMBEDDING_DIM)(xb[0][0].to(\"cpu\")))"
   ]
  },
  {
   "cell_type": "markdown",
   "metadata": {},
   "source": [
    "## Long short-term memory (LSTM)\n",
    "\n",
    "The LSTM is a Recurrent Neural Network (RNN) architecture that is designed to learn long-term dependencies in sequences. It has a memory cell that can store information over long periods of time. The LSTM has three gates: the input gate, the forget gate, and the output gate. The input gate controls how much of the new input should be added to the memory cell, the forget gate controls how much of the memory cell should be forgotten, and the output gate controls how much of the memory cell should be outputted.\n"
   ]
  },
  {
   "cell_type": "code",
   "execution_count": 11,
   "metadata": {},
   "outputs": [],
   "source": [
    "class LSTMCell(nn.Module):\n",
    "    def __init__(self, embedding_dim: int, hidden_dim: int):\n",
    "        \"\"\"\n",
    "        Initializes the LSTM cell.\n",
    "\n",
    "        Inputs:\n",
    "        - embedding_dim: The dimension of the input embeddings.\n",
    "        - hidden_dim: The dimension of the hidden state.\n",
    "\n",
    "        \"\"\"\n",
    "        super().__init__()\n",
    "        self.hidden_dim = hidden_dim\n",
    "\n",
    "        self.W_f = nn.Parameter(torch.empty(embedding_dim + hidden_dim, hidden_dim))\n",
    "        self.b_f = nn.Parameter(torch.zeros(hidden_dim))\n",
    "\n",
    "        self.W_i = nn.Parameter(torch.empty(embedding_dim + hidden_dim, hidden_dim))\n",
    "        self.b_i = nn.Parameter(torch.zeros(hidden_dim))\n",
    "\n",
    "        self.W_o = nn.Parameter(torch.empty(embedding_dim + hidden_dim, hidden_dim))\n",
    "        self.b_o = nn.Parameter(torch.zeros(hidden_dim))\n",
    "\n",
    "        self.W_g = nn.Parameter(torch.empty(embedding_dim + hidden_dim, hidden_dim))\n",
    "        self.b_g = nn.Parameter(torch.zeros(hidden_dim))\n",
    "\n",
    "        # Initialize weights using the Xavier uniform initialization\n",
    "        nn.init.xavier_uniform_(self.W_f)\n",
    "        nn.init.xavier_uniform_(self.W_i)\n",
    "        nn.init.xavier_uniform_(self.W_o)\n",
    "        nn.init.xavier_uniform_(self.W_g)\n",
    "\n",
    "    def forward(\n",
    "        self, x: torch.Tensor, h: torch.Tensor, c: torch.Tensor\n",
    "    ) -> Tuple[torch.Tensor, torch.Tensor]:\n",
    "        \"\"\"\n",
    "\n",
    "        Inputs:\n",
    "        - x: (B, SEQ_LEN, EMBEDDING_DIM) - input at the current time step\n",
    "        - h: (B, HIDDEN_DIM) - hidden state from the previous time step\n",
    "        - c: (B, HIDDEN_DIM) - cell state from the previous time step\n",
    "\n",
    "        Outputs:\n",
    "        - hidden_seq: (B, SEQ_LEN, HIDDEN_DIM) - hidden states for all time steps in the sequence\n",
    "        - (h, c): (B, HIDDEN_DIM) - hidden state and cell state for the last time step in the sequence\n",
    "\n",
    "        \"\"\"\n",
    "\n",
    "        B, SEQ_LEN, EMBEDDING_DIM = x.shape\n",
    "        hidden_seq = []\n",
    "\n",
    "        for t in range(SEQ_LEN):\n",
    "            x_t = x[:, t, :]\n",
    "\n",
    "            combined = torch.cat((x_t, h), dim=1)\n",
    "\n",
    "            f = torch.sigmoid(torch.mm(combined, self.W_f) + self.b_f)\n",
    "            i = torch.sigmoid(torch.mm(combined, self.W_i) + self.b_i)\n",
    "            o = torch.sigmoid(torch.mm(combined, self.W_o) + self.b_o)\n",
    "\n",
    "            g = torch.tanh(torch.mm(combined, self.W_g) + self.b_g)\n",
    "\n",
    "            c = f * c + i * g\n",
    "            h = o * torch.tanh(c)\n",
    "\n",
    "            hidden_seq.append(h.unsqueeze(0))\n",
    "\n",
    "        hidden_seq = torch.cat(hidden_seq, dim=0)\n",
    "        hidden_seq = hidden_seq.transpose(0, 1).contiguous()\n",
    "\n",
    "        return hidden_seq, (h, c)"
   ]
  },
  {
   "cell_type": "markdown",
   "metadata": {},
   "source": [
    "### Breaking it down\n",
    "\n",
    "There's two key ideas in the LSTM / RNN architecture, namely sequential processing and the hidden state.\n",
    "\n",
    "#### Sequential processing\n",
    "\n",
    "This is the fundamental idea behind RNNs. The model processes the input sequence one token at a time, and maintains a hidden state that is updated at each time step. The hidden state is used to maintain information about the sequence that the model has seen so far. This is the reason we created those sequences of `X` and `y` earlier.\n",
    "\n",
    "In the forward pass, we loop over the input sequence, and at each time step, we pass the input token, along with the hidden state from the previous time step through the various gates of the LSTM cell to get the output token and the updated hidden state.\n",
    "\n",
    "#### Hidden state\n",
    "\n",
    "The hidden state in a RNN-arhitecture is a vector that acts as a memory for the model. What makes LSTMs so performant is that it implements two versions of the memory, namely the short-term memory (what the model is currently looking at, $h_t$) and the long-term memory (what the model has seen so far or the cell state, $c_t$).\n",
    "\n",
    "The gates in the LSTM cell control the flow of information in the computational graph. Through this, each cell can interpolate between the short-term and long-term memory, and decide what information to keep and what to discard. Let's look at the gates:\n",
    "\n",
    "- **Forget gate:** This gate decides what information to keep and what to discard from the long-term memory. It takes the input token ($x_t$) and the hidden state from the previous time step ($h_{t-1}$) as input, and outputs a vector of values between 0 and 1 that are used to scale the long-term memory, essentially deciding what to forget (close to 0) and what to keep (close to 1).\n",
    "- **Input gate:** This gate combines information from the input token and $h_{t-1}$ and decides what new information to add to the long-term memory. Here, the input token is passed through a sigmoid function to decide what to add to the long-term memory, and a tanh function to decide what to add.\n",
    "- **Output gate:** This gate decides what information to take from the long-term memory and pass to the short-term memory. The output gate also takes $x_t$ and $h_{t-1}$ as input and outputs a vector to scale the long-term memory's contribution to the short-term memory.\n",
    "\n",
    "##### The equations\n",
    "\n",
    "Mathematically, the flow of an LSTM cell can be described as follows:\n",
    "\n",
    "$$\n",
    "\\begin{align}\n",
    "f_t &= \\sigma(W_f \\cdot [x_t, h_{t-1}] + b_f) \\\\\n",
    "i_t &= \\sigma(W_i \\cdot [x_t, h_{t-1}] + b_i) \\\\\n",
    "o_t &= \\sigma(W_o \\cdot [x_t, h_{t-1}] + b_o) \\\\\n",
    "g_t &= \\tanh(W_g \\cdot [x_t, h_{t-1}] + b_g) \\\\\n",
    "\\\\\n",
    "c_t &= f_t \\odot c_{t-1} + i_t \\odot g_t \\\\\n",
    "h_t &= o_t \\odot \\tanh(c_t)\n",
    "\\end{align}\n",
    "$$\n",
    "\n",
    "The $\\odot$ operator denotes element-wise or point-wise multiplication. The $W$ and $b$ are the weights and biases of the LSTM cell, respectively. The $[x_t, h_{t-1}]$ notation denotes the concatenation of the input token and the hidden state from the previous time step.\n"
   ]
  },
  {
   "cell_type": "code",
   "execution_count": 12,
   "metadata": {},
   "outputs": [
    {
     "data": {
      "text/html": [
       "<pre style=\"white-space:pre;overflow-x:auto;line-height:normal;font-family:Menlo,'DejaVu Sans Mono',consolas,'Courier New',monospace\"></pre>\n"
      ],
      "text/plain": []
     },
     "metadata": {},
     "output_type": "display_data"
    },
    {
     "data": {
      "text/plain": [
       "\u001b[1;35mtorch.Size\u001b[0m\u001b[1m(\u001b[0m\u001b[1m[\u001b[0m\u001b[1;36m4\u001b[0m, \u001b[1;36m8\u001b[0m, \u001b[1;36m256\u001b[0m\u001b[1m]\u001b[0m\u001b[1m)\u001b[0m"
      ]
     },
     "execution_count": 12,
     "metadata": {},
     "output_type": "execute_result"
    }
   ],
   "source": [
    "LSTMCell(EMBEDDING_DIM, HIDDEN_DIM).forward(\n",
    "    Embedding(VOCAB_SIZE, EMBEDDING_DIM)(xb.to(\"cpu\")),\n",
    "    torch.zeros(BATCH_SIZE, HIDDEN_DIM),\n",
    "    torch.zeros(BATCH_SIZE, HIDDEN_DIM),\n",
    ")[0].shape"
   ]
  },
  {
   "cell_type": "markdown",
   "metadata": {},
   "source": [
    "### Multi-layer LSTM\n",
    "\n",
    "The above equations describe a single-layer LSTM cell. In practice, you can stack multiple LSTM cells on top of each other to create a multi-layer LSTM. The output of the LSTM cell at each layer is passed as input to the LSTM cell at the next layer. This allows the model to learn more complex relationships in the data.\n",
    "\n",
    "In order to implement this, we will need to tweak the `LSTMCell` class to only operate on a single layer, and then create a `LSTM` class that loops over the input sequence and passes the input tokens through the LSTM cells at all layers. To make the processing faster, I'll stack the weights of the gates into a single matrix, and the biases into a single vector. Additionally, we will also add a dropout layer to the LSTM cell to prevent overfitting.\n"
   ]
  },
  {
   "cell_type": "code",
   "execution_count": 107,
   "metadata": {},
   "outputs": [],
   "source": [
    "class LSTMCell(nn.Module):\n",
    "    def __init__(self, input_dim: int, hidden_dim: int):\n",
    "        \"\"\"\n",
    "        Initializes the LSTM cell with input and hidden dimensions.\n",
    "\n",
    "        Inputs:\n",
    "        - input_dim: The dimension of the input.\n",
    "        - hidden_dim: The dimension of the hidden state.\n",
    "\n",
    "        \"\"\"\n",
    "\n",
    "        super().__init__()\n",
    "        self.hidden_dim = hidden_dim\n",
    "\n",
    "        self.W_x = nn.Parameter(torch.empty(input_dim, 4 * hidden_dim))\n",
    "        self.W_h = nn.Parameter(torch.empty(hidden_dim, 4 * hidden_dim))\n",
    "        self.b = nn.Parameter(torch.zeros(4 * hidden_dim))\n",
    "\n",
    "        # Initialize weights using the Xavier uniform initialization\n",
    "        self.init_weights()\n",
    "\n",
    "    def init_weights(self):\n",
    "        stdv = 1.0 / np.sqrt(self.hidden_dim)\n",
    "\n",
    "        for weight in self.parameters():\n",
    "            if weight.dim() > 1:\n",
    "                nn.init.uniform_(weight, -stdv, stdv)\n",
    "\n",
    "    def forward(\n",
    "        self, x: torch.Tensor, hidden: Tuple[torch.Tensor, torch.Tensor] = None\n",
    "    ) -> Tuple[torch.Tensor, torch.Tensor]:\n",
    "        \"\"\"\n",
    "\n",
    "        Inputs:\n",
    "        - x: (B, SEQ_LEN, EMBEDDING_DIM) - input at the current time step\n",
    "        - hc: ((B, HIDDEN_DIM), (B, HIDDEN_DIM)) - tuple containing hidden state and cell state from the previous time step\n",
    "\n",
    "        Outputs:\n",
    "        - hidden_seq: (B, SEQ_LEN, HIDDEN_DIM) - hidden states for all time steps in the sequence\n",
    "        - hidden: ((B, HIDDEN_DIM), (B, HIDDEN_DIM)) - hidden state and cell state for the last time step in the sequence\n",
    "        \"\"\"\n",
    "\n",
    "        B, SEQ_LEN, EMBEDDING_DIM = x.shape\n",
    "\n",
    "        if hidden is None:\n",
    "            h, c = self.init_hidden(B)\n",
    "\n",
    "        else:\n",
    "            h, c = hidden\n",
    "\n",
    "        hidden_seq = []\n",
    "\n",
    "        for t in range(SEQ_LEN):\n",
    "            x_t = x[:, t, :]\n",
    "\n",
    "            gates = torch.matmul(x_t, self.W_x) + torch.matmul(h, self.W_h) + self.b\n",
    "\n",
    "            i = torch.sigmoid(gates[:, : self.hidden_dim])\n",
    "            f = torch.sigmoid(gates[:, self.hidden_dim : 2 * self.hidden_dim])\n",
    "            o = torch.sigmoid(gates[:, 2 * self.hidden_dim : 3 * self.hidden_dim])\n",
    "            g = torch.tanh(gates[:, 3 * self.hidden_dim :])\n",
    "\n",
    "            c = f * c + i * g\n",
    "            h = o * torch.tanh(c)\n",
    "\n",
    "            hidden_seq.append(h.unsqueeze(1))\n",
    "\n",
    "        hidden_seq = torch.cat(hidden_seq, dim=1)\n",
    "\n",
    "        return hidden_seq, (h, c)\n",
    "\n",
    "    def init_hidden(self, batch_size: int) -> Tuple[torch.Tensor, torch.Tensor]:\n",
    "        return (\n",
    "            torch.zeros(batch_size, self.hidden_dim).to(device),\n",
    "            torch.zeros(batch_size, self.hidden_dim).to(device),\n",
    "        )"
   ]
  },
  {
   "cell_type": "code",
   "execution_count": 129,
   "metadata": {},
   "outputs": [],
   "source": [
    "class LSTM(nn.Module):\n",
    "    def __init__(\n",
    "        self, input_dim: int, hidden_dim: int, num_layers: int, dropout: float = 0.0\n",
    "    ):\n",
    "        \"\"\"\n",
    "        Initializes the LSTM with input and hidden dimensions, number of layers, and dropout. The number of layers determines the number of LSTM cells in the network.\n",
    "\n",
    "        Inputs:\n",
    "        - input_dim: The dimension of the input.\n",
    "        - hidden_dim: The dimension of the hidden state.\n",
    "        - num_layers: The number of LSTM cells in the network.\n",
    "        - dropout: The dropout probability.\n",
    "        \"\"\"\n",
    "\n",
    "        super().__init__()\n",
    "\n",
    "        self.hidden_dim = hidden_dim\n",
    "        self.num_layers = num_layers\n",
    "        self.dropout = dropout\n",
    "\n",
    "        # Create a list of LSTM cells\n",
    "        self.layers = nn.ModuleList(\n",
    "            [\n",
    "                LSTMCell(input_dim, hidden_dim),\n",
    "                *[LSTMCell(hidden_dim, hidden_dim) for i in range(num_layers - 1)],\n",
    "            ]\n",
    "        )\n",
    "\n",
    "    def forward(\n",
    "        self, x: torch.Tensor, hidden: Tuple[torch.Tensor, torch.Tensor] = None\n",
    "    ) -> Tuple[torch.Tensor, Tuple[torch.Tensor, torch.Tensor]]:\n",
    "        \"\"\"\n",
    "        Inputs:\n",
    "        - x: (B, SEQ_LEN, EMBEDDING_DIM) - input sequence\n",
    "        - hidden: List of tuples containing hidden and cell states for each LSTM layer\n",
    "        Outputs:\n",
    "        - hidden_seq: (B, SEQ_LEN, HIDDEN_DIM) - hidden states for all time steps\n",
    "        - hidden: List of tuples containing hidden and cell states for each LSTM layer\n",
    "        \"\"\"\n",
    "\n",
    "        if hidden is None:\n",
    "            hidden = [None] * self.num_layers\n",
    "\n",
    "        input_seq = x\n",
    "        new_hidden = []\n",
    "\n",
    "        for i, layer in enumerate(self.layers):\n",
    "            input_seq, hc = layer(input_seq, hidden[i])\n",
    "            new_hidden.append(hc)\n",
    "\n",
    "        input_seq = F.dropout(input_seq, p=self.dropout, training=self.training)\n",
    "\n",
    "        return input_seq, new_hidden\n"
   ]
  },
  {
   "cell_type": "markdown",
   "metadata": {},
   "source": [
    "This is a 16-layer LSTM with a dropout of 0.2, which means that there are 16 LSTM cells in the model, each with a hidden dimension of 256. The dropout layer is applied after each LSTM cell with a probability of 0.2.\n"
   ]
  },
  {
   "cell_type": "code",
   "execution_count": 130,
   "metadata": {},
   "outputs": [
    {
     "data": {
      "text/html": [
       "<pre style=\"white-space:pre;overflow-x:auto;line-height:normal;font-family:Menlo,'DejaVu Sans Mono',consolas,'Courier New',monospace\"></pre>\n"
      ],
      "text/plain": []
     },
     "metadata": {},
     "output_type": "display_data"
    },
    {
     "data": {
      "text/plain": [
       "\u001b[1;35mtorch.Size\u001b[0m\u001b[1m(\u001b[0m\u001b[1m[\u001b[0m\u001b[1;36m4\u001b[0m, \u001b[1;36m8\u001b[0m, \u001b[1;36m256\u001b[0m\u001b[1m]\u001b[0m\u001b[1m)\u001b[0m"
      ]
     },
     "execution_count": 130,
     "metadata": {},
     "output_type": "execute_result"
    }
   ],
   "source": [
    "LSTM(EMBEDDING_DIM, HIDDEN_DIM, 16, 0.2).to(device).forward(\n",
    "    Embedding(VOCAB_SIZE, EMBEDDING_DIM).to(device)(xb),\n",
    ")[0].shape"
   ]
  },
  {
   "cell_type": "markdown",
   "metadata": {},
   "source": [
    "## Fully-connected layer\n",
    "\n",
    "Finally, we need to add a fully-connected layer to the model to map the output of the LSTM cell to the vocabulary size. Within the LSTM layer, neurons are connected to each other in a sequence, but the fully-connected layer connects all the input neurons to all the output neurons. This is probably the simplest layer in the model, and it is used to map the output of the LSTM cell to the vocabulary size, which is the number of unique characters in the text.\n"
   ]
  },
  {
   "cell_type": "code",
   "execution_count": 131,
   "metadata": {},
   "outputs": [],
   "source": [
    "class Linear(nn.Module):\n",
    "    def __init__(self, in_features: int, out_features: int):\n",
    "        \"\"\"\n",
    "        Initializes the fully connected layer to transform the hidden state to the output. The output size is equal to the vocabulary size.\n",
    "\n",
    "        Inputs:\n",
    "        - in_features: The size of the input.\n",
    "        - out_features: The size of the output.\n",
    "        \"\"\"\n",
    "\n",
    "        super().__init__()\n",
    "        self.W = nn.Parameter(torch.empty(in_features, out_features))\n",
    "        self.b = nn.Parameter(torch.zeros(out_features))\n",
    "\n",
    "        # Initialize weights using the Xavier uniform initialization\n",
    "        nn.init.xavier_uniform_(self.W)\n",
    "\n",
    "    def forward(self, x: torch.Tensor) -> torch.Tensor:\n",
    "        return torch.matmul(x, self.W) + self.b"
   ]
  },
  {
   "cell_type": "code",
   "execution_count": 132,
   "metadata": {},
   "outputs": [
    {
     "data": {
      "text/html": [
       "<pre style=\"white-space:pre;overflow-x:auto;line-height:normal;font-family:Menlo,'DejaVu Sans Mono',consolas,'Courier New',monospace\">Input <span style=\"color: #008080; text-decoration-color: #008080; font-weight: bold\">0</span>: Leave me\n",
       "</pre>\n"
      ],
      "text/plain": [
       "Input \u001b[1;36m0\u001b[0m: Leave me\n"
      ]
     },
     "metadata": {},
     "output_type": "display_data"
    },
    {
     "data": {
      "text/html": [
       "<pre style=\"white-space:pre;overflow-x:auto;line-height:normal;font-family:Menlo,'DejaVu Sans Mono',consolas,'Courier New',monospace\">Output <span style=\"color: #008080; text-decoration-color: #008080; font-weight: bold\">0</span>: t\n",
       "</pre>\n"
      ],
      "text/plain": [
       "Output \u001b[1;36m0\u001b[0m: t\n"
      ]
     },
     "metadata": {},
     "output_type": "display_data"
    },
    {
     "data": {
      "text/html": [
       "<pre style=\"white-space:pre;overflow-x:auto;line-height:normal;font-family:Menlo,'DejaVu Sans Mono',consolas,'Courier New',monospace\">Input <span style=\"color: #008080; text-decoration-color: #008080; font-weight: bold\">1</span>: a surgeo\n",
       "</pre>\n"
      ],
      "text/plain": [
       "Input \u001b[1;36m1\u001b[0m: a surgeo\n"
      ]
     },
     "metadata": {},
     "output_type": "display_data"
    },
    {
     "data": {
      "text/html": [
       "<pre style=\"white-space:pre;overflow-x:auto;line-height:normal;font-family:Menlo,'DejaVu Sans Mono',consolas,'Courier New',monospace\">Output <span style=\"color: #008080; text-decoration-color: #008080; font-weight: bold\">1</span>: s\n",
       "</pre>\n"
      ],
      "text/plain": [
       "Output \u001b[1;36m1\u001b[0m: s\n"
      ]
     },
     "metadata": {},
     "output_type": "display_data"
    },
    {
     "data": {
      "text/html": [
       "<pre style=\"white-space:pre;overflow-x:auto;line-height:normal;font-family:Menlo,'DejaVu Sans Mono',consolas,'Courier New',monospace\">Input <span style=\"color: #008080; text-decoration-color: #008080; font-weight: bold\">2</span>: e thy tu\n",
       "</pre>\n"
      ],
      "text/plain": [
       "Input \u001b[1;36m2\u001b[0m: e thy tu\n"
      ]
     },
     "metadata": {},
     "output_type": "display_data"
    },
    {
     "data": {
      "text/html": [
       "<pre style=\"white-space:pre;overflow-x:auto;line-height:normal;font-family:Menlo,'DejaVu Sans Mono',consolas,'Courier New',monospace\">Output <span style=\"color: #008080; text-decoration-color: #008080; font-weight: bold\">2</span>: ,\n",
       "</pre>\n"
      ],
      "text/plain": [
       "Output \u001b[1;36m2\u001b[0m: ,\n"
      ]
     },
     "metadata": {},
     "output_type": "display_data"
    },
    {
     "data": {
      "text/html": [
       "<pre style=\"white-space:pre;overflow-x:auto;line-height:normal;font-family:Menlo,'DejaVu Sans Mono',consolas,'Courier New',monospace\">Input <span style=\"color: #008080; text-decoration-color: #008080; font-weight: bold\">3</span>: greet hi\n",
       "</pre>\n"
      ],
      "text/plain": [
       "Input \u001b[1;36m3\u001b[0m: greet hi\n"
      ]
     },
     "metadata": {},
     "output_type": "display_data"
    },
    {
     "data": {
      "text/html": [
       "<pre style=\"white-space:pre;overflow-x:auto;line-height:normal;font-family:Menlo,'DejaVu Sans Mono',consolas,'Courier New',monospace\">Output <span style=\"color: #008080; text-decoration-color: #008080; font-weight: bold\">3</span>: -\n",
       "</pre>\n"
      ],
      "text/plain": [
       "Output \u001b[1;36m3\u001b[0m: -\n"
      ]
     },
     "metadata": {},
     "output_type": "display_data"
    }
   ],
   "source": [
    "out, _ = (\n",
    "    LSTMCell(EMBEDDING_DIM, HIDDEN_DIM)\n",
    "    .to(device)\n",
    "    .forward(\n",
    "        Embedding(VOCAB_SIZE, EMBEDDING_DIM).to(device)(xb),\n",
    "    )\n",
    ")\n",
    "\n",
    "logits = Linear(HIDDEN_DIM, VOCAB_SIZE).to(device).forward(out)\n",
    "preds = F.log_softmax(logits[:, -1], dim=1)\n",
    "\n",
    "for i in range(BATCH_SIZE):\n",
    "    print(f\"Input {i}: {s.decode(xb[i].tolist())}\")\n",
    "    print(f\"Output {i}: {s.decode([torch.argmax(preds, dim=1)[i].item()])}\")"
   ]
  },
  {
   "cell_type": "markdown",
   "metadata": {},
   "source": [
    "We take the last hidden state of the LSTM cell and pass it through the fully-connected layer to get the output logits. The logits are then passed through a softmax layer to get the probability distribution over the vocabulary, which is used to predict the next character in the text.\n",
    "\n",
    "Of course, the output does not make any sense currently as it is just predicting with randomly initialized weights everytime. However, it would be fun to look at the likelihood of the next character for a given input batch. Let's visualize this. This part is inspired by Karpathy's [blog post](https://karpathy.github.io/2015/05/21/rnn-effectiveness/).\n"
   ]
  },
  {
   "cell_type": "code",
   "execution_count": 133,
   "metadata": {},
   "outputs": [],
   "source": [
    "def visualize_predictions(input_batch, logits, s, k=10):\n",
    "    \"\"\"\n",
    "    Visualize the likelihood of the next character for a given input batch.\n",
    "\n",
    "    Args:\n",
    "    - input_batch (torch.Tensor): The input batch of shape (BATCH_SIZE, SEQ_LEN).\n",
    "    - logits (torch.Tensor): The logits of shape (BATCH_SIZE, VOCAB_SIZE).\n",
    "    - s (ShakespeareDataset): The dataset object for decoding indices to characters.\n",
    "    - k (int): The number of top predictions to display.\n",
    "    \"\"\"\n",
    "    BATCH_SIZE, SEQ_LEN = input_batch.shape\n",
    "\n",
    "    fig, axes = plt.subplots(1, BATCH_SIZE, figsize=(5 * BATCH_SIZE, 10))\n",
    "\n",
    "    for i in range(BATCH_SIZE):\n",
    "        input_text = s.decode(input_batch[i].tolist())\n",
    "        last_logits = logits[i, -1]\n",
    "\n",
    "        topk_probs, topk_indices = torch.topk(last_logits, k)\n",
    "        topk_chars = [s.chars[idx] for idx in topk_indices]\n",
    "\n",
    "        sns.heatmap(\n",
    "            topk_probs.reshape(-1, 1).detach().cpu().numpy(),\n",
    "            annot=True,\n",
    "            fmt=\".4f\",\n",
    "            yticklabels=topk_chars,\n",
    "            cbar=False,\n",
    "            cmap=\"coolwarm\",\n",
    "            ax=axes[i],\n",
    "        )\n",
    "\n",
    "        axes[i].set_title(f\"Input: {input_text}\")\n",
    "        axes[i].set_ylabel(\"Characters\")\n",
    "        axes[i].set_xlabel(\"Probability\")\n",
    "\n",
    "    plt.tight_layout()\n",
    "    plt.show()"
   ]
  },
  {
   "cell_type": "code",
   "execution_count": 134,
   "metadata": {},
   "outputs": [
    {
     "data": {
      "text/html": [
       "<pre style=\"white-space:pre;overflow-x:auto;line-height:normal;font-family:Menlo,'DejaVu Sans Mono',consolas,'Courier New',monospace\"></pre>\n"
      ],
      "text/plain": []
     },
     "metadata": {},
     "output_type": "display_data"
    },
    {
     "data": {
      "image/png": "[encoded data removed]",
      "text/plain": [
       "\u001b[1m<\u001b[0m\u001b[1;95mFigure\u001b[0m\u001b[39m size 200\u001b[0m\u001b[1;36m0x1000\u001b[0m\u001b[39m with \u001b[0m\u001b[1;36m4\u001b[0m\u001b[39m Axes\u001b[0m\u001b[1m>\u001b[0m"
      ]
     },
     "metadata": {},
     "output_type": "display_data"
    }
   ],
   "source": [
    "visualize_predictions(xb, logits, s, k=10)"
   ]
  },
  {
   "cell_type": "markdown",
   "metadata": {},
   "source": [
    "## Connecting the blocks\n",
    "\n",
    "Now that we have all the components of the model, we can connect them together to create the `ShakespeareModel` class. This class will take the input sequence, pass it through the embedding layer, the LSTM layer, and the fully-connected layer, and return the output logits.\n"
   ]
  },
  {
   "cell_type": "code",
   "execution_count": 169,
   "metadata": {},
   "outputs": [],
   "source": [
    "class ShakespeareModel(nn.Module):\n",
    "    def __init__(\n",
    "        self,\n",
    "        vocab_size: int,\n",
    "        embedding_dim: int,\n",
    "        hidden_dim: int,\n",
    "        num_layers: int,\n",
    "        dropout: float = 0.0,\n",
    "    ):\n",
    "        \"\"\"\n",
    "        Initializes the ShakespeareModel with the given vocabulary size, \n",
    "        embedding dimension, hidden dimension, number of layers, and dropout.\n",
    "\n",
    "        Inputs:\n",
    "        - vocab_size: The size of the vocabulary.\n",
    "        - embedding_dim: The dimension of the input embeddings.\n",
    "        - hidden_dim: The dimension of the hidden state.\n",
    "        - num_layers: The number of LSTM cells in the network.\n",
    "        - dropout: The dropout probability.\n",
    "        \"\"\"\n",
    "\n",
    "        super().__init__()\n",
    "\n",
    "        self.embedding = Embedding(vocab_size, embedding_dim)\n",
    "        self.lstm = LSTM(\n",
    "            input_dim=embedding_dim,\n",
    "            hidden_dim=hidden_dim,\n",
    "            num_layers=num_layers,\n",
    "            dropout=dropout,\n",
    "        )\n",
    "        self.linear = Linear(hidden_dim, vocab_size)\n",
    "\n",
    "        self.to_device(device)\n",
    "\n",
    "    def forward(\n",
    "        self, x: torch.Tensor, hidden: Tuple[torch.Tensor, torch.Tensor] = None\n",
    "    ) -> Tuple[torch.Tensor, Tuple[torch.Tensor, torch.Tensor]]:\n",
    "        x = self.embedding(x)\n",
    "        x, hidden = self.lstm(x, hidden)\n",
    "        x = self.linear(x)\n",
    "\n",
    "        return x, hidden\n",
    "\n",
    "    def generate(self, x0: str, n: int = 100, temperature: float = 1.0) -> str:\n",
    "        \"\"\"\n",
    "        Generate text given a starting sequence.\n",
    "\n",
    "        Args:\n",
    "        - x0 (str): The starting sequence.\n",
    "        - n (int): The number of characters to generate.\n",
    "        - temperature (float): The temperature for sampling.\n",
    "\n",
    "        Returns:\n",
    "        - str: The generated text.\n",
    "        \"\"\"\n",
    "        self.eval()\n",
    "\n",
    "        inputs = s.encode(x0).unsqueeze(0).to(device)\n",
    "        hidden = None\n",
    "\n",
    "        output = x0\n",
    "\n",
    "        for _ in range(n):\n",
    "            logits, hidden = self.forward(inputs, hidden)\n",
    "            logits = logits[:, -1, :] / temperature\n",
    "\n",
    "            probs = F.softmax(logits, dim=-1)\n",
    "\n",
    "            next_char = torch.multinomial(probs, 1).item()\n",
    "            output += s.decode([next_char])\n",
    "\n",
    "            inputs = torch.tensor([[next_char]]).to(device)\n",
    "            yield s.decode([next_char])\n",
    "\n",
    "        return output"
   ]
  },
  {
   "cell_type": "code",
   "execution_count": 170,
   "metadata": {},
   "outputs": [],
   "source": [
    "# Model parameters\n",
    "BATCH_SIZE = 128\n",
    "SEQ_LEN = 32\n",
    "VOCAB_SIZE = s.get_vocab_size()\n",
    "EMBEDDING_DIM = 128\n",
    "HIDDEN_DIM = 256\n",
    "NUM_LAYERS = 3"
   ]
  },
  {
   "cell_type": "code",
   "execution_count": 176,
   "metadata": {},
   "outputs": [
    {
     "data": {
      "text/html": [
       "<pre style=\"white-space:pre;overflow-x:auto;line-height:normal;font-family:Menlo,'DejaVu Sans Mono',consolas,'Courier New',monospace\">ROMEO: RgjeqSUnPi\n",
       "</pre>\n"
      ],
      "text/plain": [
       "ROMEO: RgjeqSUnPi\n"
      ]
     },
     "metadata": {},
     "output_type": "display_data"
    }
   ],
   "source": [
    "model = ShakespeareModel(\n",
    "    VOCAB_SIZE, EMBEDDING_DIM, HIDDEN_DIM, NUM_LAYERS, dropout=0.2\n",
    ").to(device)\n",
    "\n",
    "\n",
    "chars = model.generate(\"ROMEO:\", n=10, temperature=0.5)\n",
    "print(\"ROMEO:\", \"\".join(chars))\n"
   ]
  },
  {
   "cell_type": "markdown",
   "metadata": {},
   "source": [
    "# Training the model\n",
    "\n",
    "Now comes the fun part: training the model! We have the model architecture in place, and we have the data ready to go. The next step is to train the model on the data and have it start generating text in the style of Shakespeare. Before we do that, we need to define the loss function and the optimizer.\n",
    "\n",
    "## Loss function\n",
    "\n",
    "The loss function is deep learning is a measure of how well the model is performing. The goal of training the model is to minimize the loss function, which means that the model is getting better at generating text in the style of Shakespeare. The loss function we will use is the cross-entropy loss, which is commonly used for classification tasks. The cross-entropy loss measures the difference between the predicted probability distribution and the true probability distribution.\n",
    "\n",
    "## Optimizer\n",
    "\n",
    "The optimizer is the algorithm that is used to update the weights of the model during training. The first optimizer I learned about was the stochastic gradient descent (SGD) optimizer, but there are many other optimizers that are more performant, such as Adam, RMSprop, and Adagrad. We will use the AdamW optimizer in this notebook.\n"
   ]
  },
  {
   "cell_type": "code",
   "execution_count": 177,
   "metadata": {},
   "outputs": [
    {
     "data": {
      "text/html": [
       "<pre style=\"white-space:pre;overflow-x:auto;line-height:normal;font-family:Menlo,'DejaVu Sans Mono',consolas,'Courier New',monospace\"></pre>\n"
      ],
      "text/plain": []
     },
     "metadata": {},
     "output_type": "display_data"
    },
    {
     "data": {
      "text/plain": [
       "\u001b[1;35mCrossEntropyLoss\u001b[0m\u001b[1m(\u001b[0m\u001b[1m)\u001b[0m"
      ]
     },
     "execution_count": 177,
     "metadata": {},
     "output_type": "execute_result"
    }
   ],
   "source": [
    "criterion = nn.CrossEntropyLoss()\n",
    "criterion"
   ]
  },
  {
   "cell_type": "code",
   "execution_count": 178,
   "metadata": {},
   "outputs": [
    {
     "data": {
      "text/html": [
       "<pre style=\"white-space:pre;overflow-x:auto;line-height:normal;font-family:Menlo,'DejaVu Sans Mono',consolas,'Courier New',monospace\"></pre>\n"
      ],
      "text/plain": []
     },
     "metadata": {},
     "output_type": "display_data"
    },
    {
     "data": {
      "text/plain": [
       "\n",
       "AdamW \u001b[1m(\u001b[0m\n",
       "Parameter Group \u001b[1;36m0\u001b[0m\n",
       "    amsgrad: \u001b[3;91mFalse\u001b[0m\n",
       "    betas: \u001b[1m(\u001b[0m\u001b[1;36m0.9\u001b[0m, \u001b[1;36m0.999\u001b[0m\u001b[1m)\u001b[0m\n",
       "    capturable: \u001b[3;91mFalse\u001b[0m\n",
       "    differentiable: \u001b[3;91mFalse\u001b[0m\n",
       "    eps: \u001b[1;36m1e-08\u001b[0m\n",
       "    foreach: \u001b[3;35mNone\u001b[0m\n",
       "    fused: \u001b[3;35mNone\u001b[0m\n",
       "    lr: \u001b[1;36m0.001\u001b[0m\n",
       "    maximize: \u001b[3;91mFalse\u001b[0m\n",
       "    weight_decay: \u001b[1;36m0.0001\u001b[0m\n",
       "\u001b[1m)\u001b[0m"
      ]
     },
     "execution_count": 178,
     "metadata": {},
     "output_type": "execute_result"
    }
   ],
   "source": [
    "optimizer = torch.optim.AdamW(model.parameters(), lr=1e-3, weight_decay=1e-4)\n",
    "optimizer"
   ]
  },
  {
   "cell_type": "code",
   "execution_count": 183,
   "metadata": {},
   "outputs": [
    {
     "data": {
      "text/html": [
       "<pre style=\"white-space:pre;overflow-x:auto;line-height:normal;font-family:Menlo,'DejaVu Sans Mono',consolas,'Courier New',monospace\">Epoch <span style=\"color: #008080; text-decoration-color: #008080; font-weight: bold\">1</span>/<span style=\"color: #008080; text-decoration-color: #008080; font-weight: bold\">10</span> - Loss: <span style=\"color: #008080; text-decoration-color: #008080; font-weight: bold\">4.1683</span>\n",
       "</pre>\n"
      ],
      "text/plain": [
       "Epoch \u001b[1;36m1\u001b[0m/\u001b[1;36m10\u001b[0m - Loss: \u001b[1;36m4.1683\u001b[0m\n"
      ]
     },
     "metadata": {},
     "output_type": "display_data"
    },
    {
     "data": {
      "text/html": [
       "<pre style=\"white-space:pre;overflow-x:auto;line-height:normal;font-family:Menlo,'DejaVu Sans Mono',consolas,'Courier New',monospace\">Inference:\n",
       "YuAquuikENV.yCWKl K:I3ZVO.bo XcS; nefk&amp;XdE:XD?iLn;FleeWcKo u;VFZqkRWKk;MvmxtTYEuDqA;aKrNV,,Tc :fAgth\n",
       "</pre>\n"
      ],
      "text/plain": [
       "Inference:\n",
       "YuAquuikENV.yCWKl K:I3ZVO.bo XcS; nefk&XdE:XD?iLn;FleeWcKo u;VFZqkRWKk;MvmxtTYEuDqA;aKrNV,,Tc :fAgth\n"
      ]
     },
     "metadata": {},
     "output_type": "display_data"
    },
    {
     "data": {
      "text/html": [
       "<pre style=\"white-space:pre;overflow-x:auto;line-height:normal;font-family:Menlo,'DejaVu Sans Mono',consolas,'Courier New',monospace\">----------------------------------------------------------------------------------------------------\n",
       "</pre>\n"
      ],
      "text/plain": [
       "----------------------------------------------------------------------------------------------------\n"
      ]
     },
     "metadata": {},
     "output_type": "display_data"
    },
    {
     "data": {
      "text/html": [
       "<pre style=\"white-space:pre;overflow-x:auto;line-height:normal;font-family:Menlo,'DejaVu Sans Mono',consolas,'Courier New',monospace\">Epoch <span style=\"color: #008080; text-decoration-color: #008080; font-weight: bold\">1</span>/<span style=\"color: #008080; text-decoration-color: #008080; font-weight: bold\">10</span> - Loss: <span style=\"color: #008080; text-decoration-color: #008080; font-weight: bold\">3.3083</span>\n",
       "</pre>\n"
      ],
      "text/plain": [
       "Epoch \u001b[1;36m1\u001b[0m/\u001b[1;36m10\u001b[0m - Loss: \u001b[1;36m3.3083\u001b[0m\n"
      ]
     },
     "metadata": {},
     "output_type": "display_data"
    },
    {
     "data": {
      "text/html": [
       "<pre style=\"white-space:pre;overflow-x:auto;line-height:normal;font-family:Menlo,'DejaVu Sans Mono',consolas,'Courier New',monospace\">Inference:\n",
       "m  \n",
       "   o h lo,rto n s e  oieeee e    g s t  aoei o th e us lee   t e w  eter  rreeteda    t n n  en \n",
       "</pre>\n"
      ],
      "text/plain": [
       "Inference:\n",
       "m  \n",
       "   o h lo,rto n s e  oieeee e    g s t  aoei o th e us lee   t e w  eter  rreeteda    t n n  en \n"
      ]
     },
     "metadata": {},
     "output_type": "display_data"
    },
    {
     "data": {
      "text/html": [
       "<pre style=\"white-space:pre;overflow-x:auto;line-height:normal;font-family:Menlo,'DejaVu Sans Mono',consolas,'Courier New',monospace\">----------------------------------------------------------------------------------------------------\n",
       "</pre>\n"
      ],
      "text/plain": [
       "----------------------------------------------------------------------------------------------------\n"
      ]
     },
     "metadata": {},
     "output_type": "display_data"
    },
    {
     "data": {
      "text/html": [
       "<pre style=\"white-space:pre;overflow-x:auto;line-height:normal;font-family:Menlo,'DejaVu Sans Mono',consolas,'Courier New',monospace\">Epoch <span style=\"color: #008080; text-decoration-color: #008080; font-weight: bold\">1</span>/<span style=\"color: #008080; text-decoration-color: #008080; font-weight: bold\">10</span> - Loss: <span style=\"color: #008080; text-decoration-color: #008080; font-weight: bold\">2.9860</span>\n",
       "</pre>\n"
      ],
      "text/plain": [
       "Epoch \u001b[1;36m1\u001b[0m/\u001b[1;36m10\u001b[0m - Loss: \u001b[1;36m2.9860\u001b[0m\n"
      ]
     },
     "metadata": {},
     "output_type": "display_data"
    },
    {
     "data": {
      "text/html": [
       "<pre style=\"white-space:pre;overflow-x:auto;line-height:normal;font-family:Menlo,'DejaVu Sans Mono',consolas,'Courier New',monospace\">Inference:\n",
       "oenst ncorn oou en he eol eue tae hain gnoe hou hia aeu aoe lathae haiy nhe ton ae oae tttte cene io\n",
       "</pre>\n"
      ],
      "text/plain": [
       "Inference:\n",
       "oenst ncorn oou en he eol eue tae hain gnoe hou hia aeu aoe lathae haiy nhe ton ae oae tttte cene io\n"
      ]
     },
     "metadata": {},
     "output_type": "display_data"
    },
    {
     "data": {
      "text/html": [
       "<pre style=\"white-space:pre;overflow-x:auto;line-height:normal;font-family:Menlo,'DejaVu Sans Mono',consolas,'Courier New',monospace\">----------------------------------------------------------------------------------------------------\n",
       "</pre>\n"
      ],
      "text/plain": [
       "----------------------------------------------------------------------------------------------------\n"
      ]
     },
     "metadata": {},
     "output_type": "display_data"
    },
    {
     "data": {
      "text/html": [
       "<pre style=\"white-space:pre;overflow-x:auto;line-height:normal;font-family:Menlo,'DejaVu Sans Mono',consolas,'Courier New',monospace\">Epoch <span style=\"color: #008080; text-decoration-color: #008080; font-weight: bold\">1</span>/<span style=\"color: #008080; text-decoration-color: #008080; font-weight: bold\">10</span> - Loss: <span style=\"color: #008080; text-decoration-color: #008080; font-weight: bold\">2.8317</span>\n",
       "</pre>\n"
      ],
      "text/plain": [
       "Epoch \u001b[1;36m1\u001b[0m/\u001b[1;36m10\u001b[0m - Loss: \u001b[1;36m2.8317\u001b[0m\n"
      ]
     },
     "metadata": {},
     "output_type": "display_data"
    },
    {
     "data": {
      "text/html": [
       "<pre style=\"white-space:pre;overflow-x:auto;line-height:normal;font-family:Menlo,'DejaVu Sans Mono',consolas,'Courier New',monospace\">Inference:\n",
       "too hot te wte fres ty toe hii haue he bon the oo tant mae ee moles ae tot shss cor, hae.\n",
       "\n",
       "\n",
       "IIAON⭕\n",
       "</pre>\n"
      ],
      "text/plain": [
       "Inference:\n",
       "too hot te wte fres ty toe hii haue he bon the oo tant mae ee moles ae tot shss cor, hae.\n",
       "\n",
       "\n",
       "IIAON⭕\n"
      ]
     },
     "metadata": {},
     "output_type": "display_data"
    },
    {
     "data": {
      "text/html": [
       "<pre style=\"white-space:pre;overflow-x:auto;line-height:normal;font-family:Menlo,'DejaVu Sans Mono',consolas,'Courier New',monospace\">----------------------------------------------------------------------------------------------------\n",
       "</pre>\n"
      ],
      "text/plain": [
       "----------------------------------------------------------------------------------------------------\n"
      ]
     },
     "metadata": {},
     "output_type": "display_data"
    },
    {
     "data": {
      "text/html": [
       "<pre style=\"white-space:pre;overflow-x:auto;line-height:normal;font-family:Menlo,'DejaVu Sans Mono',consolas,'Courier New',monospace\">Epoch <span style=\"color: #008080; text-decoration-color: #008080; font-weight: bold\">1</span>/<span style=\"color: #008080; text-decoration-color: #008080; font-weight: bold\">10</span> - Loss: <span style=\"color: #008080; text-decoration-color: #008080; font-weight: bold\">2.6788</span>\n",
       "</pre>\n"
      ],
      "text/plain": [
       "Epoch \u001b[1;36m1\u001b[0m/\u001b[1;36m10\u001b[0m - Loss: \u001b[1;36m2.6788\u001b[0m\n"
      ]
     },
     "metadata": {},
     "output_type": "display_data"
    },
    {
     "data": {
      "text/html": [
       "<pre style=\"white-space:pre;overflow-x:auto;line-height:normal;font-family:Menlo,'DejaVu Sans Mono',consolas,'Courier New',monospace\">Inference:\n",
       "ae yoe le te tot in teae tit oir rercees goloes, shie hht ho io bhut aot eile sare tare ne soas taia\n",
       "</pre>\n"
      ],
      "text/plain": [
       "Inference:\n",
       "ae yoe le te tot in teae tit oir rercees goloes, shie hht ho io bhut aot eile sare tare ne soas taia\n"
      ]
     },
     "metadata": {},
     "output_type": "display_data"
    },
    {
     "data": {
      "text/html": [
       "<pre style=\"white-space:pre;overflow-x:auto;line-height:normal;font-family:Menlo,'DejaVu Sans Mono',consolas,'Courier New',monospace\">----------------------------------------------------------------------------------------------------\n",
       "</pre>\n"
      ],
      "text/plain": [
       "----------------------------------------------------------------------------------------------------\n"
      ]
     },
     "metadata": {},
     "output_type": "display_data"
    },
    {
     "data": {
      "text/html": [
       "<pre style=\"white-space:pre;overflow-x:auto;line-height:normal;font-family:Menlo,'DejaVu Sans Mono',consolas,'Courier New',monospace\">Epoch <span style=\"color: #008080; text-decoration-color: #008080; font-weight: bold\">1</span>/<span style=\"color: #008080; text-decoration-color: #008080; font-weight: bold\">10</span> - Average Loss: <span style=\"color: #008080; text-decoration-color: #008080; font-weight: bold\">3.0035</span>\n",
       "</pre>\n"
      ],
      "text/plain": [
       "Epoch \u001b[1;36m1\u001b[0m/\u001b[1;36m10\u001b[0m - Average Loss: \u001b[1;36m3.0035\u001b[0m\n"
      ]
     },
     "metadata": {},
     "output_type": "display_data"
    },
    {
     "data": {
      "text/html": [
       "<pre style=\"white-space:pre;overflow-x:auto;line-height:normal;font-family:Menlo,'DejaVu Sans Mono',consolas,'Courier New',monospace\">Epoch <span style=\"color: #008080; text-decoration-color: #008080; font-weight: bold\">2</span>/<span style=\"color: #008080; text-decoration-color: #008080; font-weight: bold\">10</span> - Loss: <span style=\"color: #008080; text-decoration-color: #008080; font-weight: bold\">2.4314</span>\n",
       "</pre>\n"
      ],
      "text/plain": [
       "Epoch \u001b[1;36m2\u001b[0m/\u001b[1;36m10\u001b[0m - Loss: \u001b[1;36m2.4314\u001b[0m\n"
      ]
     },
     "metadata": {},
     "output_type": "display_data"
    },
    {
     "data": {
      "text/html": [
       "<pre style=\"white-space:pre;overflow-x:auto;line-height:normal;font-family:Menlo,'DejaVu Sans Mono',consolas,'Courier New',monospace\">Inference:\n",
       "mo mose an fhe leot are here sondige tite thipe same fige thit on ae tho sore thom fere the thit ant\n",
       "</pre>\n"
      ],
      "text/plain": [
       "Inference:\n",
       "mo mose an fhe leot are here sondige tite thipe same fige thit on ae tho sore thom fere the thit ant\n"
      ]
     },
     "metadata": {},
     "output_type": "display_data"
    },
    {
     "data": {
      "text/html": [
       "<pre style=\"white-space:pre;overflow-x:auto;line-height:normal;font-family:Menlo,'DejaVu Sans Mono',consolas,'Courier New',monospace\">----------------------------------------------------------------------------------------------------\n",
       "</pre>\n"
      ],
      "text/plain": [
       "----------------------------------------------------------------------------------------------------\n"
      ]
     },
     "metadata": {},
     "output_type": "display_data"
    },
    {
     "data": {
      "text/html": [
       "<pre style=\"white-space:pre;overflow-x:auto;line-height:normal;font-family:Menlo,'DejaVu Sans Mono',consolas,'Courier New',monospace\">Epoch <span style=\"color: #008080; text-decoration-color: #008080; font-weight: bold\">2</span>/<span style=\"color: #008080; text-decoration-color: #008080; font-weight: bold\">10</span> - Loss: <span style=\"color: #008080; text-decoration-color: #008080; font-weight: bold\">2.3685</span>\n",
       "</pre>\n"
      ],
      "text/plain": [
       "Epoch \u001b[1;36m2\u001b[0m/\u001b[1;36m10\u001b[0m - Loss: \u001b[1;36m2.3685\u001b[0m\n"
      ]
     },
     "metadata": {},
     "output_type": "display_data"
    },
    {
     "data": {
      "text/html": [
       "<pre style=\"white-space:pre;overflow-x:auto;line-height:normal;font-family:Menlo,'DejaVu Sans Mono',consolas,'Courier New',monospace\">Inference:\n",
       "the at the and and mik siod thot dos you the hee hith thit the gort.\n",
       "\n",
       "OUCDONU\n",
       "TER\n",
       "TE\n",
       "DENUS:\n",
       "Where th\n",
       "</pre>\n"
      ],
      "text/plain": [
       "Inference:\n",
       "the at the and and mik siod thot dos you the hee hith thit the gort.\n",
       "\n",
       "OUCDONU\n",
       "TER\n",
       "TE\n",
       "DENUS:\n",
       "Where th\n"
      ]
     },
     "metadata": {},
     "output_type": "display_data"
    },
    {
     "data": {
      "text/html": [
       "<pre style=\"white-space:pre;overflow-x:auto;line-height:normal;font-family:Menlo,'DejaVu Sans Mono',consolas,'Courier New',monospace\">----------------------------------------------------------------------------------------------------\n",
       "</pre>\n"
      ],
      "text/plain": [
       "----------------------------------------------------------------------------------------------------\n"
      ]
     },
     "metadata": {},
     "output_type": "display_data"
    },
    {
     "data": {
      "text/html": [
       "<pre style=\"white-space:pre;overflow-x:auto;line-height:normal;font-family:Menlo,'DejaVu Sans Mono',consolas,'Courier New',monospace\">Epoch <span style=\"color: #008080; text-decoration-color: #008080; font-weight: bold\">2</span>/<span style=\"color: #008080; text-decoration-color: #008080; font-weight: bold\">10</span> - Loss: <span style=\"color: #008080; text-decoration-color: #008080; font-weight: bold\">2.2701</span>\n",
       "</pre>\n"
      ],
      "text/plain": [
       "Epoch \u001b[1;36m2\u001b[0m/\u001b[1;36m10\u001b[0m - Loss: \u001b[1;36m2.2701\u001b[0m\n"
      ]
     },
     "metadata": {},
     "output_type": "display_data"
    },
    {
     "data": {
      "text/html": [
       "<pre style=\"white-space:pre;overflow-x:auto;line-height:normal;font-family:Menlo,'DejaVu Sans Mono',consolas,'Courier New',monospace\">Inference:\n",
       "thile that and thaud the thom he core, that lond mare as that whith the dather, a proor aftet he thi\n",
       "</pre>\n"
      ],
      "text/plain": [
       "Inference:\n",
       "thile that and thaud the thom he core, that lond mare as that whith the dather, a proor aftet he thi\n"
      ]
     },
     "metadata": {},
     "output_type": "display_data"
    },
    {
     "data": {
      "text/html": [
       "<pre style=\"white-space:pre;overflow-x:auto;line-height:normal;font-family:Menlo,'DejaVu Sans Mono',consolas,'Courier New',monospace\">----------------------------------------------------------------------------------------------------\n",
       "</pre>\n"
      ],
      "text/plain": [
       "----------------------------------------------------------------------------------------------------\n"
      ]
     },
     "metadata": {},
     "output_type": "display_data"
    },
    {
     "data": {
      "text/html": [
       "<pre style=\"white-space:pre;overflow-x:auto;line-height:normal;font-family:Menlo,'DejaVu Sans Mono',consolas,'Courier New',monospace\">Epoch <span style=\"color: #008080; text-decoration-color: #008080; font-weight: bold\">2</span>/<span style=\"color: #008080; text-decoration-color: #008080; font-weight: bold\">10</span> - Loss: <span style=\"color: #008080; text-decoration-color: #008080; font-weight: bold\">2.1594</span>\n",
       "</pre>\n"
      ],
      "text/plain": [
       "Epoch \u001b[1;36m2\u001b[0m/\u001b[1;36m10\u001b[0m - Loss: \u001b[1;36m2.1594\u001b[0m\n"
      ]
     },
     "metadata": {},
     "output_type": "display_data"
    },
    {
     "data": {
      "text/html": [
       "<pre style=\"white-space:pre;overflow-x:auto;line-height:normal;font-family:Menlo,'DejaVu Sans Mono',consolas,'Courier New',monospace\">Inference:\n",
       "a srood the lider sir the well the kist me and werrens there, what the?\n",
       "\n",
       "MOMINUNENTAN:\n",
       "Ho me you kid\n",
       "</pre>\n"
      ],
      "text/plain": [
       "Inference:\n",
       "a srood the lider sir the well the kist me and werrens there, what the?\n",
       "\n",
       "MOMINUNENTAN:\n",
       "Ho me you kid\n"
      ]
     },
     "metadata": {},
     "output_type": "display_data"
    },
    {
     "data": {
      "text/html": [
       "<pre style=\"white-space:pre;overflow-x:auto;line-height:normal;font-family:Menlo,'DejaVu Sans Mono',consolas,'Courier New',monospace\">----------------------------------------------------------------------------------------------------\n",
       "</pre>\n"
      ],
      "text/plain": [
       "----------------------------------------------------------------------------------------------------\n"
      ]
     },
     "metadata": {},
     "output_type": "display_data"
    },
    {
     "data": {
      "text/html": [
       "<pre style=\"white-space:pre;overflow-x:auto;line-height:normal;font-family:Menlo,'DejaVu Sans Mono',consolas,'Courier New',monospace\">Epoch <span style=\"color: #008080; text-decoration-color: #008080; font-weight: bold\">2</span>/<span style=\"color: #008080; text-decoration-color: #008080; font-weight: bold\">10</span> - Loss: <span style=\"color: #008080; text-decoration-color: #008080; font-weight: bold\">2.1403</span>\n",
       "</pre>\n"
      ],
      "text/plain": [
       "Epoch \u001b[1;36m2\u001b[0m/\u001b[1;36m10\u001b[0m - Loss: \u001b[1;36m2.1403\u001b[0m\n"
      ]
     },
     "metadata": {},
     "output_type": "display_data"
    },
    {
     "data": {
      "text/html": [
       "<pre style=\"white-space:pre;overflow-x:auto;line-height:normal;font-family:Menlo,'DejaVu Sans Mono',consolas,'Courier New',monospace\">Inference:\n",
       "my your furd,\n",
       "I the being it stonke, and bear more the hith not a martess the I the farded, and the \n",
       "</pre>\n"
      ],
      "text/plain": [
       "Inference:\n",
       "my your furd,\n",
       "I the being it stonke, and bear more the hith not a martess the I the farded, and the \n"
      ]
     },
     "metadata": {},
     "output_type": "display_data"
    },
    {
     "data": {
      "text/html": [
       "<pre style=\"white-space:pre;overflow-x:auto;line-height:normal;font-family:Menlo,'DejaVu Sans Mono',consolas,'Courier New',monospace\">----------------------------------------------------------------------------------------------------\n",
       "</pre>\n"
      ],
      "text/plain": [
       "----------------------------------------------------------------------------------------------------\n"
      ]
     },
     "metadata": {},
     "output_type": "display_data"
    },
    {
     "data": {
      "text/html": [
       "<pre style=\"white-space:pre;overflow-x:auto;line-height:normal;font-family:Menlo,'DejaVu Sans Mono',consolas,'Courier New',monospace\">Epoch <span style=\"color: #008080; text-decoration-color: #008080; font-weight: bold\">2</span>/<span style=\"color: #008080; text-decoration-color: #008080; font-weight: bold\">10</span> - Average Loss: <span style=\"color: #008080; text-decoration-color: #008080; font-weight: bold\">2.2405</span>\n",
       "</pre>\n"
      ],
      "text/plain": [
       "Epoch \u001b[1;36m2\u001b[0m/\u001b[1;36m10\u001b[0m - Average Loss: \u001b[1;36m2.2405\u001b[0m\n"
      ]
     },
     "metadata": {},
     "output_type": "display_data"
    },
    {
     "data": {
      "text/html": [
       "<pre style=\"white-space:pre;overflow-x:auto;line-height:normal;font-family:Menlo,'DejaVu Sans Mono',consolas,'Courier New',monospace\">Epoch <span style=\"color: #008080; text-decoration-color: #008080; font-weight: bold\">3</span>/<span style=\"color: #008080; text-decoration-color: #008080; font-weight: bold\">10</span> - Loss: <span style=\"color: #008080; text-decoration-color: #008080; font-weight: bold\">2.0727</span>\n",
       "</pre>\n"
      ],
      "text/plain": [
       "Epoch \u001b[1;36m3\u001b[0m/\u001b[1;36m10\u001b[0m - Loss: \u001b[1;36m2.0727\u001b[0m\n"
      ]
     },
     "metadata": {},
     "output_type": "display_data"
    },
    {
     "data": {
      "text/html": [
       "<pre style=\"white-space:pre;overflow-x:auto;line-height:normal;font-family:Menlo,'DejaVu Sans Mono',consolas,'Courier New',monospace\">Inference:\n",
       "and suy my the mere the cate;\n",
       "The hill ming the leater see and the peet dear the searster that me an\n",
       "</pre>\n"
      ],
      "text/plain": [
       "Inference:\n",
       "and suy my the mere the cate;\n",
       "The hill ming the leater see and the peet dear the searster that me an\n"
      ]
     },
     "metadata": {},
     "output_type": "display_data"
    },
    {
     "data": {
      "text/html": [
       "<pre style=\"white-space:pre;overflow-x:auto;line-height:normal;font-family:Menlo,'DejaVu Sans Mono',consolas,'Courier New',monospace\">----------------------------------------------------------------------------------------------------\n",
       "</pre>\n"
      ],
      "text/plain": [
       "----------------------------------------------------------------------------------------------------\n"
      ]
     },
     "metadata": {},
     "output_type": "display_data"
    },
    {
     "data": {
      "text/html": [
       "<pre style=\"white-space:pre;overflow-x:auto;line-height:normal;font-family:Menlo,'DejaVu Sans Mono',consolas,'Courier New',monospace\">Epoch <span style=\"color: #008080; text-decoration-color: #008080; font-weight: bold\">3</span>/<span style=\"color: #008080; text-decoration-color: #008080; font-weight: bold\">10</span> - Loss: <span style=\"color: #008080; text-decoration-color: #008080; font-weight: bold\">1.9918</span>\n",
       "</pre>\n"
      ],
      "text/plain": [
       "Epoch \u001b[1;36m3\u001b[0m/\u001b[1;36m10\u001b[0m - Loss: \u001b[1;36m1.9918\u001b[0m\n"
      ]
     },
     "metadata": {},
     "output_type": "display_data"
    },
    {
     "data": {
      "text/html": [
       "<pre style=\"white-space:pre;overflow-x:auto;line-height:normal;font-family:Menlo,'DejaVu Sans Mono',consolas,'Courier New',monospace\">Inference:\n",
       "and more and mads and the in the custer for and manter of the say mand.\n",
       "\n",
       "KING VICHERLE:\n",
       "Whe come of \n",
       "</pre>\n"
      ],
      "text/plain": [
       "Inference:\n",
       "and more and mads and the in the custer for and manter of the say mand.\n",
       "\n",
       "KING VICHERLE:\n",
       "Whe come of \n"
      ]
     },
     "metadata": {},
     "output_type": "display_data"
    },
    {
     "data": {
      "text/html": [
       "<pre style=\"white-space:pre;overflow-x:auto;line-height:normal;font-family:Menlo,'DejaVu Sans Mono',consolas,'Courier New',monospace\">----------------------------------------------------------------------------------------------------\n",
       "</pre>\n"
      ],
      "text/plain": [
       "----------------------------------------------------------------------------------------------------\n"
      ]
     },
     "metadata": {},
     "output_type": "display_data"
    },
    {
     "data": {
      "text/html": [
       "<pre style=\"white-space:pre;overflow-x:auto;line-height:normal;font-family:Menlo,'DejaVu Sans Mono',consolas,'Courier New',monospace\">Epoch <span style=\"color: #008080; text-decoration-color: #008080; font-weight: bold\">3</span>/<span style=\"color: #008080; text-decoration-color: #008080; font-weight: bold\">10</span> - Loss: <span style=\"color: #008080; text-decoration-color: #008080; font-weight: bold\">1.9513</span>\n",
       "</pre>\n"
      ],
      "text/plain": [
       "Epoch \u001b[1;36m3\u001b[0m/\u001b[1;36m10\u001b[0m - Loss: \u001b[1;36m1.9513\u001b[0m\n"
      ]
     },
     "metadata": {},
     "output_type": "display_data"
    },
    {
     "data": {
      "text/html": [
       "<pre style=\"white-space:pre;overflow-x:auto;line-height:normal;font-family:Menlo,'DejaVu Sans Mono',consolas,'Courier New',monospace\">Inference:\n",
       "the love we come as hit not she word so me the with in the with rester the wath that he with not my \n",
       "</pre>\n"
      ],
      "text/plain": [
       "Inference:\n",
       "the love we come as hit not she word so me the with in the with rester the wath that he with not my \n"
      ]
     },
     "metadata": {},
     "output_type": "display_data"
    },
    {
     "data": {
      "text/html": [
       "<pre style=\"white-space:pre;overflow-x:auto;line-height:normal;font-family:Menlo,'DejaVu Sans Mono',consolas,'Courier New',monospace\">----------------------------------------------------------------------------------------------------\n",
       "</pre>\n"
      ],
      "text/plain": [
       "----------------------------------------------------------------------------------------------------\n"
      ]
     },
     "metadata": {},
     "output_type": "display_data"
    },
    {
     "data": {
      "text/html": [
       "<pre style=\"white-space:pre;overflow-x:auto;line-height:normal;font-family:Menlo,'DejaVu Sans Mono',consolas,'Courier New',monospace\">Epoch <span style=\"color: #008080; text-decoration-color: #008080; font-weight: bold\">3</span>/<span style=\"color: #008080; text-decoration-color: #008080; font-weight: bold\">10</span> - Loss: <span style=\"color: #008080; text-decoration-color: #008080; font-weight: bold\">1.9392</span>\n",
       "</pre>\n"
      ],
      "text/plain": [
       "Epoch \u001b[1;36m3\u001b[0m/\u001b[1;36m10\u001b[0m - Loss: \u001b[1;36m1.9392\u001b[0m\n"
      ]
     },
     "metadata": {},
     "output_type": "display_data"
    },
    {
     "data": {
      "text/html": [
       "<pre style=\"white-space:pre;overflow-x:auto;line-height:normal;font-family:Menlo,'DejaVu Sans Mono',consolas,'Courier New',monospace\">Inference:\n",
       "and be lither son the selven blows and my farther, where hound me preater\n",
       "And and her stould bear no\n",
       "</pre>\n"
      ],
      "text/plain": [
       "Inference:\n",
       "and be lither son the selven blows and my farther, where hound me preater\n",
       "And and her stould bear no\n"
      ]
     },
     "metadata": {},
     "output_type": "display_data"
    },
    {
     "data": {
      "text/html": [
       "<pre style=\"white-space:pre;overflow-x:auto;line-height:normal;font-family:Menlo,'DejaVu Sans Mono',consolas,'Courier New',monospace\">----------------------------------------------------------------------------------------------------\n",
       "</pre>\n"
      ],
      "text/plain": [
       "----------------------------------------------------------------------------------------------------\n"
      ]
     },
     "metadata": {},
     "output_type": "display_data"
    },
    {
     "data": {
      "text/html": [
       "<pre style=\"white-space:pre;overflow-x:auto;line-height:normal;font-family:Menlo,'DejaVu Sans Mono',consolas,'Courier New',monospace\">Epoch <span style=\"color: #008080; text-decoration-color: #008080; font-weight: bold\">3</span>/<span style=\"color: #008080; text-decoration-color: #008080; font-weight: bold\">10</span> - Loss: <span style=\"color: #008080; text-decoration-color: #008080; font-weight: bold\">1.8342</span>\n",
       "</pre>\n"
      ],
      "text/plain": [
       "Epoch \u001b[1;36m3\u001b[0m/\u001b[1;36m10\u001b[0m - Loss: \u001b[1;36m1.8342\u001b[0m\n"
      ]
     },
     "metadata": {},
     "output_type": "display_data"
    },
    {
     "data": {
      "text/html": [
       "<pre style=\"white-space:pre;overflow-x:auto;line-height:normal;font-family:Menlo,'DejaVu Sans Mono',consolas,'Courier New',monospace\">Inference:\n",
       "and string the best the rest and this heaved of there's my dore your love.\n",
       "\n",
       "ROMEO:\n",
       "Where their not i\n",
       "</pre>\n"
      ],
      "text/plain": [
       "Inference:\n",
       "and string the best the rest and this heaved of there's my dore your love.\n",
       "\n",
       "ROMEO:\n",
       "Where their not i\n"
      ]
     },
     "metadata": {},
     "output_type": "display_data"
    },
    {
     "data": {
      "text/html": [
       "<pre style=\"white-space:pre;overflow-x:auto;line-height:normal;font-family:Menlo,'DejaVu Sans Mono',consolas,'Courier New',monospace\">----------------------------------------------------------------------------------------------------\n",
       "</pre>\n"
      ],
      "text/plain": [
       "----------------------------------------------------------------------------------------------------\n"
      ]
     },
     "metadata": {},
     "output_type": "display_data"
    },
    {
     "data": {
      "text/html": [
       "<pre style=\"white-space:pre;overflow-x:auto;line-height:normal;font-family:Menlo,'DejaVu Sans Mono',consolas,'Courier New',monospace\">Epoch <span style=\"color: #008080; text-decoration-color: #008080; font-weight: bold\">3</span>/<span style=\"color: #008080; text-decoration-color: #008080; font-weight: bold\">10</span> - Average Loss: <span style=\"color: #008080; text-decoration-color: #008080; font-weight: bold\">1.9507</span>\n",
       "</pre>\n"
      ],
      "text/plain": [
       "Epoch \u001b[1;36m3\u001b[0m/\u001b[1;36m10\u001b[0m - Average Loss: \u001b[1;36m1.9507\u001b[0m\n"
      ]
     },
     "metadata": {},
     "output_type": "display_data"
    },
    {
     "data": {
      "text/html": [
       "<pre style=\"white-space:pre;overflow-x:auto;line-height:normal;font-family:Menlo,'DejaVu Sans Mono',consolas,'Courier New',monospace\">Epoch <span style=\"color: #008080; text-decoration-color: #008080; font-weight: bold\">4</span>/<span style=\"color: #008080; text-decoration-color: #008080; font-weight: bold\">10</span> - Loss: <span style=\"color: #008080; text-decoration-color: #008080; font-weight: bold\">1.8641</span>\n",
       "</pre>\n"
      ],
      "text/plain": [
       "Epoch \u001b[1;36m4\u001b[0m/\u001b[1;36m10\u001b[0m - Loss: \u001b[1;36m1.8641\u001b[0m\n"
      ]
     },
     "metadata": {},
     "output_type": "display_data"
    },
    {
     "data": {
      "text/html": [
       "<pre style=\"white-space:pre;overflow-x:auto;line-height:normal;font-family:Menlo,'DejaVu Sans Mono',consolas,'Courier New',monospace\">Inference:\n",
       "the have bear her for her monestited.\n",
       "\n",
       "Sercester:\n",
       "In hour some dissrestents the will the koues of th\n",
       "</pre>\n"
      ],
      "text/plain": [
       "Inference:\n",
       "the have bear her for her monestited.\n",
       "\n",
       "Sercester:\n",
       "In hour some dissrestents the will the koues of th\n"
      ]
     },
     "metadata": {},
     "output_type": "display_data"
    },
    {
     "data": {
      "text/html": [
       "<pre style=\"white-space:pre;overflow-x:auto;line-height:normal;font-family:Menlo,'DejaVu Sans Mono',consolas,'Courier New',monospace\">----------------------------------------------------------------------------------------------------\n",
       "</pre>\n"
      ],
      "text/plain": [
       "----------------------------------------------------------------------------------------------------\n"
      ]
     },
     "metadata": {},
     "output_type": "display_data"
    },
    {
     "data": {
      "text/html": [
       "<pre style=\"white-space:pre;overflow-x:auto;line-height:normal;font-family:Menlo,'DejaVu Sans Mono',consolas,'Courier New',monospace\">Epoch <span style=\"color: #008080; text-decoration-color: #008080; font-weight: bold\">4</span>/<span style=\"color: #008080; text-decoration-color: #008080; font-weight: bold\">10</span> - Loss: <span style=\"color: #008080; text-decoration-color: #008080; font-weight: bold\">1.8422</span>\n",
       "</pre>\n"
      ],
      "text/plain": [
       "Epoch \u001b[1;36m4\u001b[0m/\u001b[1;36m10\u001b[0m - Loss: \u001b[1;36m1.8422\u001b[0m\n"
      ]
     },
     "metadata": {},
     "output_type": "display_data"
    },
    {
     "data": {
      "text/html": [
       "<pre style=\"white-space:pre;overflow-x:auto;line-height:normal;font-family:Menlo,'DejaVu Sans Mono',consolas,'Courier New',monospace\">Inference:\n",
       "what do a preat the it the strous the bove man brook not unded me thee,\n",
       "Nor so place my not the pati\n",
       "</pre>\n"
      ],
      "text/plain": [
       "Inference:\n",
       "what do a preat the it the strous the bove man brook not unded me thee,\n",
       "Nor so place my not the pati\n"
      ]
     },
     "metadata": {},
     "output_type": "display_data"
    },
    {
     "data": {
      "text/html": [
       "<pre style=\"white-space:pre;overflow-x:auto;line-height:normal;font-family:Menlo,'DejaVu Sans Mono',consolas,'Courier New',monospace\">----------------------------------------------------------------------------------------------------\n",
       "</pre>\n"
      ],
      "text/plain": [
       "----------------------------------------------------------------------------------------------------\n"
      ]
     },
     "metadata": {},
     "output_type": "display_data"
    },
    {
     "data": {
      "text/html": [
       "<pre style=\"white-space:pre;overflow-x:auto;line-height:normal;font-family:Menlo,'DejaVu Sans Mono',consolas,'Courier New',monospace\">Epoch <span style=\"color: #008080; text-decoration-color: #008080; font-weight: bold\">4</span>/<span style=\"color: #008080; text-decoration-color: #008080; font-weight: bold\">10</span> - Loss: <span style=\"color: #008080; text-decoration-color: #008080; font-weight: bold\">1.8183</span>\n",
       "</pre>\n"
      ],
      "text/plain": [
       "Epoch \u001b[1;36m4\u001b[0m/\u001b[1;36m10\u001b[0m - Loss: \u001b[1;36m1.8183\u001b[0m\n"
      ]
     },
     "metadata": {},
     "output_type": "display_data"
    },
    {
     "data": {
      "text/html": [
       "<pre style=\"white-space:pre;overflow-x:auto;line-height:normal;font-family:Menlo,'DejaVu Sans Mono',consolas,'Courier New',monospace\">Inference:\n",
       "my seed the kear the tran to the them the broughter of the day not of the most and the dounters, the\n",
       "</pre>\n"
      ],
      "text/plain": [
       "Inference:\n",
       "my seed the kear the tran to the them the broughter of the day not of the most and the dounters, the\n"
      ]
     },
     "metadata": {},
     "output_type": "display_data"
    },
    {
     "data": {
      "text/html": [
       "<pre style=\"white-space:pre;overflow-x:auto;line-height:normal;font-family:Menlo,'DejaVu Sans Mono',consolas,'Courier New',monospace\">----------------------------------------------------------------------------------------------------\n",
       "</pre>\n"
      ],
      "text/plain": [
       "----------------------------------------------------------------------------------------------------\n"
      ]
     },
     "metadata": {},
     "output_type": "display_data"
    },
    {
     "data": {
      "text/html": [
       "<pre style=\"white-space:pre;overflow-x:auto;line-height:normal;font-family:Menlo,'DejaVu Sans Mono',consolas,'Courier New',monospace\">Epoch <span style=\"color: #008080; text-decoration-color: #008080; font-weight: bold\">4</span>/<span style=\"color: #008080; text-decoration-color: #008080; font-weight: bold\">10</span> - Loss: <span style=\"color: #008080; text-decoration-color: #008080; font-weight: bold\">1.7263</span>\n",
       "</pre>\n"
      ],
      "text/plain": [
       "Epoch \u001b[1;36m4\u001b[0m/\u001b[1;36m10\u001b[0m - Loss: \u001b[1;36m1.7263\u001b[0m\n"
      ]
     },
     "metadata": {},
     "output_type": "display_data"
    },
    {
     "data": {
      "text/html": [
       "<pre style=\"white-space:pre;overflow-x:auto;line-height:normal;font-family:Menlo,'DejaVu Sans Mono',consolas,'Courier New',monospace\">Inference:\n",
       "the varlast her speak.\n",
       "\n",
       "KING EDWARD III:\n",
       "You may that the master of the in the poor man\n",
       "That selven \n",
       "</pre>\n"
      ],
      "text/plain": [
       "Inference:\n",
       "the varlast her speak.\n",
       "\n",
       "KING EDWARD III:\n",
       "You may that the master of the in the poor man\n",
       "That selven \n"
      ]
     },
     "metadata": {},
     "output_type": "display_data"
    },
    {
     "data": {
      "text/html": [
       "<pre style=\"white-space:pre;overflow-x:auto;line-height:normal;font-family:Menlo,'DejaVu Sans Mono',consolas,'Courier New',monospace\">----------------------------------------------------------------------------------------------------\n",
       "</pre>\n"
      ],
      "text/plain": [
       "----------------------------------------------------------------------------------------------------\n"
      ]
     },
     "metadata": {},
     "output_type": "display_data"
    },
    {
     "data": {
      "text/html": [
       "<pre style=\"white-space:pre;overflow-x:auto;line-height:normal;font-family:Menlo,'DejaVu Sans Mono',consolas,'Courier New',monospace\">Epoch <span style=\"color: #008080; text-decoration-color: #008080; font-weight: bold\">4</span>/<span style=\"color: #008080; text-decoration-color: #008080; font-weight: bold\">10</span> - Loss: <span style=\"color: #008080; text-decoration-color: #008080; font-weight: bold\">1.7460</span>\n",
       "</pre>\n"
      ],
      "text/plain": [
       "Epoch \u001b[1;36m4\u001b[0m/\u001b[1;36m10\u001b[0m - Loss: \u001b[1;36m1.7460\u001b[0m\n"
      ]
     },
     "metadata": {},
     "output_type": "display_data"
    },
    {
     "data": {
      "text/html": [
       "<pre style=\"white-space:pre;overflow-x:auto;line-height:normal;font-family:Menlo,'DejaVu Sans Mono',consolas,'Courier New',monospace\">Inference:\n",
       "the prise near hath all the will prose as the bight to a poor to my long,\n",
       "The canter to me the grown\n",
       "</pre>\n"
      ],
      "text/plain": [
       "Inference:\n",
       "the prise near hath all the will prose as the bight to a poor to my long,\n",
       "The canter to me the grown\n"
      ]
     },
     "metadata": {},
     "output_type": "display_data"
    },
    {
     "data": {
      "text/html": [
       "<pre style=\"white-space:pre;overflow-x:auto;line-height:normal;font-family:Menlo,'DejaVu Sans Mono',consolas,'Courier New',monospace\">----------------------------------------------------------------------------------------------------\n",
       "</pre>\n"
      ],
      "text/plain": [
       "----------------------------------------------------------------------------------------------------\n"
      ]
     },
     "metadata": {},
     "output_type": "display_data"
    },
    {
     "data": {
      "text/html": [
       "<pre style=\"white-space:pre;overflow-x:auto;line-height:normal;font-family:Menlo,'DejaVu Sans Mono',consolas,'Courier New',monospace\">Epoch <span style=\"color: #008080; text-decoration-color: #008080; font-weight: bold\">4</span>/<span style=\"color: #008080; text-decoration-color: #008080; font-weight: bold\">10</span> - Average Loss: <span style=\"color: #008080; text-decoration-color: #008080; font-weight: bold\">1.7897</span>\n",
       "</pre>\n"
      ],
      "text/plain": [
       "Epoch \u001b[1;36m4\u001b[0m/\u001b[1;36m10\u001b[0m - Average Loss: \u001b[1;36m1.7897\u001b[0m\n"
      ]
     },
     "metadata": {},
     "output_type": "display_data"
    },
    {
     "data": {
      "text/html": [
       "<pre style=\"white-space:pre;overflow-x:auto;line-height:normal;font-family:Menlo,'DejaVu Sans Mono',consolas,'Courier New',monospace\">Epoch <span style=\"color: #008080; text-decoration-color: #008080; font-weight: bold\">5</span>/<span style=\"color: #008080; text-decoration-color: #008080; font-weight: bold\">10</span> - Loss: <span style=\"color: #008080; text-decoration-color: #008080; font-weight: bold\">1.7169</span>\n",
       "</pre>\n"
      ],
      "text/plain": [
       "Epoch \u001b[1;36m5\u001b[0m/\u001b[1;36m10\u001b[0m - Loss: \u001b[1;36m1.7169\u001b[0m\n"
      ]
     },
     "metadata": {},
     "output_type": "display_data"
    },
    {
     "data": {
      "text/html": [
       "<pre style=\"white-space:pre;overflow-x:auto;line-height:normal;font-family:Menlo,'DejaVu Sans Mono',consolas,'Courier New',monospace\">Inference:\n",
       "which be the from the lets of the like the king and the colds,\n",
       "And pray, the not the prople the say \n",
       "</pre>\n"
      ],
      "text/plain": [
       "Inference:\n",
       "which be the from the lets of the like the king and the colds,\n",
       "And pray, the not the prople the say \n"
      ]
     },
     "metadata": {},
     "output_type": "display_data"
    },
    {
     "data": {
      "text/html": [
       "<pre style=\"white-space:pre;overflow-x:auto;line-height:normal;font-family:Menlo,'DejaVu Sans Mono',consolas,'Courier New',monospace\">----------------------------------------------------------------------------------------------------\n",
       "</pre>\n"
      ],
      "text/plain": [
       "----------------------------------------------------------------------------------------------------\n"
      ]
     },
     "metadata": {},
     "output_type": "display_data"
    },
    {
     "data": {
      "text/html": [
       "<pre style=\"white-space:pre;overflow-x:auto;line-height:normal;font-family:Menlo,'DejaVu Sans Mono',consolas,'Courier New',monospace\">Epoch <span style=\"color: #008080; text-decoration-color: #008080; font-weight: bold\">5</span>/<span style=\"color: #008080; text-decoration-color: #008080; font-weight: bold\">10</span> - Loss: <span style=\"color: #008080; text-decoration-color: #008080; font-weight: bold\">1.7667</span>\n",
       "</pre>\n"
      ],
      "text/plain": [
       "Epoch \u001b[1;36m5\u001b[0m/\u001b[1;36m10\u001b[0m - Loss: \u001b[1;36m1.7667\u001b[0m\n"
      ]
     },
     "metadata": {},
     "output_type": "display_data"
    },
    {
     "data": {
      "text/html": [
       "<pre style=\"white-space:pre;overflow-x:auto;line-height:normal;font-family:Menlo,'DejaVu Sans Mono',consolas,'Courier New',monospace\">Inference:\n",
       "I be was the lies you and the dead I were the served in the haster, the trate that here me the past \n",
       "</pre>\n"
      ],
      "text/plain": [
       "Inference:\n",
       "I be was the lies you and the dead I were the served in the haster, the trate that here me the past \n"
      ]
     },
     "metadata": {},
     "output_type": "display_data"
    },
    {
     "data": {
      "text/html": [
       "<pre style=\"white-space:pre;overflow-x:auto;line-height:normal;font-family:Menlo,'DejaVu Sans Mono',consolas,'Courier New',monospace\">----------------------------------------------------------------------------------------------------\n",
       "</pre>\n"
      ],
      "text/plain": [
       "----------------------------------------------------------------------------------------------------\n"
      ]
     },
     "metadata": {},
     "output_type": "display_data"
    },
    {
     "data": {
      "text/html": [
       "<pre style=\"white-space:pre;overflow-x:auto;line-height:normal;font-family:Menlo,'DejaVu Sans Mono',consolas,'Courier New',monospace\">Epoch <span style=\"color: #008080; text-decoration-color: #008080; font-weight: bold\">5</span>/<span style=\"color: #008080; text-decoration-color: #008080; font-weight: bold\">10</span> - Loss: <span style=\"color: #008080; text-decoration-color: #008080; font-weight: bold\">1.6915</span>\n",
       "</pre>\n"
      ],
      "text/plain": [
       "Epoch \u001b[1;36m5\u001b[0m/\u001b[1;36m10\u001b[0m - Loss: \u001b[1;36m1.6915\u001b[0m\n"
      ]
     },
     "metadata": {},
     "output_type": "display_data"
    },
    {
     "data": {
      "text/html": [
       "<pre style=\"white-space:pre;overflow-x:auto;line-height:normal;font-family:Menlo,'DejaVu Sans Mono',consolas,'Courier New',monospace\">Inference:\n",
       "for this death.\n",
       "\n",
       "KING RICHARD III:\n",
       "I would the body may we make to this mane thee to me the mother b\n",
       "</pre>\n"
      ],
      "text/plain": [
       "Inference:\n",
       "for this death.\n",
       "\n",
       "KING RICHARD III:\n",
       "I would the body may we make to this mane thee to me the mother b\n"
      ]
     },
     "metadata": {},
     "output_type": "display_data"
    },
    {
     "data": {
      "text/html": [
       "<pre style=\"white-space:pre;overflow-x:auto;line-height:normal;font-family:Menlo,'DejaVu Sans Mono',consolas,'Courier New',monospace\">----------------------------------------------------------------------------------------------------\n",
       "</pre>\n"
      ],
      "text/plain": [
       "----------------------------------------------------------------------------------------------------\n"
      ]
     },
     "metadata": {},
     "output_type": "display_data"
    },
    {
     "data": {
      "text/html": [
       "<pre style=\"white-space:pre;overflow-x:auto;line-height:normal;font-family:Menlo,'DejaVu Sans Mono',consolas,'Courier New',monospace\">Epoch <span style=\"color: #008080; text-decoration-color: #008080; font-weight: bold\">5</span>/<span style=\"color: #008080; text-decoration-color: #008080; font-weight: bold\">10</span> - Loss: <span style=\"color: #008080; text-decoration-color: #008080; font-weight: bold\">1.6550</span>\n",
       "</pre>\n"
      ],
      "text/plain": [
       "Epoch \u001b[1;36m5\u001b[0m/\u001b[1;36m10\u001b[0m - Loss: \u001b[1;36m1.6550\u001b[0m\n"
      ]
     },
     "metadata": {},
     "output_type": "display_data"
    },
    {
     "data": {
      "text/html": [
       "<pre style=\"white-space:pre;overflow-x:auto;line-height:normal;font-family:Menlo,'DejaVu Sans Mono',consolas,'Courier New',monospace\">Inference:\n",
       "and it the more that\n",
       "Stand thee to like as the change and mine can am it me to the bear your man\n",
       "Tha\n",
       "</pre>\n"
      ],
      "text/plain": [
       "Inference:\n",
       "and it the more that\n",
       "Stand thee to like as the change and mine can am it me to the bear your man\n",
       "Tha\n"
      ]
     },
     "metadata": {},
     "output_type": "display_data"
    },
    {
     "data": {
      "text/html": [
       "<pre style=\"white-space:pre;overflow-x:auto;line-height:normal;font-family:Menlo,'DejaVu Sans Mono',consolas,'Courier New',monospace\">----------------------------------------------------------------------------------------------------\n",
       "</pre>\n"
      ],
      "text/plain": [
       "----------------------------------------------------------------------------------------------------\n"
      ]
     },
     "metadata": {},
     "output_type": "display_data"
    },
    {
     "data": {
      "text/html": [
       "<pre style=\"white-space:pre;overflow-x:auto;line-height:normal;font-family:Menlo,'DejaVu Sans Mono',consolas,'Courier New',monospace\">Epoch <span style=\"color: #008080; text-decoration-color: #008080; font-weight: bold\">5</span>/<span style=\"color: #008080; text-decoration-color: #008080; font-weight: bold\">10</span> - Loss: <span style=\"color: #008080; text-decoration-color: #008080; font-weight: bold\">1.6261</span>\n",
       "</pre>\n"
      ],
      "text/plain": [
       "Epoch \u001b[1;36m5\u001b[0m/\u001b[1;36m10\u001b[0m - Loss: \u001b[1;36m1.6261\u001b[0m\n"
      ]
     },
     "metadata": {},
     "output_type": "display_data"
    },
    {
     "data": {
      "text/html": [
       "<pre style=\"white-space:pre;overflow-x:auto;line-height:normal;font-family:Menlo,'DejaVu Sans Mono',consolas,'Courier New',monospace\">Inference:\n",
       "what fair enemies.\n",
       "\n",
       "GRUTUS:\n",
       "And that this day for they are a prisience.\n",
       "\n",
       "LADY ANNE:\n",
       "A what I am so p\n",
       "</pre>\n"
      ],
      "text/plain": [
       "Inference:\n",
       "what fair enemies.\n",
       "\n",
       "GRUTUS:\n",
       "And that this day for they are a prisience.\n",
       "\n",
       "LADY ANNE:\n",
       "A what I am so p\n"
      ]
     },
     "metadata": {},
     "output_type": "display_data"
    },
    {
     "data": {
      "text/html": [
       "<pre style=\"white-space:pre;overflow-x:auto;line-height:normal;font-family:Menlo,'DejaVu Sans Mono',consolas,'Courier New',monospace\">----------------------------------------------------------------------------------------------------\n",
       "</pre>\n"
      ],
      "text/plain": [
       "----------------------------------------------------------------------------------------------------\n"
      ]
     },
     "metadata": {},
     "output_type": "display_data"
    },
    {
     "data": {
      "text/html": [
       "<pre style=\"white-space:pre;overflow-x:auto;line-height:normal;font-family:Menlo,'DejaVu Sans Mono',consolas,'Courier New',monospace\">Epoch <span style=\"color: #008080; text-decoration-color: #008080; font-weight: bold\">5</span>/<span style=\"color: #008080; text-decoration-color: #008080; font-weight: bold\">10</span> - Average Loss: <span style=\"color: #008080; text-decoration-color: #008080; font-weight: bold\">1.6858</span>\n",
       "</pre>\n"
      ],
      "text/plain": [
       "Epoch \u001b[1;36m5\u001b[0m/\u001b[1;36m10\u001b[0m - Average Loss: \u001b[1;36m1.6858\u001b[0m\n"
      ]
     },
     "metadata": {},
     "output_type": "display_data"
    },
    {
     "data": {
      "text/html": [
       "<pre style=\"white-space:pre;overflow-x:auto;line-height:normal;font-family:Menlo,'DejaVu Sans Mono',consolas,'Courier New',monospace\">Epoch <span style=\"color: #008080; text-decoration-color: #008080; font-weight: bold\">6</span>/<span style=\"color: #008080; text-decoration-color: #008080; font-weight: bold\">10</span> - Loss: <span style=\"color: #008080; text-decoration-color: #008080; font-weight: bold\">1.6357</span>\n",
       "</pre>\n"
      ],
      "text/plain": [
       "Epoch \u001b[1;36m6\u001b[0m/\u001b[1;36m10\u001b[0m - Loss: \u001b[1;36m1.6357\u001b[0m\n"
      ]
     },
     "metadata": {},
     "output_type": "display_data"
    },
    {
     "data": {
      "text/html": [
       "<pre style=\"white-space:pre;overflow-x:auto;line-height:normal;font-family:Menlo,'DejaVu Sans Mono',consolas,'Courier New',monospace\">Inference:\n",
       "but my peace;\n",
       "He are a garted shall be the dure, do more to bid a can than me to see the seers to th\n",
       "</pre>\n"
      ],
      "text/plain": [
       "Inference:\n",
       "but my peace;\n",
       "He are a garted shall be the dure, do more to bid a can than me to see the seers to th\n"
      ]
     },
     "metadata": {},
     "output_type": "display_data"
    },
    {
     "data": {
      "text/html": [
       "<pre style=\"white-space:pre;overflow-x:auto;line-height:normal;font-family:Menlo,'DejaVu Sans Mono',consolas,'Courier New',monospace\">----------------------------------------------------------------------------------------------------\n",
       "</pre>\n"
      ],
      "text/plain": [
       "----------------------------------------------------------------------------------------------------\n"
      ]
     },
     "metadata": {},
     "output_type": "display_data"
    },
    {
     "data": {
      "text/html": [
       "<pre style=\"white-space:pre;overflow-x:auto;line-height:normal;font-family:Menlo,'DejaVu Sans Mono',consolas,'Courier New',monospace\">Epoch <span style=\"color: #008080; text-decoration-color: #008080; font-weight: bold\">6</span>/<span style=\"color: #008080; text-decoration-color: #008080; font-weight: bold\">10</span> - Loss: <span style=\"color: #008080; text-decoration-color: #008080; font-weight: bold\">1.5763</span>\n",
       "</pre>\n"
      ],
      "text/plain": [
       "Epoch \u001b[1;36m6\u001b[0m/\u001b[1;36m10\u001b[0m - Loss: \u001b[1;36m1.5763\u001b[0m\n"
      ]
     },
     "metadata": {},
     "output_type": "display_data"
    },
    {
     "data": {
      "text/html": [
       "<pre style=\"white-space:pre;overflow-x:auto;line-height:normal;font-family:Menlo,'DejaVu Sans Mono',consolas,'Courier New',monospace\">Inference:\n",
       "sir, the kast thou wast we have them and the father\n",
       "That this begen the counting of his land of ence\n",
       "</pre>\n"
      ],
      "text/plain": [
       "Inference:\n",
       "sir, the kast thou wast we have them and the father\n",
       "That this begen the counting of his land of ence\n"
      ]
     },
     "metadata": {},
     "output_type": "display_data"
    },
    {
     "data": {
      "text/html": [
       "<pre style=\"white-space:pre;overflow-x:auto;line-height:normal;font-family:Menlo,'DejaVu Sans Mono',consolas,'Courier New',monospace\">----------------------------------------------------------------------------------------------------\n",
       "</pre>\n"
      ],
      "text/plain": [
       "----------------------------------------------------------------------------------------------------\n"
      ]
     },
     "metadata": {},
     "output_type": "display_data"
    },
    {
     "data": {
      "text/html": [
       "<pre style=\"white-space:pre;overflow-x:auto;line-height:normal;font-family:Menlo,'DejaVu Sans Mono',consolas,'Courier New',monospace\">Epoch <span style=\"color: #008080; text-decoration-color: #008080; font-weight: bold\">6</span>/<span style=\"color: #008080; text-decoration-color: #008080; font-weight: bold\">10</span> - Loss: <span style=\"color: #008080; text-decoration-color: #008080; font-weight: bold\">1.6235</span>\n",
       "</pre>\n"
      ],
      "text/plain": [
       "Epoch \u001b[1;36m6\u001b[0m/\u001b[1;36m10\u001b[0m - Loss: \u001b[1;36m1.6235\u001b[0m\n"
      ]
     },
     "metadata": {},
     "output_type": "display_data"
    },
    {
     "data": {
      "text/html": [
       "<pre style=\"white-space:pre;overflow-x:auto;line-height:normal;font-family:Menlo,'DejaVu Sans Mono',consolas,'Courier New',monospace\">Inference:\n",
       "I such this with me to the present her shall not\n",
       "Be princes to be not that we for the douse of any a\n",
       "</pre>\n"
      ],
      "text/plain": [
       "Inference:\n",
       "I such this with me to the present her shall not\n",
       "Be princes to be not that we for the douse of any a\n"
      ]
     },
     "metadata": {},
     "output_type": "display_data"
    },
    {
     "data": {
      "text/html": [
       "<pre style=\"white-space:pre;overflow-x:auto;line-height:normal;font-family:Menlo,'DejaVu Sans Mono',consolas,'Courier New',monospace\">----------------------------------------------------------------------------------------------------\n",
       "</pre>\n"
      ],
      "text/plain": [
       "----------------------------------------------------------------------------------------------------\n"
      ]
     },
     "metadata": {},
     "output_type": "display_data"
    },
    {
     "data": {
      "text/html": [
       "<pre style=\"white-space:pre;overflow-x:auto;line-height:normal;font-family:Menlo,'DejaVu Sans Mono',consolas,'Courier New',monospace\">Epoch <span style=\"color: #008080; text-decoration-color: #008080; font-weight: bold\">6</span>/<span style=\"color: #008080; text-decoration-color: #008080; font-weight: bold\">10</span> - Loss: <span style=\"color: #008080; text-decoration-color: #008080; font-weight: bold\">1.6120</span>\n",
       "</pre>\n"
      ],
      "text/plain": [
       "Epoch \u001b[1;36m6\u001b[0m/\u001b[1;36m10\u001b[0m - Loss: \u001b[1;36m1.6120\u001b[0m\n"
      ]
     },
     "metadata": {},
     "output_type": "display_data"
    },
    {
     "data": {
      "text/html": [
       "<pre style=\"white-space:pre;overflow-x:auto;line-height:normal;font-family:Menlo,'DejaVu Sans Mono',consolas,'Courier New',monospace\">Inference:\n",
       "thou comest the all of his goodly hope\n",
       "That you not in the man him of that we should to great to the\n",
       "</pre>\n"
      ],
      "text/plain": [
       "Inference:\n",
       "thou comest the all of his goodly hope\n",
       "That you not in the man him of that we should to great to the\n"
      ]
     },
     "metadata": {},
     "output_type": "display_data"
    },
    {
     "data": {
      "text/html": [
       "<pre style=\"white-space:pre;overflow-x:auto;line-height:normal;font-family:Menlo,'DejaVu Sans Mono',consolas,'Courier New',monospace\">----------------------------------------------------------------------------------------------------\n",
       "</pre>\n"
      ],
      "text/plain": [
       "----------------------------------------------------------------------------------------------------\n"
      ]
     },
     "metadata": {},
     "output_type": "display_data"
    },
    {
     "data": {
      "text/html": [
       "<pre style=\"white-space:pre;overflow-x:auto;line-height:normal;font-family:Menlo,'DejaVu Sans Mono',consolas,'Courier New',monospace\">Epoch <span style=\"color: #008080; text-decoration-color: #008080; font-weight: bold\">6</span>/<span style=\"color: #008080; text-decoration-color: #008080; font-weight: bold\">10</span> - Loss: <span style=\"color: #008080; text-decoration-color: #008080; font-weight: bold\">1.6166</span>\n",
       "</pre>\n"
      ],
      "text/plain": [
       "Epoch \u001b[1;36m6\u001b[0m/\u001b[1;36m10\u001b[0m - Loss: \u001b[1;36m1.6166\u001b[0m\n"
      ]
     },
     "metadata": {},
     "output_type": "display_data"
    },
    {
     "data": {
      "text/html": [
       "<pre style=\"white-space:pre;overflow-x:auto;line-height:normal;font-family:Menlo,'DejaVu Sans Mono',consolas,'Courier New',monospace\">Inference:\n",
       "and so thou thee that I take him the news,\n",
       "The reeps of redeent to be unto me the commssission, let \n",
       "</pre>\n"
      ],
      "text/plain": [
       "Inference:\n",
       "and so thou thee that I take him the news,\n",
       "The reeps of redeent to be unto me the commssission, let \n"
      ]
     },
     "metadata": {},
     "output_type": "display_data"
    },
    {
     "data": {
      "text/html": [
       "<pre style=\"white-space:pre;overflow-x:auto;line-height:normal;font-family:Menlo,'DejaVu Sans Mono',consolas,'Courier New',monospace\">----------------------------------------------------------------------------------------------------\n",
       "</pre>\n"
      ],
      "text/plain": [
       "----------------------------------------------------------------------------------------------------\n"
      ]
     },
     "metadata": {},
     "output_type": "display_data"
    },
    {
     "data": {
      "text/html": [
       "<pre style=\"white-space:pre;overflow-x:auto;line-height:normal;font-family:Menlo,'DejaVu Sans Mono',consolas,'Courier New',monospace\">Epoch <span style=\"color: #008080; text-decoration-color: #008080; font-weight: bold\">6</span>/<span style=\"color: #008080; text-decoration-color: #008080; font-weight: bold\">10</span> - Average Loss: <span style=\"color: #008080; text-decoration-color: #008080; font-weight: bold\">1.6094</span>\n",
       "</pre>\n"
      ],
      "text/plain": [
       "Epoch \u001b[1;36m6\u001b[0m/\u001b[1;36m10\u001b[0m - Average Loss: \u001b[1;36m1.6094\u001b[0m\n"
      ]
     },
     "metadata": {},
     "output_type": "display_data"
    },
    {
     "data": {
      "text/html": [
       "<pre style=\"white-space:pre;overflow-x:auto;line-height:normal;font-family:Menlo,'DejaVu Sans Mono',consolas,'Courier New',monospace\">Epoch <span style=\"color: #008080; text-decoration-color: #008080; font-weight: bold\">7</span>/<span style=\"color: #008080; text-decoration-color: #008080; font-weight: bold\">10</span> - Loss: <span style=\"color: #008080; text-decoration-color: #008080; font-weight: bold\">1.5707</span>\n",
       "</pre>\n"
      ],
      "text/plain": [
       "Epoch \u001b[1;36m7\u001b[0m/\u001b[1;36m10\u001b[0m - Loss: \u001b[1;36m1.5707\u001b[0m\n"
      ]
     },
     "metadata": {},
     "output_type": "display_data"
    },
    {
     "data": {
      "text/html": [
       "<pre style=\"white-space:pre;overflow-x:auto;line-height:normal;font-family:Menlo,'DejaVu Sans Mono',consolas,'Courier New',monospace\">Inference:\n",
       "when the provest, the marge the man a father and stand in my sorrow who deviled the hands from him t\n",
       "</pre>\n"
      ],
      "text/plain": [
       "Inference:\n",
       "when the provest, the marge the man a father and stand in my sorrow who deviled the hands from him t\n"
      ]
     },
     "metadata": {},
     "output_type": "display_data"
    },
    {
     "data": {
      "text/html": [
       "<pre style=\"white-space:pre;overflow-x:auto;line-height:normal;font-family:Menlo,'DejaVu Sans Mono',consolas,'Courier New',monospace\">----------------------------------------------------------------------------------------------------\n",
       "</pre>\n"
      ],
      "text/plain": [
       "----------------------------------------------------------------------------------------------------\n"
      ]
     },
     "metadata": {},
     "output_type": "display_data"
    },
    {
     "data": {
      "text/html": [
       "<pre style=\"white-space:pre;overflow-x:auto;line-height:normal;font-family:Menlo,'DejaVu Sans Mono',consolas,'Courier New',monospace\">Epoch <span style=\"color: #008080; text-decoration-color: #008080; font-weight: bold\">7</span>/<span style=\"color: #008080; text-decoration-color: #008080; font-weight: bold\">10</span> - Loss: <span style=\"color: #008080; text-decoration-color: #008080; font-weight: bold\">1.5397</span>\n",
       "</pre>\n"
      ],
      "text/plain": [
       "Epoch \u001b[1;36m7\u001b[0m/\u001b[1;36m10\u001b[0m - Loss: \u001b[1;36m1.5397\u001b[0m\n"
      ]
     },
     "metadata": {},
     "output_type": "display_data"
    },
    {
     "data": {
      "text/html": [
       "<pre style=\"white-space:pre;overflow-x:auto;line-height:normal;font-family:Menlo,'DejaVu Sans Mono',consolas,'Courier New',monospace\">Inference:\n",
       "then shall not be prayers his prince,\n",
       "Thou hast in the thing of some of the comanallion of the man t\n",
       "</pre>\n"
      ],
      "text/plain": [
       "Inference:\n",
       "then shall not be prayers his prince,\n",
       "Thou hast in the thing of some of the comanallion of the man t\n"
      ]
     },
     "metadata": {},
     "output_type": "display_data"
    },
    {
     "data": {
      "text/html": [
       "<pre style=\"white-space:pre;overflow-x:auto;line-height:normal;font-family:Menlo,'DejaVu Sans Mono',consolas,'Courier New',monospace\">----------------------------------------------------------------------------------------------------\n",
       "</pre>\n"
      ],
      "text/plain": [
       "----------------------------------------------------------------------------------------------------\n"
      ]
     },
     "metadata": {},
     "output_type": "display_data"
    },
    {
     "data": {
      "text/html": [
       "<pre style=\"white-space:pre;overflow-x:auto;line-height:normal;font-family:Menlo,'DejaVu Sans Mono',consolas,'Courier New',monospace\"><span style=\"color: #800000; text-decoration-color: #800000\">╭─────────────────────────────── </span><span style=\"color: #800000; text-decoration-color: #800000; font-weight: bold\">Traceback </span><span style=\"color: #bf7f7f; text-decoration-color: #bf7f7f; font-weight: bold\">(most recent call last)</span><span style=\"color: #800000; text-decoration-color: #800000\"> ────────────────────────────────╮</span>\n",
       "<span style=\"color: #800000; text-decoration-color: #800000\">│</span> in <span style=\"color: #00ff00; text-decoration-color: #00ff00\">&lt;module&gt;</span>:<span style=\"color: #0000ff; text-decoration-color: #0000ff\">16</span>                                                                                   <span style=\"color: #800000; text-decoration-color: #800000\">│</span>\n",
       "<span style=\"color: #800000; text-decoration-color: #800000\">│</span>                                                                                                  <span style=\"color: #800000; text-decoration-color: #800000\">│</span>\n",
       "<span style=\"color: #800000; text-decoration-color: #800000\">│</span>   <span style=\"color: #7f7f7f; text-decoration-color: #7f7f7f\">13 </span><span style=\"color: #7f7f7f; text-decoration-color: #7f7f7f\">│   │   </span>                                                                                    <span style=\"color: #800000; text-decoration-color: #800000\">│</span>\n",
       "<span style=\"color: #800000; text-decoration-color: #800000\">│</span>   <span style=\"color: #7f7f7f; text-decoration-color: #7f7f7f\">14 </span><span style=\"color: #7f7f7f; text-decoration-color: #7f7f7f\">│   │   </span>optimizer.zero_grad()                                                               <span style=\"color: #800000; text-decoration-color: #800000\">│</span>\n",
       "<span style=\"color: #800000; text-decoration-color: #800000\">│</span>   <span style=\"color: #7f7f7f; text-decoration-color: #7f7f7f\">15 </span><span style=\"color: #7f7f7f; text-decoration-color: #7f7f7f\">│   │   </span>                                                                                    <span style=\"color: #800000; text-decoration-color: #800000\">│</span>\n",
       "<span style=\"color: #800000; text-decoration-color: #800000\">│</span> <span style=\"color: #800000; text-decoration-color: #800000\">❱ </span>16 <span style=\"color: #7f7f7f; text-decoration-color: #7f7f7f\">│   │   </span>logits, hidden = model(xb, hidden)                                                  <span style=\"color: #800000; text-decoration-color: #800000\">│</span>\n",
       "<span style=\"color: #800000; text-decoration-color: #800000\">│</span>   <span style=\"color: #7f7f7f; text-decoration-color: #7f7f7f\">17 </span><span style=\"color: #7f7f7f; text-decoration-color: #7f7f7f\">│   │   </span>                                                                                    <span style=\"color: #800000; text-decoration-color: #800000\">│</span>\n",
       "<span style=\"color: #800000; text-decoration-color: #800000\">│</span>   <span style=\"color: #7f7f7f; text-decoration-color: #7f7f7f\">18 </span><span style=\"color: #7f7f7f; text-decoration-color: #7f7f7f\">│   │   </span><span style=\"color: #0000ff; text-decoration-color: #0000ff\">if</span> hidden <span style=\"color: #ff00ff; text-decoration-color: #ff00ff\">is</span> <span style=\"color: #ff00ff; text-decoration-color: #ff00ff\">not</span> <span style=\"color: #0000ff; text-decoration-color: #0000ff\">None</span>:                                                              <span style=\"color: #800000; text-decoration-color: #800000\">│</span>\n",
       "<span style=\"color: #800000; text-decoration-color: #800000\">│</span>   <span style=\"color: #7f7f7f; text-decoration-color: #7f7f7f\">19 </span><span style=\"color: #7f7f7f; text-decoration-color: #7f7f7f\">│   │   │   </span><span style=\"color: #0000ff; text-decoration-color: #0000ff\">for</span> h <span style=\"color: #ff00ff; text-decoration-color: #ff00ff\">in</span> hidden:                                                                <span style=\"color: #800000; text-decoration-color: #800000\">│</span>\n",
       "<span style=\"color: #800000; text-decoration-color: #800000\">│</span>                                                                                                  <span style=\"color: #800000; text-decoration-color: #800000\">│</span>\n",
       "<span style=\"color: #800000; text-decoration-color: #800000\">│</span> <span style=\"color: #808000; text-decoration-color: #808000\">c:\\Users\\Lakshya </span>                                                                                <span style=\"color: #800000; text-decoration-color: #800000\">│</span>\n",
       "<span style=\"color: #800000; text-decoration-color: #800000\">│</span> <span style=\"color: #808000; text-decoration-color: #808000\">Agarwal\\AppData\\Local\\Programs\\Python\\Python310\\lib\\site-packages\\torch\\nn\\modules\\module.py</span>:<span style=\"color: #0000ff; text-decoration-color: #0000ff\">150</span> <span style=\"color: #800000; text-decoration-color: #800000\">│</span>\n",
       "<span style=\"color: #800000; text-decoration-color: #800000\">│</span> <span style=\"color: #0000ff; text-decoration-color: #0000ff\">1</span> in <span style=\"color: #00ff00; text-decoration-color: #00ff00\">_call_impl</span>                                                                                  <span style=\"color: #800000; text-decoration-color: #800000\">│</span>\n",
       "<span style=\"color: #800000; text-decoration-color: #800000\">│</span>                                                                                                  <span style=\"color: #800000; text-decoration-color: #800000\">│</span>\n",
       "<span style=\"color: #800000; text-decoration-color: #800000\">│</span>   <span style=\"color: #7f7f7f; text-decoration-color: #7f7f7f\">1498 </span><span style=\"color: #7f7f7f; text-decoration-color: #7f7f7f\">│   │   </span><span style=\"color: #0000ff; text-decoration-color: #0000ff\">if</span> <span style=\"color: #ff00ff; text-decoration-color: #ff00ff\">not</span> (<span style=\"color: #00ffff; text-decoration-color: #00ffff\">self</span>._backward_hooks <span style=\"color: #ff00ff; text-decoration-color: #ff00ff\">or</span> <span style=\"color: #00ffff; text-decoration-color: #00ffff\">self</span>._backward_pre_hooks <span style=\"color: #ff00ff; text-decoration-color: #ff00ff\">or</span> <span style=\"color: #00ffff; text-decoration-color: #00ffff\">self</span>._forward_hooks   <span style=\"color: #800000; text-decoration-color: #800000\">│</span>\n",
       "<span style=\"color: #800000; text-decoration-color: #800000\">│</span>   <span style=\"color: #7f7f7f; text-decoration-color: #7f7f7f\">1499 </span><span style=\"color: #7f7f7f; text-decoration-color: #7f7f7f\">│   │   │   │   </span><span style=\"color: #ff00ff; text-decoration-color: #ff00ff\">or</span> _global_backward_pre_hooks <span style=\"color: #ff00ff; text-decoration-color: #ff00ff\">or</span> _global_backward_hooks                   <span style=\"color: #800000; text-decoration-color: #800000\">│</span>\n",
       "<span style=\"color: #800000; text-decoration-color: #800000\">│</span>   <span style=\"color: #7f7f7f; text-decoration-color: #7f7f7f\">1500 </span><span style=\"color: #7f7f7f; text-decoration-color: #7f7f7f\">│   │   │   │   </span><span style=\"color: #ff00ff; text-decoration-color: #ff00ff\">or</span> _global_forward_hooks <span style=\"color: #ff00ff; text-decoration-color: #ff00ff\">or</span> _global_forward_pre_hooks):                   <span style=\"color: #800000; text-decoration-color: #800000\">│</span>\n",
       "<span style=\"color: #800000; text-decoration-color: #800000\">│</span> <span style=\"color: #800000; text-decoration-color: #800000\">❱ </span>1501 <span style=\"color: #7f7f7f; text-decoration-color: #7f7f7f\">│   │   │   </span><span style=\"color: #0000ff; text-decoration-color: #0000ff\">return</span> forward_call(*args, **kwargs)                                          <span style=\"color: #800000; text-decoration-color: #800000\">│</span>\n",
       "<span style=\"color: #800000; text-decoration-color: #800000\">│</span>   <span style=\"color: #7f7f7f; text-decoration-color: #7f7f7f\">1502 </span><span style=\"color: #7f7f7f; text-decoration-color: #7f7f7f\">│   │   </span><span style=\"color: #7f7f7f; text-decoration-color: #7f7f7f\"># Do not call functions when jit is used</span>                                          <span style=\"color: #800000; text-decoration-color: #800000\">│</span>\n",
       "<span style=\"color: #800000; text-decoration-color: #800000\">│</span>   <span style=\"color: #7f7f7f; text-decoration-color: #7f7f7f\">1503 </span><span style=\"color: #7f7f7f; text-decoration-color: #7f7f7f\">│   │   </span>full_backward_hooks, non_full_backward_hooks = [], []                             <span style=\"color: #800000; text-decoration-color: #800000\">│</span>\n",
       "<span style=\"color: #800000; text-decoration-color: #800000\">│</span>   <span style=\"color: #7f7f7f; text-decoration-color: #7f7f7f\">1504 </span><span style=\"color: #7f7f7f; text-decoration-color: #7f7f7f\">│   │   </span>backward_pre_hooks = []                                                           <span style=\"color: #800000; text-decoration-color: #800000\">│</span>\n",
       "<span style=\"color: #800000; text-decoration-color: #800000\">│</span>                                                                                                  <span style=\"color: #800000; text-decoration-color: #800000\">│</span>\n",
       "<span style=\"color: #800000; text-decoration-color: #800000\">│</span> in <span style=\"color: #00ff00; text-decoration-color: #00ff00\">forward</span>:<span style=\"color: #0000ff; text-decoration-color: #0000ff\">44</span>                                                                                    <span style=\"color: #800000; text-decoration-color: #800000\">│</span>\n",
       "<span style=\"color: #800000; text-decoration-color: #800000\">│</span>                                                                                                  <span style=\"color: #800000; text-decoration-color: #800000\">│</span>\n",
       "<span style=\"color: #800000; text-decoration-color: #800000\">│</span>   <span style=\"color: #7f7f7f; text-decoration-color: #7f7f7f\">41 </span><span style=\"color: #7f7f7f; text-decoration-color: #7f7f7f\">│   </span>) -&gt; Tuple[torch.Tensor, Tuple[torch.Tensor, torch.Tensor]]:                            <span style=\"color: #800000; text-decoration-color: #800000\">│</span>\n",
       "<span style=\"color: #800000; text-decoration-color: #800000\">│</span>   <span style=\"color: #7f7f7f; text-decoration-color: #7f7f7f\">42 </span><span style=\"color: #7f7f7f; text-decoration-color: #7f7f7f\">│   │   </span>x = <span style=\"color: #00ffff; text-decoration-color: #00ffff\">self</span>.embedding(x)                                                               <span style=\"color: #800000; text-decoration-color: #800000\">│</span>\n",
       "<span style=\"color: #800000; text-decoration-color: #800000\">│</span>   <span style=\"color: #7f7f7f; text-decoration-color: #7f7f7f\">43 </span><span style=\"color: #7f7f7f; text-decoration-color: #7f7f7f\">│   │   </span>x, hidden = <span style=\"color: #00ffff; text-decoration-color: #00ffff\">self</span>.lstm(x, hidden)                                                    <span style=\"color: #800000; text-decoration-color: #800000\">│</span>\n",
       "<span style=\"color: #800000; text-decoration-color: #800000\">│</span> <span style=\"color: #800000; text-decoration-color: #800000\">❱ </span>44 <span style=\"color: #7f7f7f; text-decoration-color: #7f7f7f\">│   │   </span>x = <span style=\"color: #00ffff; text-decoration-color: #00ffff\">self</span>.linear(x)                                                                  <span style=\"color: #800000; text-decoration-color: #800000\">│</span>\n",
       "<span style=\"color: #800000; text-decoration-color: #800000\">│</span>   <span style=\"color: #7f7f7f; text-decoration-color: #7f7f7f\">45 </span><span style=\"color: #7f7f7f; text-decoration-color: #7f7f7f\">│   │   </span>                                                                                    <span style=\"color: #800000; text-decoration-color: #800000\">│</span>\n",
       "<span style=\"color: #800000; text-decoration-color: #800000\">│</span>   <span style=\"color: #7f7f7f; text-decoration-color: #7f7f7f\">46 </span><span style=\"color: #7f7f7f; text-decoration-color: #7f7f7f\">│   │   </span><span style=\"color: #0000ff; text-decoration-color: #0000ff\">return</span> x, hidden                                                                    <span style=\"color: #800000; text-decoration-color: #800000\">│</span>\n",
       "<span style=\"color: #800000; text-decoration-color: #800000\">│</span>   <span style=\"color: #7f7f7f; text-decoration-color: #7f7f7f\">47 </span>                                                                                            <span style=\"color: #800000; text-decoration-color: #800000\">│</span>\n",
       "<span style=\"color: #800000; text-decoration-color: #800000\">│</span>                                                                                                  <span style=\"color: #800000; text-decoration-color: #800000\">│</span>\n",
       "<span style=\"color: #800000; text-decoration-color: #800000\">│</span> <span style=\"color: #808000; text-decoration-color: #808000\">c:\\Users\\Lakshya </span>                                                                                <span style=\"color: #800000; text-decoration-color: #800000\">│</span>\n",
       "<span style=\"color: #800000; text-decoration-color: #800000\">│</span> <span style=\"color: #808000; text-decoration-color: #808000\">Agarwal\\AppData\\Local\\Programs\\Python\\Python310\\lib\\site-packages\\torch\\nn\\modules\\module.py</span>:<span style=\"color: #0000ff; text-decoration-color: #0000ff\">150</span> <span style=\"color: #800000; text-decoration-color: #800000\">│</span>\n",
       "<span style=\"color: #800000; text-decoration-color: #800000\">│</span> <span style=\"color: #0000ff; text-decoration-color: #0000ff\">1</span> in <span style=\"color: #00ff00; text-decoration-color: #00ff00\">_call_impl</span>                                                                                  <span style=\"color: #800000; text-decoration-color: #800000\">│</span>\n",
       "<span style=\"color: #800000; text-decoration-color: #800000\">│</span>                                                                                                  <span style=\"color: #800000; text-decoration-color: #800000\">│</span>\n",
       "<span style=\"color: #800000; text-decoration-color: #800000\">│</span>   <span style=\"color: #7f7f7f; text-decoration-color: #7f7f7f\">1498 </span><span style=\"color: #7f7f7f; text-decoration-color: #7f7f7f\">│   │   </span><span style=\"color: #0000ff; text-decoration-color: #0000ff\">if</span> <span style=\"color: #ff00ff; text-decoration-color: #ff00ff\">not</span> (<span style=\"color: #00ffff; text-decoration-color: #00ffff\">self</span>._backward_hooks <span style=\"color: #ff00ff; text-decoration-color: #ff00ff\">or</span> <span style=\"color: #00ffff; text-decoration-color: #00ffff\">self</span>._backward_pre_hooks <span style=\"color: #ff00ff; text-decoration-color: #ff00ff\">or</span> <span style=\"color: #00ffff; text-decoration-color: #00ffff\">self</span>._forward_hooks   <span style=\"color: #800000; text-decoration-color: #800000\">│</span>\n",
       "<span style=\"color: #800000; text-decoration-color: #800000\">│</span>   <span style=\"color: #7f7f7f; text-decoration-color: #7f7f7f\">1499 </span><span style=\"color: #7f7f7f; text-decoration-color: #7f7f7f\">│   │   │   │   </span><span style=\"color: #ff00ff; text-decoration-color: #ff00ff\">or</span> _global_backward_pre_hooks <span style=\"color: #ff00ff; text-decoration-color: #ff00ff\">or</span> _global_backward_hooks                   <span style=\"color: #800000; text-decoration-color: #800000\">│</span>\n",
       "<span style=\"color: #800000; text-decoration-color: #800000\">│</span>   <span style=\"color: #7f7f7f; text-decoration-color: #7f7f7f\">1500 </span><span style=\"color: #7f7f7f; text-decoration-color: #7f7f7f\">│   │   │   │   </span><span style=\"color: #ff00ff; text-decoration-color: #ff00ff\">or</span> _global_forward_hooks <span style=\"color: #ff00ff; text-decoration-color: #ff00ff\">or</span> _global_forward_pre_hooks):                   <span style=\"color: #800000; text-decoration-color: #800000\">│</span>\n",
       "<span style=\"color: #800000; text-decoration-color: #800000\">│</span> <span style=\"color: #800000; text-decoration-color: #800000\">❱ </span>1501 <span style=\"color: #7f7f7f; text-decoration-color: #7f7f7f\">│   │   │   </span><span style=\"color: #0000ff; text-decoration-color: #0000ff\">return</span> forward_call(*args, **kwargs)                                          <span style=\"color: #800000; text-decoration-color: #800000\">│</span>\n",
       "<span style=\"color: #800000; text-decoration-color: #800000\">│</span>   <span style=\"color: #7f7f7f; text-decoration-color: #7f7f7f\">1502 </span><span style=\"color: #7f7f7f; text-decoration-color: #7f7f7f\">│   │   </span><span style=\"color: #7f7f7f; text-decoration-color: #7f7f7f\"># Do not call functions when jit is used</span>                                          <span style=\"color: #800000; text-decoration-color: #800000\">│</span>\n",
       "<span style=\"color: #800000; text-decoration-color: #800000\">│</span>   <span style=\"color: #7f7f7f; text-decoration-color: #7f7f7f\">1503 </span><span style=\"color: #7f7f7f; text-decoration-color: #7f7f7f\">│   │   </span>full_backward_hooks, non_full_backward_hooks = [], []                             <span style=\"color: #800000; text-decoration-color: #800000\">│</span>\n",
       "<span style=\"color: #800000; text-decoration-color: #800000\">│</span>   <span style=\"color: #7f7f7f; text-decoration-color: #7f7f7f\">1504 </span><span style=\"color: #7f7f7f; text-decoration-color: #7f7f7f\">│   │   </span>backward_pre_hooks = []                                                           <span style=\"color: #800000; text-decoration-color: #800000\">│</span>\n",
       "<span style=\"color: #800000; text-decoration-color: #800000\">│</span>                                                                                                  <span style=\"color: #800000; text-decoration-color: #800000\">│</span>\n",
       "<span style=\"color: #800000; text-decoration-color: #800000\">│</span> in <span style=\"color: #00ff00; text-decoration-color: #00ff00\">forward</span>:<span style=\"color: #0000ff; text-decoration-color: #0000ff\">11</span>                                                                                    <span style=\"color: #800000; text-decoration-color: #800000\">│</span>\n",
       "<span style=\"color: #800000; text-decoration-color: #800000\">│</span>                                                                                                  <span style=\"color: #800000; text-decoration-color: #800000\">│</span>\n",
       "<span style=\"color: #800000; text-decoration-color: #800000\">│</span>   <span style=\"color: #7f7f7f; text-decoration-color: #7f7f7f\"> 8 </span><span style=\"color: #7f7f7f; text-decoration-color: #7f7f7f\">│   │   </span>nn.init.xavier_uniform_(<span style=\"color: #00ffff; text-decoration-color: #00ffff\">self</span>.W)                                                     <span style=\"color: #800000; text-decoration-color: #800000\">│</span>\n",
       "<span style=\"color: #800000; text-decoration-color: #800000\">│</span>   <span style=\"color: #7f7f7f; text-decoration-color: #7f7f7f\"> 9 </span><span style=\"color: #7f7f7f; text-decoration-color: #7f7f7f\">│   </span>                                                                                        <span style=\"color: #800000; text-decoration-color: #800000\">│</span>\n",
       "<span style=\"color: #800000; text-decoration-color: #800000\">│</span>   <span style=\"color: #7f7f7f; text-decoration-color: #7f7f7f\">10 </span><span style=\"color: #7f7f7f; text-decoration-color: #7f7f7f\">│   </span><span style=\"color: #0000ff; text-decoration-color: #0000ff\">def</span> <span style=\"color: #00ff00; text-decoration-color: #00ff00\">forward</span>(<span style=\"color: #00ffff; text-decoration-color: #00ffff\">self</span>, x: torch.Tensor) -&gt; torch.Tensor:                                     <span style=\"color: #800000; text-decoration-color: #800000\">│</span>\n",
       "<span style=\"color: #800000; text-decoration-color: #800000\">│</span> <span style=\"color: #800000; text-decoration-color: #800000\">❱ </span>11 <span style=\"color: #7f7f7f; text-decoration-color: #7f7f7f\">│   │   </span><span style=\"color: #0000ff; text-decoration-color: #0000ff\">return</span> torch.matmul(x, <span style=\"color: #00ffff; text-decoration-color: #00ffff\">self</span>.W) + <span style=\"color: #00ffff; text-decoration-color: #00ffff\">self</span>.b                                             <span style=\"color: #800000; text-decoration-color: #800000\">│</span>\n",
       "<span style=\"color: #800000; text-decoration-color: #800000\">│</span>   <span style=\"color: #7f7f7f; text-decoration-color: #7f7f7f\">12 </span>                                                                                            <span style=\"color: #800000; text-decoration-color: #800000\">│</span>\n",
       "<span style=\"color: #800000; text-decoration-color: #800000\">│</span>                                                                                                  <span style=\"color: #800000; text-decoration-color: #800000\">│</span>\n",
       "<span style=\"color: #800000; text-decoration-color: #800000\">│</span> <span style=\"color: #808000; text-decoration-color: #808000\">c:\\Users\\Lakshya </span>                                                                                <span style=\"color: #800000; text-decoration-color: #800000\">│</span>\n",
       "<span style=\"color: #800000; text-decoration-color: #800000\">│</span> <span style=\"color: #808000; text-decoration-color: #808000\">Agarwal\\AppData\\Local\\Programs\\Python\\Python310\\lib\\site-packages\\torch\\fx\\traceback.py</span>:<span style=\"color: #0000ff; text-decoration-color: #0000ff\">41</span> in    <span style=\"color: #800000; text-decoration-color: #800000\">│</span>\n",
       "<span style=\"color: #800000; text-decoration-color: #800000\">│</span> <span style=\"color: #00ff00; text-decoration-color: #00ff00\">format_stack</span>                                                                                     <span style=\"color: #800000; text-decoration-color: #800000\">│</span>\n",
       "<span style=\"color: #800000; text-decoration-color: #800000\">│</span>                                                                                                  <span style=\"color: #800000; text-decoration-color: #800000\">│</span>\n",
       "<span style=\"color: #800000; text-decoration-color: #800000\">│</span>   <span style=\"color: #7f7f7f; text-decoration-color: #7f7f7f\">38 </span><span style=\"color: #7f7f7f; text-decoration-color: #7f7f7f\">│   │   </span><span style=\"color: #0000ff; text-decoration-color: #0000ff\">return</span> [current_meta.get(<span style=\"color: #808000; text-decoration-color: #808000\">\"stack_trace\"</span>, <span style=\"color: #808000; text-decoration-color: #808000\">\"\"</span>)]                                        <span style=\"color: #800000; text-decoration-color: #800000\">│</span>\n",
       "<span style=\"color: #800000; text-decoration-color: #800000\">│</span>   <span style=\"color: #7f7f7f; text-decoration-color: #7f7f7f\">39 </span><span style=\"color: #7f7f7f; text-decoration-color: #7f7f7f\">│   </span><span style=\"color: #0000ff; text-decoration-color: #0000ff\">else</span>:                                                                                   <span style=\"color: #800000; text-decoration-color: #800000\">│</span>\n",
       "<span style=\"color: #800000; text-decoration-color: #800000\">│</span>   <span style=\"color: #7f7f7f; text-decoration-color: #7f7f7f\">40 </span><span style=\"color: #7f7f7f; text-decoration-color: #7f7f7f\">│   │   </span><span style=\"color: #7f7f7f; text-decoration-color: #7f7f7f\"># fallback to traceback.format_stack()</span>                                              <span style=\"color: #800000; text-decoration-color: #800000\">│</span>\n",
       "<span style=\"color: #800000; text-decoration-color: #800000\">│</span> <span style=\"color: #800000; text-decoration-color: #800000\">❱ </span>41 <span style=\"color: #7f7f7f; text-decoration-color: #7f7f7f\">│   │   </span><span style=\"color: #0000ff; text-decoration-color: #0000ff\">return</span> traceback.format_list(traceback.extract_stack()[:-<span style=\"color: #0000ff; text-decoration-color: #0000ff\">1</span>])                        <span style=\"color: #800000; text-decoration-color: #800000\">│</span>\n",
       "<span style=\"color: #800000; text-decoration-color: #800000\">│</span>   <span style=\"color: #7f7f7f; text-decoration-color: #7f7f7f\">42 </span>                                                                                            <span style=\"color: #800000; text-decoration-color: #800000\">│</span>\n",
       "<span style=\"color: #800000; text-decoration-color: #800000\">│</span>   <span style=\"color: #7f7f7f; text-decoration-color: #7f7f7f\">43 </span>                                                                                            <span style=\"color: #800000; text-decoration-color: #800000\">│</span>\n",
       "<span style=\"color: #800000; text-decoration-color: #800000\">│</span>   <span style=\"color: #7f7f7f; text-decoration-color: #7f7f7f\">44 </span><span style=\"color: #ff00ff; text-decoration-color: #ff00ff; font-weight: bold\">@compatibility</span>(is_backward_compatible=<span style=\"color: #0000ff; text-decoration-color: #0000ff\">False</span>)                                                <span style=\"color: #800000; text-decoration-color: #800000\">│</span>\n",
       "<span style=\"color: #800000; text-decoration-color: #800000\">│</span>                                                                                                  <span style=\"color: #800000; text-decoration-color: #800000\">│</span>\n",
       "<span style=\"color: #800000; text-decoration-color: #800000\">│</span> <span style=\"color: #808000; text-decoration-color: #808000\">c:\\Users\\Lakshya Agarwal\\AppData\\Local\\Programs\\Python\\Python310\\lib\\traceback.py</span>:<span style=\"color: #0000ff; text-decoration-color: #0000ff\">227</span> in         <span style=\"color: #800000; text-decoration-color: #800000\">│</span>\n",
       "<span style=\"color: #800000; text-decoration-color: #800000\">│</span> <span style=\"color: #00ff00; text-decoration-color: #00ff00\">extract_stack</span>                                                                                    <span style=\"color: #800000; text-decoration-color: #800000\">│</span>\n",
       "<span style=\"color: #800000; text-decoration-color: #800000\">│</span>                                                                                                  <span style=\"color: #800000; text-decoration-color: #800000\">│</span>\n",
       "<span style=\"color: #800000; text-decoration-color: #800000\">│</span>   <span style=\"color: #7f7f7f; text-decoration-color: #7f7f7f\">224 </span><span style=\"color: #bfbf7f; text-decoration-color: #bfbf7f\">│   </span><span style=\"color: #808000; text-decoration-color: #808000\">\"\"\"</span>                                                                                    <span style=\"color: #800000; text-decoration-color: #800000\">│</span>\n",
       "<span style=\"color: #800000; text-decoration-color: #800000\">│</span>   <span style=\"color: #7f7f7f; text-decoration-color: #7f7f7f\">225 </span><span style=\"color: #7f7f7f; text-decoration-color: #7f7f7f\">│   </span><span style=\"color: #0000ff; text-decoration-color: #0000ff\">if</span> f <span style=\"color: #ff00ff; text-decoration-color: #ff00ff\">is</span> <span style=\"color: #0000ff; text-decoration-color: #0000ff\">None</span>:                                                                          <span style=\"color: #800000; text-decoration-color: #800000\">│</span>\n",
       "<span style=\"color: #800000; text-decoration-color: #800000\">│</span>   <span style=\"color: #7f7f7f; text-decoration-color: #7f7f7f\">226 </span><span style=\"color: #7f7f7f; text-decoration-color: #7f7f7f\">│   │   </span>f = sys._getframe().f_back                                                         <span style=\"color: #800000; text-decoration-color: #800000\">│</span>\n",
       "<span style=\"color: #800000; text-decoration-color: #800000\">│</span> <span style=\"color: #800000; text-decoration-color: #800000\">❱ </span>227 <span style=\"color: #7f7f7f; text-decoration-color: #7f7f7f\">│   </span>stack = StackSummary.extract(walk_stack(f), limit=limit)                               <span style=\"color: #800000; text-decoration-color: #800000\">│</span>\n",
       "<span style=\"color: #800000; text-decoration-color: #800000\">│</span>   <span style=\"color: #7f7f7f; text-decoration-color: #7f7f7f\">228 </span><span style=\"color: #7f7f7f; text-decoration-color: #7f7f7f\">│   </span>stack.reverse()                                                                        <span style=\"color: #800000; text-decoration-color: #800000\">│</span>\n",
       "<span style=\"color: #800000; text-decoration-color: #800000\">│</span>   <span style=\"color: #7f7f7f; text-decoration-color: #7f7f7f\">229 </span><span style=\"color: #7f7f7f; text-decoration-color: #7f7f7f\">│   </span><span style=\"color: #0000ff; text-decoration-color: #0000ff\">return</span> stack                                                                           <span style=\"color: #800000; text-decoration-color: #800000\">│</span>\n",
       "<span style=\"color: #800000; text-decoration-color: #800000\">│</span>   <span style=\"color: #7f7f7f; text-decoration-color: #7f7f7f\">230 </span>                                                                                           <span style=\"color: #800000; text-decoration-color: #800000\">│</span>\n",
       "<span style=\"color: #800000; text-decoration-color: #800000\">│</span>                                                                                                  <span style=\"color: #800000; text-decoration-color: #800000\">│</span>\n",
       "<span style=\"color: #800000; text-decoration-color: #800000\">│</span> <span style=\"color: #808000; text-decoration-color: #808000\">c:\\Users\\Lakshya Agarwal\\AppData\\Local\\Programs\\Python\\Python310\\lib\\traceback.py</span>:<span style=\"color: #0000ff; text-decoration-color: #0000ff\">379</span> in <span style=\"color: #00ff00; text-decoration-color: #00ff00\">extract</span> <span style=\"color: #800000; text-decoration-color: #800000\">│</span>\n",
       "<span style=\"color: #800000; text-decoration-color: #800000\">│</span>                                                                                                  <span style=\"color: #800000; text-decoration-color: #800000\">│</span>\n",
       "<span style=\"color: #800000; text-decoration-color: #800000\">│</span>   <span style=\"color: #7f7f7f; text-decoration-color: #7f7f7f\">376 </span><span style=\"color: #7f7f7f; text-decoration-color: #7f7f7f\">│   │   │   </span>result.append(FrameSummary(                                                    <span style=\"color: #800000; text-decoration-color: #800000\">│</span>\n",
       "<span style=\"color: #800000; text-decoration-color: #800000\">│</span>   <span style=\"color: #7f7f7f; text-decoration-color: #7f7f7f\">377 </span><span style=\"color: #7f7f7f; text-decoration-color: #7f7f7f\">│   │   │   │   </span>filename, lineno, name, lookup_line=<span style=\"color: #0000ff; text-decoration-color: #0000ff\">False</span>, <span style=\"color: #00ffff; text-decoration-color: #00ffff\">locals</span>=f_locals))               <span style=\"color: #800000; text-decoration-color: #800000\">│</span>\n",
       "<span style=\"color: #800000; text-decoration-color: #800000\">│</span>   <span style=\"color: #7f7f7f; text-decoration-color: #7f7f7f\">378 </span><span style=\"color: #7f7f7f; text-decoration-color: #7f7f7f\">│   │   </span><span style=\"color: #0000ff; text-decoration-color: #0000ff\">for</span> filename <span style=\"color: #ff00ff; text-decoration-color: #ff00ff\">in</span> fnames:                                                            <span style=\"color: #800000; text-decoration-color: #800000\">│</span>\n",
       "<span style=\"color: #800000; text-decoration-color: #800000\">│</span> <span style=\"color: #800000; text-decoration-color: #800000\">❱ </span>379 <span style=\"color: #7f7f7f; text-decoration-color: #7f7f7f\">│   │   │   </span>linecache.checkcache(filename)                                                 <span style=\"color: #800000; text-decoration-color: #800000\">│</span>\n",
       "<span style=\"color: #800000; text-decoration-color: #800000\">│</span>   <span style=\"color: #7f7f7f; text-decoration-color: #7f7f7f\">380 </span><span style=\"color: #7f7f7f; text-decoration-color: #7f7f7f\">│   │   </span><span style=\"color: #7f7f7f; text-decoration-color: #7f7f7f\"># If immediate lookup was desired, trigger lookups now.</span>                            <span style=\"color: #800000; text-decoration-color: #800000\">│</span>\n",
       "<span style=\"color: #800000; text-decoration-color: #800000\">│</span>   <span style=\"color: #7f7f7f; text-decoration-color: #7f7f7f\">381 </span><span style=\"color: #7f7f7f; text-decoration-color: #7f7f7f\">│   │   </span><span style=\"color: #0000ff; text-decoration-color: #0000ff\">if</span> lookup_lines:                                                                   <span style=\"color: #800000; text-decoration-color: #800000\">│</span>\n",
       "<span style=\"color: #800000; text-decoration-color: #800000\">│</span>   <span style=\"color: #7f7f7f; text-decoration-color: #7f7f7f\">382 </span><span style=\"color: #7f7f7f; text-decoration-color: #7f7f7f\">│   │   │   </span><span style=\"color: #0000ff; text-decoration-color: #0000ff\">for</span> f <span style=\"color: #ff00ff; text-decoration-color: #ff00ff\">in</span> result:                                                               <span style=\"color: #800000; text-decoration-color: #800000\">│</span>\n",
       "<span style=\"color: #800000; text-decoration-color: #800000\">│</span>                                                                                                  <span style=\"color: #800000; text-decoration-color: #800000\">│</span>\n",
       "<span style=\"color: #800000; text-decoration-color: #800000\">│</span> <span style=\"color: #808000; text-decoration-color: #808000\">c:\\Users\\Lakshya Agarwal\\AppData\\Local\\Programs\\Python\\Python310\\lib\\linecache.py</span>:<span style=\"color: #0000ff; text-decoration-color: #0000ff\">72</span> in          <span style=\"color: #800000; text-decoration-color: #800000\">│</span>\n",
       "<span style=\"color: #800000; text-decoration-color: #800000\">│</span> <span style=\"color: #00ff00; text-decoration-color: #00ff00\">checkcache</span>                                                                                       <span style=\"color: #800000; text-decoration-color: #800000\">│</span>\n",
       "<span style=\"color: #800000; text-decoration-color: #800000\">│</span>                                                                                                  <span style=\"color: #800000; text-decoration-color: #800000\">│</span>\n",
       "<span style=\"color: #800000; text-decoration-color: #800000\">│</span>   <span style=\"color: #7f7f7f; text-decoration-color: #7f7f7f\"> 69 </span><span style=\"color: #7f7f7f; text-decoration-color: #7f7f7f\">│   │   </span><span style=\"color: #0000ff; text-decoration-color: #0000ff\">if</span> mtime <span style=\"color: #ff00ff; text-decoration-color: #ff00ff\">is</span> <span style=\"color: #0000ff; text-decoration-color: #0000ff\">None</span>:                                                                  <span style=\"color: #800000; text-decoration-color: #800000\">│</span>\n",
       "<span style=\"color: #800000; text-decoration-color: #800000\">│</span>   <span style=\"color: #7f7f7f; text-decoration-color: #7f7f7f\"> 70 </span><span style=\"color: #7f7f7f; text-decoration-color: #7f7f7f\">│   │   │   </span><span style=\"color: #0000ff; text-decoration-color: #0000ff\">continue</span>   <span style=\"color: #7f7f7f; text-decoration-color: #7f7f7f\"># no-op for files loaded via a __loader__</span>                           <span style=\"color: #800000; text-decoration-color: #800000\">│</span>\n",
       "<span style=\"color: #800000; text-decoration-color: #800000\">│</span>   <span style=\"color: #7f7f7f; text-decoration-color: #7f7f7f\"> 71 </span><span style=\"color: #7f7f7f; text-decoration-color: #7f7f7f\">│   │   </span><span style=\"color: #0000ff; text-decoration-color: #0000ff\">try</span>:                                                                               <span style=\"color: #800000; text-decoration-color: #800000\">│</span>\n",
       "<span style=\"color: #800000; text-decoration-color: #800000\">│</span> <span style=\"color: #800000; text-decoration-color: #800000\">❱ </span> 72 <span style=\"color: #7f7f7f; text-decoration-color: #7f7f7f\">│   │   │   </span>stat = os.stat(fullname)                                                       <span style=\"color: #800000; text-decoration-color: #800000\">│</span>\n",
       "<span style=\"color: #800000; text-decoration-color: #800000\">│</span>   <span style=\"color: #7f7f7f; text-decoration-color: #7f7f7f\"> 73 </span><span style=\"color: #7f7f7f; text-decoration-color: #7f7f7f\">│   │   </span><span style=\"color: #0000ff; text-decoration-color: #0000ff\">except</span> <span style=\"color: #00ffff; text-decoration-color: #00ffff\">OSError</span>:                                                                    <span style=\"color: #800000; text-decoration-color: #800000\">│</span>\n",
       "<span style=\"color: #800000; text-decoration-color: #800000\">│</span>   <span style=\"color: #7f7f7f; text-decoration-color: #7f7f7f\"> 74 </span><span style=\"color: #7f7f7f; text-decoration-color: #7f7f7f\">│   │   │   </span>cache.pop(filename, <span style=\"color: #0000ff; text-decoration-color: #0000ff\">None</span>)                                                      <span style=\"color: #800000; text-decoration-color: #800000\">│</span>\n",
       "<span style=\"color: #800000; text-decoration-color: #800000\">│</span>   <span style=\"color: #7f7f7f; text-decoration-color: #7f7f7f\"> 75 </span><span style=\"color: #7f7f7f; text-decoration-color: #7f7f7f\">│   │   │   </span><span style=\"color: #0000ff; text-decoration-color: #0000ff\">continue</span>                                                                       <span style=\"color: #800000; text-decoration-color: #800000\">│</span>\n",
       "<span style=\"color: #800000; text-decoration-color: #800000\">╰──────────────────────────────────────────────────────────────────────────────────────────────────╯</span>\n",
       "<span style=\"color: #ff0000; text-decoration-color: #ff0000; font-weight: bold\">KeyboardInterrupt</span>\n",
       "</pre>\n"
      ],
      "text/plain": [
       "\u001b[31m╭─\u001b[0m\u001b[31m──────────────────────────────\u001b[0m\u001b[31m \u001b[0m\u001b[1;31mTraceback \u001b[0m\u001b[1;2;31m(most recent call last)\u001b[0m\u001b[31m \u001b[0m\u001b[31m───────────────────────────────\u001b[0m\u001b[31m─╮\u001b[0m\n",
       "\u001b[31m│\u001b[0m in \u001b[92m<module>\u001b[0m:\u001b[94m16\u001b[0m                                                                                   \u001b[31m│\u001b[0m\n",
       "\u001b[31m│\u001b[0m                                                                                                  \u001b[31m│\u001b[0m\n",
       "\u001b[31m│\u001b[0m   \u001b[2m13 \u001b[0m\u001b[2m│   │   \u001b[0m                                                                                    \u001b[31m│\u001b[0m\n",
       "\u001b[31m│\u001b[0m   \u001b[2m14 \u001b[0m\u001b[2m│   │   \u001b[0moptimizer.zero_grad()                                                               \u001b[31m│\u001b[0m\n",
       "\u001b[31m│\u001b[0m   \u001b[2m15 \u001b[0m\u001b[2m│   │   \u001b[0m                                                                                    \u001b[31m│\u001b[0m\n",
       "\u001b[31m│\u001b[0m \u001b[31m❱ \u001b[0m16 \u001b[2m│   │   \u001b[0mlogits, hidden = model(xb, hidden)                                                  \u001b[31m│\u001b[0m\n",
       "\u001b[31m│\u001b[0m   \u001b[2m17 \u001b[0m\u001b[2m│   │   \u001b[0m                                                                                    \u001b[31m│\u001b[0m\n",
       "\u001b[31m│\u001b[0m   \u001b[2m18 \u001b[0m\u001b[2m│   │   \u001b[0m\u001b[94mif\u001b[0m hidden \u001b[95mis\u001b[0m \u001b[95mnot\u001b[0m \u001b[94mNone\u001b[0m:                                                              \u001b[31m│\u001b[0m\n",
       "\u001b[31m│\u001b[0m   \u001b[2m19 \u001b[0m\u001b[2m│   │   │   \u001b[0m\u001b[94mfor\u001b[0m h \u001b[95min\u001b[0m hidden:                                                                \u001b[31m│\u001b[0m\n",
       "\u001b[31m│\u001b[0m                                                                                                  \u001b[31m│\u001b[0m\n",
       "\u001b[31m│\u001b[0m \u001b[33mc:\\Users\\Lakshya \u001b[0m                                                                                \u001b[31m│\u001b[0m\n",
       "\u001b[31m│\u001b[0m \u001b[33mAgarwal\\AppData\\Local\\Programs\\Python\\Python310\\lib\\site-packages\\torch\\nn\\modules\\module.py\u001b[0m:\u001b[94m150\u001b[0m \u001b[31m│\u001b[0m\n",
       "\u001b[31m│\u001b[0m \u001b[94m1\u001b[0m in \u001b[92m_call_impl\u001b[0m                                                                                  \u001b[31m│\u001b[0m\n",
       "\u001b[31m│\u001b[0m                                                                                                  \u001b[31m│\u001b[0m\n",
       "\u001b[31m│\u001b[0m   \u001b[2m1498 \u001b[0m\u001b[2m│   │   \u001b[0m\u001b[94mif\u001b[0m \u001b[95mnot\u001b[0m (\u001b[96mself\u001b[0m._backward_hooks \u001b[95mor\u001b[0m \u001b[96mself\u001b[0m._backward_pre_hooks \u001b[95mor\u001b[0m \u001b[96mself\u001b[0m._forward_hooks   \u001b[31m│\u001b[0m\n",
       "\u001b[31m│\u001b[0m   \u001b[2m1499 \u001b[0m\u001b[2m│   │   │   │   \u001b[0m\u001b[95mor\u001b[0m _global_backward_pre_hooks \u001b[95mor\u001b[0m _global_backward_hooks                   \u001b[31m│\u001b[0m\n",
       "\u001b[31m│\u001b[0m   \u001b[2m1500 \u001b[0m\u001b[2m│   │   │   │   \u001b[0m\u001b[95mor\u001b[0m _global_forward_hooks \u001b[95mor\u001b[0m _global_forward_pre_hooks):                   \u001b[31m│\u001b[0m\n",
       "\u001b[31m│\u001b[0m \u001b[31m❱ \u001b[0m1501 \u001b[2m│   │   │   \u001b[0m\u001b[94mreturn\u001b[0m forward_call(*args, **kwargs)                                          \u001b[31m│\u001b[0m\n",
       "\u001b[31m│\u001b[0m   \u001b[2m1502 \u001b[0m\u001b[2m│   │   \u001b[0m\u001b[2m# Do not call functions when jit is used\u001b[0m                                          \u001b[31m│\u001b[0m\n",
       "\u001b[31m│\u001b[0m   \u001b[2m1503 \u001b[0m\u001b[2m│   │   \u001b[0mfull_backward_hooks, non_full_backward_hooks = [], []                             \u001b[31m│\u001b[0m\n",
       "\u001b[31m│\u001b[0m   \u001b[2m1504 \u001b[0m\u001b[2m│   │   \u001b[0mbackward_pre_hooks = []                                                           \u001b[31m│\u001b[0m\n",
       "\u001b[31m│\u001b[0m                                                                                                  \u001b[31m│\u001b[0m\n",
       "\u001b[31m│\u001b[0m in \u001b[92mforward\u001b[0m:\u001b[94m44\u001b[0m                                                                                    \u001b[31m│\u001b[0m\n",
       "\u001b[31m│\u001b[0m                                                                                                  \u001b[31m│\u001b[0m\n",
       "\u001b[31m│\u001b[0m   \u001b[2m41 \u001b[0m\u001b[2m│   \u001b[0m) -> Tuple[torch.Tensor, Tuple[torch.Tensor, torch.Tensor]]:                            \u001b[31m│\u001b[0m\n",
       "\u001b[31m│\u001b[0m   \u001b[2m42 \u001b[0m\u001b[2m│   │   \u001b[0mx = \u001b[96mself\u001b[0m.embedding(x)                                                               \u001b[31m│\u001b[0m\n",
       "\u001b[31m│\u001b[0m   \u001b[2m43 \u001b[0m\u001b[2m│   │   \u001b[0mx, hidden = \u001b[96mself\u001b[0m.lstm(x, hidden)                                                    \u001b[31m│\u001b[0m\n",
       "\u001b[31m│\u001b[0m \u001b[31m❱ \u001b[0m44 \u001b[2m│   │   \u001b[0mx = \u001b[96mself\u001b[0m.linear(x)                                                                  \u001b[31m│\u001b[0m\n",
       "\u001b[31m│\u001b[0m   \u001b[2m45 \u001b[0m\u001b[2m│   │   \u001b[0m                                                                                    \u001b[31m│\u001b[0m\n",
       "\u001b[31m│\u001b[0m   \u001b[2m46 \u001b[0m\u001b[2m│   │   \u001b[0m\u001b[94mreturn\u001b[0m x, hidden                                                                    \u001b[31m│\u001b[0m\n",
       "\u001b[31m│\u001b[0m   \u001b[2m47 \u001b[0m                                                                                            \u001b[31m│\u001b[0m\n",
       "\u001b[31m│\u001b[0m                                                                                                  \u001b[31m│\u001b[0m\n",
       "\u001b[31m│\u001b[0m \u001b[33mc:\\Users\\Lakshya \u001b[0m                                                                                \u001b[31m│\u001b[0m\n",
       "\u001b[31m│\u001b[0m \u001b[33mAgarwal\\AppData\\Local\\Programs\\Python\\Python310\\lib\\site-packages\\torch\\nn\\modules\\module.py\u001b[0m:\u001b[94m150\u001b[0m \u001b[31m│\u001b[0m\n",
       "\u001b[31m│\u001b[0m \u001b[94m1\u001b[0m in \u001b[92m_call_impl\u001b[0m                                                                                  \u001b[31m│\u001b[0m\n",
       "\u001b[31m│\u001b[0m                                                                                                  \u001b[31m│\u001b[0m\n",
       "\u001b[31m│\u001b[0m   \u001b[2m1498 \u001b[0m\u001b[2m│   │   \u001b[0m\u001b[94mif\u001b[0m \u001b[95mnot\u001b[0m (\u001b[96mself\u001b[0m._backward_hooks \u001b[95mor\u001b[0m \u001b[96mself\u001b[0m._backward_pre_hooks \u001b[95mor\u001b[0m \u001b[96mself\u001b[0m._forward_hooks   \u001b[31m│\u001b[0m\n",
       "\u001b[31m│\u001b[0m   \u001b[2m1499 \u001b[0m\u001b[2m│   │   │   │   \u001b[0m\u001b[95mor\u001b[0m _global_backward_pre_hooks \u001b[95mor\u001b[0m _global_backward_hooks                   \u001b[31m│\u001b[0m\n",
       "\u001b[31m│\u001b[0m   \u001b[2m1500 \u001b[0m\u001b[2m│   │   │   │   \u001b[0m\u001b[95mor\u001b[0m _global_forward_hooks \u001b[95mor\u001b[0m _global_forward_pre_hooks):                   \u001b[31m│\u001b[0m\n",
       "\u001b[31m│\u001b[0m \u001b[31m❱ \u001b[0m1501 \u001b[2m│   │   │   \u001b[0m\u001b[94mreturn\u001b[0m forward_call(*args, **kwargs)                                          \u001b[31m│\u001b[0m\n",
       "\u001b[31m│\u001b[0m   \u001b[2m1502 \u001b[0m\u001b[2m│   │   \u001b[0m\u001b[2m# Do not call functions when jit is used\u001b[0m                                          \u001b[31m│\u001b[0m\n",
       "\u001b[31m│\u001b[0m   \u001b[2m1503 \u001b[0m\u001b[2m│   │   \u001b[0mfull_backward_hooks, non_full_backward_hooks = [], []                             \u001b[31m│\u001b[0m\n",
       "\u001b[31m│\u001b[0m   \u001b[2m1504 \u001b[0m\u001b[2m│   │   \u001b[0mbackward_pre_hooks = []                                                           \u001b[31m│\u001b[0m\n",
       "\u001b[31m│\u001b[0m                                                                                                  \u001b[31m│\u001b[0m\n",
       "\u001b[31m│\u001b[0m in \u001b[92mforward\u001b[0m:\u001b[94m11\u001b[0m                                                                                    \u001b[31m│\u001b[0m\n",
       "\u001b[31m│\u001b[0m                                                                                                  \u001b[31m│\u001b[0m\n",
       "\u001b[31m│\u001b[0m   \u001b[2m 8 \u001b[0m\u001b[2m│   │   \u001b[0mnn.init.xavier_uniform_(\u001b[96mself\u001b[0m.W)                                                     \u001b[31m│\u001b[0m\n",
       "\u001b[31m│\u001b[0m   \u001b[2m 9 \u001b[0m\u001b[2m│   \u001b[0m                                                                                        \u001b[31m│\u001b[0m\n",
       "\u001b[31m│\u001b[0m   \u001b[2m10 \u001b[0m\u001b[2m│   \u001b[0m\u001b[94mdef\u001b[0m \u001b[92mforward\u001b[0m(\u001b[96mself\u001b[0m, x: torch.Tensor) -> torch.Tensor:                                     \u001b[31m│\u001b[0m\n",
       "\u001b[31m│\u001b[0m \u001b[31m❱ \u001b[0m11 \u001b[2m│   │   \u001b[0m\u001b[94mreturn\u001b[0m torch.matmul(x, \u001b[96mself\u001b[0m.W) + \u001b[96mself\u001b[0m.b                                             \u001b[31m│\u001b[0m\n",
       "\u001b[31m│\u001b[0m   \u001b[2m12 \u001b[0m                                                                                            \u001b[31m│\u001b[0m\n",
       "\u001b[31m│\u001b[0m                                                                                                  \u001b[31m│\u001b[0m\n",
       "\u001b[31m│\u001b[0m \u001b[33mc:\\Users\\Lakshya \u001b[0m                                                                                \u001b[31m│\u001b[0m\n",
       "\u001b[31m│\u001b[0m \u001b[33mAgarwal\\AppData\\Local\\Programs\\Python\\Python310\\lib\\site-packages\\torch\\fx\\traceback.py\u001b[0m:\u001b[94m41\u001b[0m in    \u001b[31m│\u001b[0m\n",
       "\u001b[31m│\u001b[0m \u001b[92mformat_stack\u001b[0m                                                                                     \u001b[31m│\u001b[0m\n",
       "\u001b[31m│\u001b[0m                                                                                                  \u001b[31m│\u001b[0m\n",
       "\u001b[31m│\u001b[0m   \u001b[2m38 \u001b[0m\u001b[2m│   │   \u001b[0m\u001b[94mreturn\u001b[0m [current_meta.get(\u001b[33m\"\u001b[0m\u001b[33mstack_trace\u001b[0m\u001b[33m\"\u001b[0m, \u001b[33m\"\u001b[0m\u001b[33m\"\u001b[0m)]                                        \u001b[31m│\u001b[0m\n",
       "\u001b[31m│\u001b[0m   \u001b[2m39 \u001b[0m\u001b[2m│   \u001b[0m\u001b[94melse\u001b[0m:                                                                                   \u001b[31m│\u001b[0m\n",
       "\u001b[31m│\u001b[0m   \u001b[2m40 \u001b[0m\u001b[2m│   │   \u001b[0m\u001b[2m# fallback to traceback.format_stack()\u001b[0m                                              \u001b[31m│\u001b[0m\n",
       "\u001b[31m│\u001b[0m \u001b[31m❱ \u001b[0m41 \u001b[2m│   │   \u001b[0m\u001b[94mreturn\u001b[0m traceback.format_list(traceback.extract_stack()[:-\u001b[94m1\u001b[0m])                        \u001b[31m│\u001b[0m\n",
       "\u001b[31m│\u001b[0m   \u001b[2m42 \u001b[0m                                                                                            \u001b[31m│\u001b[0m\n",
       "\u001b[31m│\u001b[0m   \u001b[2m43 \u001b[0m                                                                                            \u001b[31m│\u001b[0m\n",
       "\u001b[31m│\u001b[0m   \u001b[2m44 \u001b[0m\u001b[1;95m@compatibility\u001b[0m(is_backward_compatible=\u001b[94mFalse\u001b[0m)                                                \u001b[31m│\u001b[0m\n",
       "\u001b[31m│\u001b[0m                                                                                                  \u001b[31m│\u001b[0m\n",
       "\u001b[31m│\u001b[0m \u001b[33mc:\\Users\\Lakshya Agarwal\\AppData\\Local\\Programs\\Python\\Python310\\lib\\traceback.py\u001b[0m:\u001b[94m227\u001b[0m in         \u001b[31m│\u001b[0m\n",
       "\u001b[31m│\u001b[0m \u001b[92mextract_stack\u001b[0m                                                                                    \u001b[31m│\u001b[0m\n",
       "\u001b[31m│\u001b[0m                                                                                                  \u001b[31m│\u001b[0m\n",
       "\u001b[31m│\u001b[0m   \u001b[2m224 \u001b[0m\u001b[2;33m│   \u001b[0m\u001b[33m\"\"\"\u001b[0m                                                                                    \u001b[31m│\u001b[0m\n",
       "\u001b[31m│\u001b[0m   \u001b[2m225 \u001b[0m\u001b[2m│   \u001b[0m\u001b[94mif\u001b[0m f \u001b[95mis\u001b[0m \u001b[94mNone\u001b[0m:                                                                          \u001b[31m│\u001b[0m\n",
       "\u001b[31m│\u001b[0m   \u001b[2m226 \u001b[0m\u001b[2m│   │   \u001b[0mf = sys._getframe().f_back                                                         \u001b[31m│\u001b[0m\n",
       "\u001b[31m│\u001b[0m \u001b[31m❱ \u001b[0m227 \u001b[2m│   \u001b[0mstack = StackSummary.extract(walk_stack(f), limit=limit)                               \u001b[31m│\u001b[0m\n",
       "\u001b[31m│\u001b[0m   \u001b[2m228 \u001b[0m\u001b[2m│   \u001b[0mstack.reverse()                                                                        \u001b[31m│\u001b[0m\n",
       "\u001b[31m│\u001b[0m   \u001b[2m229 \u001b[0m\u001b[2m│   \u001b[0m\u001b[94mreturn\u001b[0m stack                                                                           \u001b[31m│\u001b[0m\n",
       "\u001b[31m│\u001b[0m   \u001b[2m230 \u001b[0m                                                                                           \u001b[31m│\u001b[0m\n",
       "\u001b[31m│\u001b[0m                                                                                                  \u001b[31m│\u001b[0m\n",
       "\u001b[31m│\u001b[0m \u001b[33mc:\\Users\\Lakshya Agarwal\\AppData\\Local\\Programs\\Python\\Python310\\lib\\traceback.py\u001b[0m:\u001b[94m379\u001b[0m in \u001b[92mextract\u001b[0m \u001b[31m│\u001b[0m\n",
       "\u001b[31m│\u001b[0m                                                                                                  \u001b[31m│\u001b[0m\n",
       "\u001b[31m│\u001b[0m   \u001b[2m376 \u001b[0m\u001b[2m│   │   │   \u001b[0mresult.append(FrameSummary(                                                    \u001b[31m│\u001b[0m\n",
       "\u001b[31m│\u001b[0m   \u001b[2m377 \u001b[0m\u001b[2m│   │   │   │   \u001b[0mfilename, lineno, name, lookup_line=\u001b[94mFalse\u001b[0m, \u001b[96mlocals\u001b[0m=f_locals))               \u001b[31m│\u001b[0m\n",
       "\u001b[31m│\u001b[0m   \u001b[2m378 \u001b[0m\u001b[2m│   │   \u001b[0m\u001b[94mfor\u001b[0m filename \u001b[95min\u001b[0m fnames:                                                            \u001b[31m│\u001b[0m\n",
       "\u001b[31m│\u001b[0m \u001b[31m❱ \u001b[0m379 \u001b[2m│   │   │   \u001b[0mlinecache.checkcache(filename)                                                 \u001b[31m│\u001b[0m\n",
       "\u001b[31m│\u001b[0m   \u001b[2m380 \u001b[0m\u001b[2m│   │   \u001b[0m\u001b[2m# If immediate lookup was desired, trigger lookups now.\u001b[0m                            \u001b[31m│\u001b[0m\n",
       "\u001b[31m│\u001b[0m   \u001b[2m381 \u001b[0m\u001b[2m│   │   \u001b[0m\u001b[94mif\u001b[0m lookup_lines:                                                                   \u001b[31m│\u001b[0m\n",
       "\u001b[31m│\u001b[0m   \u001b[2m382 \u001b[0m\u001b[2m│   │   │   \u001b[0m\u001b[94mfor\u001b[0m f \u001b[95min\u001b[0m result:                                                               \u001b[31m│\u001b[0m\n",
       "\u001b[31m│\u001b[0m                                                                                                  \u001b[31m│\u001b[0m\n",
       "\u001b[31m│\u001b[0m \u001b[33mc:\\Users\\Lakshya Agarwal\\AppData\\Local\\Programs\\Python\\Python310\\lib\\linecache.py\u001b[0m:\u001b[94m72\u001b[0m in          \u001b[31m│\u001b[0m\n",
       "\u001b[31m│\u001b[0m \u001b[92mcheckcache\u001b[0m                                                                                       \u001b[31m│\u001b[0m\n",
       "\u001b[31m│\u001b[0m                                                                                                  \u001b[31m│\u001b[0m\n",
       "\u001b[31m│\u001b[0m   \u001b[2m 69 \u001b[0m\u001b[2m│   │   \u001b[0m\u001b[94mif\u001b[0m mtime \u001b[95mis\u001b[0m \u001b[94mNone\u001b[0m:                                                                  \u001b[31m│\u001b[0m\n",
       "\u001b[31m│\u001b[0m   \u001b[2m 70 \u001b[0m\u001b[2m│   │   │   \u001b[0m\u001b[94mcontinue\u001b[0m   \u001b[2m# no-op for files loaded via a __loader__\u001b[0m                           \u001b[31m│\u001b[0m\n",
       "\u001b[31m│\u001b[0m   \u001b[2m 71 \u001b[0m\u001b[2m│   │   \u001b[0m\u001b[94mtry\u001b[0m:                                                                               \u001b[31m│\u001b[0m\n",
       "\u001b[31m│\u001b[0m \u001b[31m❱ \u001b[0m 72 \u001b[2m│   │   │   \u001b[0mstat = os.stat(fullname)                                                       \u001b[31m│\u001b[0m\n",
       "\u001b[31m│\u001b[0m   \u001b[2m 73 \u001b[0m\u001b[2m│   │   \u001b[0m\u001b[94mexcept\u001b[0m \u001b[96mOSError\u001b[0m:                                                                    \u001b[31m│\u001b[0m\n",
       "\u001b[31m│\u001b[0m   \u001b[2m 74 \u001b[0m\u001b[2m│   │   │   \u001b[0mcache.pop(filename, \u001b[94mNone\u001b[0m)                                                      \u001b[31m│\u001b[0m\n",
       "\u001b[31m│\u001b[0m   \u001b[2m 75 \u001b[0m\u001b[2m│   │   │   \u001b[0m\u001b[94mcontinue\u001b[0m                                                                       \u001b[31m│\u001b[0m\n",
       "\u001b[31m╰──────────────────────────────────────────────────────────────────────────────────────────────────╯\u001b[0m\n",
       "\u001b[1;91mKeyboardInterrupt\u001b[0m\n"
      ]
     },
     "metadata": {},
     "output_type": "display_data"
    }
   ],
   "source": [
    "NUM_EPOCHS = 10\n",
    "loss_history = []\n",
    "\n",
    "for epoch in range(NUM_EPOCHS):\n",
    "    model.train()\n",
    "    train_loss = 0.0\n",
    "    num_batches = 0\n",
    "\n",
    "    for step, (xb, yb) in enumerate(get_batch(\"train\", BATCH_SIZE, SEQ_LEN)):\n",
    "        xb, yb = xb.to(device), yb.to(device)\n",
    "\n",
    "        hidden = None\n",
    "\n",
    "        optimizer.zero_grad()\n",
    "\n",
    "        logits, hidden = model(xb, hidden)\n",
    "\n",
    "        if hidden is not None:\n",
    "            for h in hidden:\n",
    "                for state in h:\n",
    "                    state.detach_()\n",
    "\n",
    "        yb = yb.view(-1)\n",
    "        logits = logits.view(-1, logits.size(-1))\n",
    "\n",
    "        loss = criterion(logits, yb)\n",
    "\n",
    "        loss.backward()\n",
    "        optimizer.step()\n",
    "\n",
    "        loss_history.append(loss.item())\n",
    "        train_loss += loss.item()\n",
    "        num_batches += 1\n",
    "\n",
    "        if step % 50 == 0:\n",
    "            inf_out = model.generate(\"to be or not to be: \", n=100, temperature=0.5)\n",
    "            print(f\"Epoch {epoch + 1}/{NUM_EPOCHS} - Loss: {loss.item():.4f}\")\n",
    "            print(f'Inference:\\n{\"\".join(inf_out)}')\n",
    "            print(\"-\" * 100)\n",
    "\n",
    "            # Set model back to training mode\n",
    "            model.train()\n",
    "\n",
    "    average_loss = train_loss / num_batches\n",
    "    print(f\"Epoch {epoch + 1}/{NUM_EPOCHS} - Average Loss: {average_loss:.4f}\")"
   ]
  },
  {
   "cell_type": "markdown",
   "metadata": {},
   "source": [
    "With that, the model should start training. Of course, the implementation is quite slow as compared to the PyTorch implementation, primarily because of the lack of vectorization in many places. However, it is a good exercise to understand how the model works under the hood. After a few epochs, let's look at the loss curve and the generated text.\n"
   ]
  },
  {
   "cell_type": "code",
   "execution_count": 184,
   "metadata": {},
   "outputs": [
    {
     "data": {
      "text/html": [
       "<pre style=\"white-space:pre;overflow-x:auto;line-height:normal;font-family:Menlo,'DejaVu Sans Mono',consolas,'Courier New',monospace\"></pre>\n"
      ],
      "text/plain": []
     },
     "metadata": {},
     "output_type": "display_data"
    },
    {
     "data": {
      "text/plain": [
       "\u001b[1m[\u001b[0m\u001b[1m<\u001b[0m\u001b[1;95mmatplotlib.lines.Line2D\u001b[0m\u001b[39m object at \u001b[0m\u001b[1;36m0x00000180F62FA0E0\u001b[0m\u001b[1m>\u001b[0m\u001b[1m]\u001b[0m"
      ]
     },
     "execution_count": 184,
     "metadata": {},
     "output_type": "execute_result"
    },
    {
     "data": {
      "text/html": [
       "<pre style=\"white-space:pre;overflow-x:auto;line-height:normal;font-family:Menlo,'DejaVu Sans Mono',consolas,'Courier New',monospace\"></pre>\n"
      ],
      "text/plain": []
     },
     "metadata": {},
     "output_type": "display_data"
    },
    {
     "data": {
      "image/png": "[encoded data removed]",
      "text/plain": [
       "\u001b[1m<\u001b[0m\u001b[1;95mFigure\u001b[0m\u001b[39m size 64\u001b[0m\u001b[1;36m0x480\u001b[0m\u001b[39m with \u001b[0m\u001b[1;36m1\u001b[0m\u001b[39m Axes\u001b[0m\u001b[1m>\u001b[0m"
      ]
     },
     "metadata": {},
     "output_type": "display_data"
    }
   ],
   "source": [
    "plt.plot(loss_history)"
   ]
  },
  {
   "cell_type": "code",
   "execution_count": 185,
   "metadata": {},
   "outputs": [],
   "source": [
    "torch.save(model.state_dict(), \"model.pth\")"
   ]
  },
  {
   "cell_type": "markdown",
   "metadata": {},
   "source": [
    "# Sampling from the model\n"
   ]
  },
  {
   "cell_type": "code",
   "execution_count": 186,
   "metadata": {},
   "outputs": [
    {
     "data": {
      "text/html": [
       "<pre style=\"white-space:pre;overflow-x:auto;line-height:normal;font-family:Menlo,'DejaVu Sans Mono',consolas,'Courier New',monospace\"></pre>\n"
      ],
      "text/plain": []
     },
     "metadata": {},
     "output_type": "display_data"
    },
    {
     "data": {
      "text/plain": [
       "\u001b[1m<\u001b[0m\u001b[1;95mAll\u001b[0m\u001b[39m keys matched successfully\u001b[0m\u001b[1m>\u001b[0m"
      ]
     },
     "execution_count": 186,
     "metadata": {},
     "output_type": "execute_result"
    }
   ],
   "source": [
    "model = ShakespeareModel(\n",
    "    VOCAB_SIZE, EMBEDDING_DIM, HIDDEN_DIM, NUM_LAYERS, dropout=0.2\n",
    ").to(device)\n",
    "\n",
    "model.load_state_dict(torch.load(\"model.pth\"))\n"
   ]
  },
  {
   "cell_type": "code",
   "execution_count": 188,
   "metadata": {},
   "outputs": [
    {
     "name": "stdout",
     "output_type": "stream",
     "text": [
      "ANTONIO:\n",
      "I will you will of come of Clarence, as a words to was the father can with the auther.\n",
      "\n",
      "CORIOLANUS:\n",
      "What is the such with a somethange,\n",
      "And not for the duke of sir, this is our rest, and then the is the streak of the friends and most soul,\n",
      "I have to would the forget in this brother command of the was become it be confessed the people arms\n",
      "And then you sweet part in the country of the world, and stall the comples of her soul and were the lady and before I am come to thee\n",
      "That heart the follow shall be dead to see the people my father's death,\n",
      "And prove your reculs of the sharl you be the contents and my lords:\n",
      "And have in the keal among with the man that have an it with heart.\n",
      "\n",
      "DUKE VINCENTIO:\n",
      "Who hast can me so were the strike of the proceacher,\n",
      "That shall not fair not have so mark thy constants of the sea the sing in a life,\n",
      "And the shall on the man and in a while we should not will the fair wears to the part and the queen\n",
      "The earth the call to her be now to the did provise him to pa"
     ]
    }
   ],
   "source": [
    "x0 = \"ANTONIO:\"  # starting sequence\n",
    "\n",
    "MAX_LEN = 1000\n",
    "\n",
    "sys.stdout.write(x0)\n",
    "for char in model.generate(x0, n=MAX_LEN, temperature=0.5):\n",
    "    sys.stdout.write(char)\n",
    "    sys.stdout.flush()"
   ]
  },
  {
   "cell_type": "markdown",
   "metadata": {},
   "source": [
    "With only 1 hour of training, the model has learned to output text in the style of Shakespeare, characterized by prose-like sentences and archaic language. Of course, there are still some mistakes in the text, but those can be fixed with more training and hyperparameter tuning. \n"
   ]
  },
  {
   "cell_type": "code",
   "execution_count": 155,
   "metadata": {},
   "outputs": [
    {
     "data": {
      "text/html": [
       "<pre style=\"white-space:pre;overflow-x:auto;line-height:normal;font-family:Menlo,'DejaVu Sans Mono',consolas,'Courier New',monospace\"></pre>\n"
      ],
      "text/plain": []
     },
     "metadata": {},
     "output_type": "display_data"
    },
    {
     "data": {
      "image/png": "[encoded data removed]",
      "text/plain": [
       "\u001b[1m<\u001b[0m\u001b[1;95mFigure\u001b[0m\u001b[39m size 200\u001b[0m\u001b[1;36m0x1000\u001b[0m\u001b[39m with \u001b[0m\u001b[1;36m4\u001b[0m\u001b[39m Axes\u001b[0m\u001b[1m>\u001b[0m"
      ]
     },
     "metadata": {},
     "output_type": "display_data"
    }
   ],
   "source": [
    "logits, _ = model(xb[:4])\n",
    "\n",
    "visualize_predictions(xb[:4], logits, s, k=10)"
   ]
  }
 ],
 "metadata": {
  "kernelspec": {
   "display_name": "Python 3",
   "language": "python",
   "name": "python3"
  },
  "language_info": {
   "codemirror_mode": {
    "name": "ipython",
    "version": 3
   },
   "file_extension": ".py",
   "mimetype": "text/x-python",
   "name": "python",
   "nbconvert_exporter": "python",
   "pygments_lexer": "ipython3",
   "version": "3.10.11"
  }
 },
 "nbformat": 4,
 "nbformat_minor": 2
}
